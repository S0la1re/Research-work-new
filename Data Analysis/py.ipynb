{
 "cells": [
  {
   "cell_type": "markdown",
   "id": "03a7673f",
   "metadata": {},
   "source": []
  },
  {
   "cell_type": "code",
   "execution_count": 38,
   "id": "881b37e3",
   "metadata": {},
   "outputs": [],
   "source": [
    "import pandas as pd\n",
    "import seaborn as sns\n",
    "import matplotlib.pyplot as plt"
   ]
  },
  {
   "cell_type": "code",
   "execution_count": 3,
   "id": "2623417c",
   "metadata": {},
   "outputs": [
    {
     "data": {
      "application/vnd.microsoft.datawrangler.viewer.v0+json": {
       "columns": [
        {
         "name": "index",
         "rawType": "int64",
         "type": "integer"
        },
        {
         "name": "Location",
         "rawType": "object",
         "type": "string"
        },
        {
         "name": "Region",
         "rawType": "object",
         "type": "string"
        },
        {
         "name": "EU Member",
         "rawType": "bool",
         "type": "boolean"
        },
        {
         "name": "Schengen Agreement",
         "rawType": "bool",
         "type": "boolean"
        },
        {
         "name": "Google Domain Type",
         "rawType": "object",
         "type": "string"
        },
        {
         "name": "Google Domain Used",
         "rawType": "object",
         "type": "string"
        },
        {
         "name": "Job Title",
         "rawType": "object",
         "type": "string"
        },
        {
         "name": "Company Name",
         "rawType": "object",
         "type": "string"
        },
        {
         "name": "Job Location",
         "rawType": "object",
         "type": "string"
        },
        {
         "name": "Apply Options",
         "rawType": "object",
         "type": "string"
        },
        {
         "name": "Job Description",
         "rawType": "object",
         "type": "string"
        },
        {
         "name": "Work from home",
         "rawType": "object",
         "type": "unknown"
        },
        {
         "name": "Salary",
         "rawType": "object",
         "type": "unknown"
        },
        {
         "name": "Schedule type",
         "rawType": "object",
         "type": "string"
        },
        {
         "name": "Qualifications",
         "rawType": "object",
         "type": "string"
        },
        {
         "name": "Job ID",
         "rawType": "object",
         "type": "string"
        },
        {
         "name": "Search Date",
         "rawType": "object",
         "type": "string"
        },
        {
         "name": "Search Query",
         "rawType": "object",
         "type": "string"
        },
        {
         "name": "Language",
         "rawType": "object",
         "type": "string"
        },
        {
         "name": "Language Name",
         "rawType": "object",
         "type": "string"
        },
        {
         "name": "Job Description English",
         "rawType": "object",
         "type": "string"
        },
        {
         "name": "Job Description Extracted",
         "rawType": "object",
         "type": "string"
        },
        {
         "name": "Platform",
         "rawType": "object",
         "type": "string"
        },
        {
         "name": "Salary_E",
         "rawType": "object",
         "type": "string"
        },
        {
         "name": "Requirements",
         "rawType": "object",
         "type": "string"
        },
        {
         "name": "Nice to have",
         "rawType": "object",
         "type": "string"
        },
        {
         "name": "Responsibilities",
         "rawType": "object",
         "type": "string"
        },
        {
         "name": "Benefits",
         "rawType": "object",
         "type": "string"
        },
        {
         "name": "Full Requirements",
         "rawType": "object",
         "type": "string"
        },
        {
         "name": "Extracted Technologies GPT",
         "rawType": "object",
         "type": "string"
        },
        {
         "name": "Extracted Technologies Clean",
         "rawType": "object",
         "type": "string"
        },
        {
         "name": "Technologies Only",
         "rawType": "object",
         "type": "unknown"
        },
        {
         "name": "Technologies Categorized",
         "rawType": "object",
         "type": "string"
        },
        {
         "name": "Tech_dict",
         "rawType": "object",
         "type": "string"
        },
        {
         "name": "architectural_patterns",
         "rawType": "object",
         "type": "unknown"
        },
        {
         "name": "asynchronous_parallel_and_reactive_programming",
         "rawType": "object",
         "type": "unknown"
        },
        {
         "name": "backend_or_baas_integration",
         "rawType": "object",
         "type": "unknown"
        },
        {
         "name": "build_and_dependency_management",
         "rawType": "object",
         "type": "unknown"
        },
        {
         "name": "ci_cd_and_release_automation",
         "rawType": "object",
         "type": "unknown"
        },
        {
         "name": "code_quality_and_static_analysis",
         "rawType": "object",
         "type": "unknown"
        },
        {
         "name": "collaboration_pm_and_design_handoff",
         "rawType": "object",
         "type": "unknown"
        },
        {
         "name": "data_and_caching",
         "rawType": "object",
         "type": "unknown"
        },
        {
         "name": "debugging_or_profiling",
         "rawType": "object",
         "type": "unknown"
        },
        {
         "name": "dependency_injection_frameworks",
         "rawType": "object",
         "type": "unknown"
        },
        {
         "name": "development_methodologies",
         "rawType": "object",
         "type": "unknown"
        },
        {
         "name": "device_and_platform_services_and_third_party_sdks",
         "rawType": "object",
         "type": "unknown"
        },
        {
         "name": "distribution_and_store_operations",
         "rawType": "object",
         "type": "unknown"
        },
        {
         "name": "documentation_and_knowledge_sharing",
         "rawType": "object",
         "type": "unknown"
        },
        {
         "name": "engineering_practices_and_devops",
         "rawType": "object",
         "type": "unknown"
        },
        {
         "name": "game_engines",
         "rawType": "object",
         "type": "unknown"
        },
        {
         "name": "ide_and_code_editors",
         "rawType": "object",
         "type": "unknown"
        },
        {
         "name": "languages_and_runtimes",
         "rawType": "object",
         "type": "unknown"
        },
        {
         "name": "monitoring_analytics_and_crash_reporting",
         "rawType": "object",
         "type": "unknown"
        },
        {
         "name": "native_interop",
         "rawType": "object",
         "type": "unknown"
        },
        {
         "name": "networking_and_api",
         "rawType": "object",
         "type": "unknown"
        },
        {
         "name": "security_and_cryptography",
         "rawType": "object",
         "type": "unknown"
        },
        {
         "name": "testing_frameworks",
         "rawType": "object",
         "type": "unknown"
        },
        {
         "name": "ui_cross_platform",
         "rawType": "object",
         "type": "unknown"
        },
        {
         "name": "ui_guidelines",
         "rawType": "object",
         "type": "unknown"
        },
        {
         "name": "ui_native",
         "rawType": "object",
         "type": "unknown"
        },
        {
         "name": "version_control_and_branching",
         "rawType": "object",
         "type": "unknown"
        }
       ],
       "conversionMethod": "pd.DataFrame",
       "ref": "0e28ce81-00b4-4cc2-84d1-963f6097ce21",
       "rows": [
        [
         "0",
         "Austria",
         "Europe",
         "True",
         "True",
         "default",
         "google.com",
         "Android Developer – Kotlin (Austria based, Hybrid)",
         "Bitcoin Devs Company",
         "Vienna, Austria",
         "Jobs3",
         "Overview:\r\nThe Android Developer – Kotlin position is a critical role within our organization, responsible for developing and maintaining high-quality mobile applications on the Android platform using Kotlin. This role plays a vital part in our company’s technological growth and is instrumental in delivering exceptional user experiences.\r\n\r\nKey Responsibilities:\r\n• Ensure that the app meets our quality standards by creating unit tests and doing code reviews\r\n• Design and maintain the architecture of new features and existing ones\r\n• Collaborate with cross-functional teams, designers and technical product owners\r\n• Stay up to date with programming best practices and new technology trends\r\n• Working autonomously you will bring strong communication skills and the ability to mentor colleagues\r\n\r\nRequired Qualifications:\r\n• Passionate about mobile platforms and translating requirements into a user friendly app\r\n• Excellent knowledge of Kotlin\r\n• Strong knowledge of architecture patterns such as MVVM\r\n• Proven experience of developing and publishing native Android apps to the Google Play store in a professional environment\r\n• Good knowledge of Kotlin Coroutines, Hilt and Retrofit.",
         null,
         null,
         "Contractor",
         "No degree mentioned",
         "eyJqb2JfdGl0bGUiOiJBbmRyb2lkIERldmVsb3BlciDigJMgS290bGluIChBdXN0cmlhIGJhc2VkLCBIeWJyaWQpIiwiY29tcGFueV9uYW1lIjoiQml0Y29pbiBEZXZzIENvbXBhbnkiLCJhZGRyZXNzX2NpdHkiOiJWaWVubmEsIEF1c3RyaWEiLCJodGlkb2NpZCI6IkpETURFcWVrYlAyOGkxU0VBQUFBQUE9PSIsInV1bGUiOiJ3K0NBSVFJQ0lIUVhWemRISnBZUSJ9",
         "2025-01-13 12:08:48 UTC",
         "Android developer",
         "en",
         "English",
         "Overview:\r\nThe Android Developer – Kotlin position is a critical role within our organization, responsible for developing and maintaining high-quality mobile applications on the Android platform using Kotlin. This role plays a vital part in our company’s technological growth and is instrumental in delivering exceptional user experiences.\r\n\r\nKey Responsibilities:\r\n• Ensure that the app meets our quality standards by creating unit tests and doing code reviews\r\n• Design and maintain the architecture of new features and existing ones\r\n• Collaborate with cross-functional teams, designers and technical product owners\r\n• Stay up to date with programming best practices and new technology trends\r\n• Working autonomously you will bring strong communication skills and the ability to mentor colleagues\r\n\r\nRequired Qualifications:\r\n• Passionate about mobile platforms and translating requirements into a user friendly app\r\n• Excellent knowledge of Kotlin\r\n• Strong knowledge of architecture patterns such as MVVM\r\n• Proven experience of developing and publishing native Android apps to the Google Play store in a professional environment\r\n• Good knowledge of Kotlin Coroutines, Hilt and Retrofit.",
         "1. Platform: Android  \r\n2. Salary: Not mentioned  \r\n3. Requirements:  \r\n   • Passionate about mobile platforms and translating requirements into a user friendly app  \r\n   • Excellent knowledge of Kotlin  \r\n   • Strong knowledge of architecture patterns such as MVVM  \r\n   • Proven experience of developing and publishing native Android apps to the Google Play store in a professional environment  \r\n   • Good knowledge of Kotlin Coroutines, Hilt and Retrofit.  \r\n4. Nice to have: Not mentioned  \r\n5. Responsibilities:  \r\n   • Ensure that the app meets our quality standards by creating unit tests and doing code reviews  \r\n   • Design and maintain the architecture of new features and existing ones  \r\n   • Collaborate with cross-functional teams, designers and technical product owners  \r\n   • Stay up to date with programming best practices and new technology trends  \r\n   • Working autonomously you will bring strong communication skills and the ability to mentor colleagues  \r\n6. Benefits: Not mentioned  ",
         "Android",
         "Not mentioned",
         "• Passionate about mobile platforms and translating requirements into a user friendly app  \r\n   • Excellent knowledge of Kotlin  \r\n   • Strong knowledge of architecture patterns such as MVVM  \r\n   • Proven experience of developing and publishing native Android apps to the Google Play store in a professional environment  \r\n   • Good knowledge of Kotlin Coroutines, Hilt and Retrofit.",
         "Not mentioned",
         "• Ensure that the app meets our quality standards by creating unit tests and doing code reviews  \r\n   • Design and maintain the architecture of new features and existing ones  \r\n   • Collaborate with cross-functional teams, designers and technical product owners  \r\n   • Stay up to date with programming best practices and new technology trends  \r\n   • Working autonomously you will bring strong communication skills and the ability to mentor colleagues",
         "Not mentioned",
         "3. Requirements:\r\n• Passionate about mobile platforms and translating requirements into a user friendly app  \r\n   • Excellent knowledge of Kotlin  \r\n   • Strong knowledge of architecture patterns such as MVVM  \r\n   • Proven experience of developing and publishing native Android apps to the Google Play store in a professional environment  \r\n   • Good knowledge of Kotlin Coroutines, Hilt and Retrofit.\r\n\r\n4. Nice to have:\r\nNot mentioned\r\n\r\n5. Responsibilities:\r\n• Ensure that the app meets our quality standards by creating unit tests and doing code reviews  \r\n   • Design and maintain the architecture of new features and existing ones  \r\n   • Collaborate with cross-functional teams, designers and technical product owners  \r\n   • Stay up to date with programming best practices and new technology trends  \r\n   • Working autonomously you will bring strong communication skills and the ability to mentor colleagues",
         "{\r\n    \"languages_and_runtimes\":[\"Kotlin\",\"Coroutines\"],\r\n    \"architectural_patterns\":[\"MVVM\"],\r\n    \"dependency_injection_frameworks\":[\"Hilt\"],\r\n    \"networking_and_api\":[\"Retrofit\"],\r\n    \"distribution_and_store_operations\":[\"Google Play Console\"]\r\n}",
         "{\"languages_and_runtimes\": [\"Kotlin\", \"Coroutines\"], \"architectural_patterns\": [\"MVVM\"], \"dependency_injection_frameworks\": [\"Hilt\"], \"networking_and_api\": [\"Retrofit\"], \"distribution_and_store_operations\": [\"Google Play Console\"]}",
         "kotlin, kotlin coroutines, mvvm, hilt, retrofit, google play console",
         "{'languages_and_runtimes': ['Kotlin'], 'asynchronous_parallel_and_reactive_programming': ['Kotlin Coroutines'], 'architectural_patterns': ['MVVM'], 'dependency_injection_frameworks': ['Hilt'], 'networking_and_api': ['Retrofit'], 'distribution_and_store_operations': ['Google Play Console']}",
         "{'languages_and_runtimes': ['Kotlin'], 'asynchronous_parallel_and_reactive_programming': ['Kotlin Coroutines'], 'architectural_patterns': ['MVVM'], 'dependency_injection_frameworks': ['Hilt'], 'networking_and_api': ['Retrofit'], 'distribution_and_store_operations': ['Google Play Console']}",
         "MVVM",
         "Kotlin Coroutines",
         null,
         null,
         null,
         null,
         null,
         null,
         null,
         "Hilt",
         null,
         null,
         "Google Play Console",
         null,
         null,
         null,
         null,
         "Kotlin",
         null,
         null,
         "Retrofit",
         null,
         null,
         null,
         null,
         null,
         null
        ],
        [
         "1",
         "Austria",
         "Europe",
         "True",
         "True",
         "default",
         "google.com",
         "ios entwickler 80–100% w/m/d",
         "CHANCENLAND VORARLBERG",
         "Dornbirn, Austria",
         "IT-Career.at, STEMJOBS.AT, IT-JOBS.AT",
         "ios entwickler 80–100% w/m/d\r\n\r\nStellenbeschreibung\r\nDu arbeitest mit uns an interessanten Projekten für völlig unterschiedliche Kunden und Branchen. Vom ersten Meeting an über die erste Code-Zeile bis hin zum Release bist du voll mit involviert und trägst mit deiner Arbeit maßgeblich zum Erfolg des Projekts bei.\r\nAnforderungen\r\n\r\nmotivation vor erfahrung: Neugier, Interesse und der Wille, die Zukunft des Internets mitzugestalten, zählen bei uns mehr als dokumentierte geleistete Dienstjahre. Wir wollen lodernde Begeisterung spüren und deine Auffassungsgabe herausfordern. Nach deinem Eintritt sorgen wir für eine so steile Lernkurve, wie du sie gerade noch verarbeiten kannst. Egal ob du frisch/quer einsteigst oder bereits ein alter Hase im App-Zirkus bist.\r\n\r\naugenhöhe: Hast du Angst vor klaren Ansagen und leidenschaftlichen Argumenten? Wir stehen zu unserer Meinung und verlangen dasselbe von dir. Sag uns, was du denkst. Mal hast du Recht, ein anderes Mal wir. Offenheit ist in der DNA von arkulpa. Nachtragend zu sein hingegen nicht.\r\n\r\ntechnologie: Kein Blaming, kein Shaming. Wer verändert, lernt ständig. Wir bestrafen Innovationswille nicht, sondern glauben an die Kraft neuer Tools und Konzepte – wenn sie unseren Kunden und unserem Team helfen, besser zu werden. Für jede Aufgabe den passenden Stack zu finden hält uns wach und macht Spaß.\r\n\r\nWeitere Informationen\r\nDu arbeitest mit uns an interessanten Projekten für völlig unterschiedliche Kunden und Branchen. Vom ersten Meeting an über die erste Code-Zeile bis hin zum Release bist du voll mit involviert und trägst mit deiner Arbeit maßgeblich zum Erfolg des Projekts bei.\r\n\r\nEin kompaktes, kampferprobtes Team und flache Hierarchien\r\nGear deiner Wahl, natürlich brandneu\r\nFlexible Arbeitszeiten und gute Bezahlung\r\nEin topmodernes und gemütliches Penthouse-Office in Lustenau",
         null,
         null,
         "Full-time",
         "No degree mentioned",
         "eyJqb2JfdGl0bGUiOiJpb3MgZW50d2lja2xlciA4MOKAkzEwMCUgdy9tL2QiLCJjb21wYW55X25hbWUiOiJDSEFOQ0VOTEFORCBWT1JBUkxCRVJHIiwiYWRkcmVzc19jaXR5IjoiRG9ybmJpcm4sIEF1c3RyaWEiLCJodGlkb2NpZCI6IlI2bGFZTG9UUXZYc0pDVTdBQUFBQUE9PSIsInV1bGUiOiJ3K0NBSVFJQ0lIUVhWemRISnBZUSJ9",
         "2025-01-13 12:20:42 UTC",
         "iOS developer",
         "de",
         "German",
         "**iOS Developer 80–100% w/m/d**\r\n\r\n**Job Description**  \r\nYou will work with us on exciting projects for a wide variety of clients and industries. From the first meeting to the first line of code and all the way to the release, you will be fully involved and contribute significantly to the success of the project through your work.\r\n\r\n**Requirements**  \r\n\r\n- **Motivation over experience:** Curiosity, interest, and the drive to shape the future of the internet are more important to us than documented years of service. We want to feel your burning enthusiasm and challenge your ability to grasp new concepts. After you join, we’ll ensure you have a steep learning curve—just enough to keep you on your toes. Whether you’re a newcomer, a career changer, or a seasoned pro in the app world, we welcome you.  \r\n\r\n- **Equality:** Are you afraid of clear statements and passionate arguments? We stand by our opinions and expect the same from you. Tell us what you think. Sometimes you’ll be right, other times we will. Openness is part of arkulpa’s DNA, but holding grudges is not.  \r\n\r\n- **Technology:** No blaming, no shaming. Those who innovate are constantly learning. We don’t punish a willingness to innovate; instead, we believe in the power of new tools and concepts—if they help our clients and our team improve. Finding the right stack for each task keeps us sharp and makes the work enjoyable.  \r\n\r\n**Additional Information**  \r\nYou will work with us on exciting projects for a wide variety of clients and industries. From the first meeting to the first line of code and all the way to the release, you will be fully involved and contribute significantly to the success of the project through your work.  \r\n\r\n- A compact, battle-tested team and flat hierarchies  \r\n- Gear of your choice, of course brand new  \r\n- Flexible working hours and good pay  \r\n- A state-of-the-art and cozy penthouse office in Lustenau  ",
         "1. Platform: iOS  \r\n2. Salary: Not mentioned  \r\n3. Requirements:  \r\n   - **Motivation over experience:** Curiosity, interest, and the drive to shape the future of the internet are more important to us than documented years of service. We want to feel your burning enthusiasm and challenge your ability to grasp new concepts. After you join, we’ll ensure you have a steep learning curve—just enough to keep you on your toes. Whether you’re a newcomer, a career changer, or a seasoned pro in the app world, we welcome you.  \r\n   - **Equality:** Are you afraid of clear statements and passionate arguments? We stand by our opinions and expect the same from you. Tell us what you think. Sometimes you’ll be right, other times we will. Openness is part of arkulpa’s DNA, but holding grudges is not.  \r\n   - **Technology:** No blaming, no shaming. Those who innovate are constantly learning. We don’t punish a willingness to innovate; instead, we believe in the power of new tools and concepts—if they help our clients and our team improve. Finding the right stack for each task keeps us sharp and makes the work enjoyable.  \r\n4. Nice to have: Not mentioned  \r\n5. Responsibilities:  \r\n   - You will work with us on exciting projects for a wide variety of clients and industries. From the first meeting to the first line of code and all the way to the release, you will be fully involved and contribute significantly to the success of the project through your work.  \r\n6. Benefits:  \r\n   - A compact, battle-tested team and flat hierarchies  \r\n   - Gear of your choice, of course brand new  \r\n   - Flexible working hours and good pay  \r\n   - A state-of-the-art and cozy penthouse office in Lustenau  ",
         "iOS",
         "Not mentioned",
         "- **Motivation over experience:** Curiosity, interest, and the drive to shape the future of the internet are more important to us than documented years of service. We want to feel your burning enthusiasm and challenge your ability to grasp new concepts. After you join, we’ll ensure you have a steep learning curve—just enough to keep you on your toes. Whether you’re a newcomer, a career changer, or a seasoned pro in the app world, we welcome you.  \r\n   - **Equality:** Are you afraid of clear statements and passionate arguments? We stand by our opinions and expect the same from you. Tell us what you think. Sometimes you’ll be right, other times we will. Openness is part of arkulpa’s DNA, but holding grudges is not.  \r\n   - **Technology:** No blaming, no shaming. Those who innovate are constantly learning. We don’t punish a willingness to innovate; instead, we believe in the power of new tools and concepts—if they help our clients and our team improve. Finding the right stack for each task keeps us sharp and makes the work enjoyable.",
         "Not mentioned",
         "- You will work with us on exciting projects for a wide variety of clients and industries. From the first meeting to the first line of code and all the way to the release, you will be fully involved and contribute significantly to the success of the project through your work.",
         "- A compact, battle-tested team and flat hierarchies  \r\n   - Gear of your choice, of course brand new  \r\n   - Flexible working hours and good pay  \r\n   - A state-of-the-art and cozy penthouse office in Lustenau",
         "3. Requirements:\r\n- **Motivation over experience:** Curiosity, interest, and the drive to shape the future of the internet are more important to us than documented years of service. We want to feel your burning enthusiasm and challenge your ability to grasp new concepts. After you join, we’ll ensure you have a steep learning curve—just enough to keep you on your toes. Whether you’re a newcomer, a career changer, or a seasoned pro in the app world, we welcome you.  \r\n   - **Equality:** Are you afraid of clear statements and passionate arguments? We stand by our opinions and expect the same from you. Tell us what you think. Sometimes you’ll be right, other times we will. Openness is part of arkulpa’s DNA, but holding grudges is not.  \r\n   - **Technology:** No blaming, no shaming. Those who innovate are constantly learning. We don’t punish a willingness to innovate; instead, we believe in the power of new tools and concepts—if they help our clients and our team improve. Finding the right stack for each task keeps us sharp and makes the work enjoyable.\r\n\r\n4. Nice to have:\r\nNot mentioned\r\n\r\n5. Responsibilities:\r\n- You will work with us on exciting projects for a wide variety of clients and industries. From the first meeting to the first line of code and all the way to the release, you will be fully involved and contribute significantly to the success of the project through your work.",
         "{}",
         "{}",
         null,
         "{}",
         "{}",
         null,
         null,
         null,
         null,
         null,
         null,
         null,
         null,
         null,
         null,
         null,
         null,
         null,
         null,
         null,
         null,
         null,
         null,
         null,
         null,
         null,
         null,
         null,
         null,
         null,
         null,
         null
        ],
        [
         "2",
         "Austria",
         "Europe",
         "True",
         "True",
         "default",
         "google.com",
         "Middle iOS developer",
         "Processica",
         "Vienna, Austria",
         "JOBITT",
         "Looking for a iOS Developer. Playing well in a team and has strong analytical and solution-oriented thinking",
         null,
         "4K–4.5K a month",
         "Full-time",
         "No degree mentioned",
         "eyJqb2JfdGl0bGUiOiJNaWRkbGUgaU9TIGRldmVsb3BlciIsImNvbXBhbnlfbmFtZSI6IlByb2Nlc3NpY2EiLCJhZGRyZXNzX2NpdHkiOiJWaWVubmEsIEF1c3RyaWEiLCJodGlkb2NpZCI6IjNmQ09lWXNNZFhkQUMwSktBQUFBQUE9PSIsInV1bGUiOiJ3K0NBSVFJQ0lIUVhWemRISnBZUSJ9",
         "2025-01-13 12:20:42 UTC",
         "iOS developer",
         "en",
         "English",
         "Looking for a iOS Developer. Playing well in a team and has strong analytical and solution-oriented thinking",
         "1. Platform: iOS  \r\n2. Salary: Not mentioned  \r\n3. Requirements: Playing well in a team and has strong analytical and solution-oriented thinking  \r\n4. Nice to have: Not mentioned  \r\n5. Responsibilities: Not mentioned  \r\n6. Benefits: Not mentioned  ",
         "iOS",
         "Not mentioned",
         "Playing well in a team and has strong analytical and solution-oriented thinking",
         "Not mentioned",
         "Not mentioned",
         "Not mentioned",
         "3. Requirements:\r\nPlaying well in a team and has strong analytical and solution-oriented thinking\r\n\r\n4. Nice to have:\r\nNot mentioned\r\n\r\n5. Responsibilities:\r\nNot mentioned",
         "{}",
         "{}",
         null,
         "{}",
         "{}",
         null,
         null,
         null,
         null,
         null,
         null,
         null,
         null,
         null,
         null,
         null,
         null,
         null,
         null,
         null,
         null,
         null,
         null,
         null,
         null,
         null,
         null,
         null,
         null,
         null,
         null,
         null
        ],
        [
         "3",
         "Austria",
         "Europe",
         "True",
         "True",
         "default",
         "google.com",
         "iOS Developer",
         "Raiffeisen Gruppe",
         "Linz, Austria",
         "Jooble, Trabajo.org - Stellenangebote, Arbeit",
         "Deine Rolle im Team\r\n• Du wirkst an der Weiterentwicklung der Mein ELBA App für 2,8 Millionen Kund:innen mit und hältst diese am Laufen.\r\n• Du entwickelst für unsere Kund:innen eine ansprechende, moderne und barrierefreie Oberfläche um ihre täglichen Bankgeschäfte zu erledigen.\r\n• Du sorgst mit deiner sorgfältigen und sicherheitsbewussten Arbeitsweise dafür, dass sich unsere Kund:innen beim Online Banking gut aufgehoben fühlen.\r\n• Du programmierst IOS - native in Swift neue Features für die größte Banking App Österreichs.\r\n• Du nimmst dir die Anliegen der Stakeholder zu Herzen und bist bemüht für sie rasch eine zufriedenstellende Lösung zu finden.\r\nTechnologien und Skills\r\n• Gradle\r\n• Jenkins\r\n• Swift\r\nUnsere Erwartungen an dich:\r\nQualifikationen\r\n• Du bist vertraut mit Continuous Integration mit Jenkins und Gradle.\r\n• Du zeichnest dich durch lösungsorientiertes Denken, eigenständiges & verantwortungsbewusstes Arbeiten sowie Teamfähigkeit aus.\r\n• Du kannst gut zuhören, hinterfragen und beschreiben.\r\n• Du entwickelst die Mein ELBA App - das Tool, das in jede Tasche passt. Ob die Großmutter, die ihre Zahlungen im Handumdrehen erledigt, oder das Kind mit dem ersten Jugendkonto, das seine Finanzen organisiert - mit der Mein ELBA App wird alles möglich: Zahlungen, Wertpapiertransaktionen und vieles mehr - schnell, einfach und überall.\r\n• Du hast sowohl gute Deutsch- als auch Englischkenntnisse in Wort und Schrift und kannst diese im beruflichen Alltag anwenden.\r\nErfahrung\r\n• Du verfügst über mehrjährige Erfahrung in der App Entwicklung mit iOS (Swift ).\r\nBenefits\r\n• Home Office\r\n• Flexible Arbeitszeiten\r\n• Essenszulage\r\n• Gute Anbindung\r\n• Mitarbeitervergünstigungen\r\n• Gesundheitsförderung\r\n• Kantine/Betriebsrestaurant\r\n• Betriebsarzt\r\n• Firmenauto\r\n• Frisches Obst\r\n• Team Events\r\n• Mitarbeiterprämie\r\n• Zusatzversicherung\r\n• Verkehrsmittel-Zuschuss\r\n• Kinderbetreuung\r\n• Fitness Angebote\r\n• Kaffee, Tee o. Ä",
         null,
         null,
         "Full-time",
         "No degree mentioned",
         "eyJqb2JfdGl0bGUiOiJpT1MgRGV2ZWxvcGVyIiwiY29tcGFueV9uYW1lIjoiUmFpZmZlaXNlbiBHcnVwcGUiLCJhZGRyZXNzX2NpdHkiOiJMaW56LCBBdXN0cmlhIiwiaHRpZG9jaWQiOiJkOTZOUHZyY1gzUlpacVZBQUFBQUFBPT0iLCJ1dWxlIjoidytDQUlRSUNJSFFYVnpkSEpwWVEifQ==",
         "2025-01-13 12:20:42 UTC",
         "iOS developer",
         "de",
         "German",
         "**Your Role in the Team**  \r\n- You contribute to the further development of the Mein ELBA app for 2.8 million customers and ensure it runs smoothly.  \r\n- You develop an appealing, modern, and accessible interface for our customers to manage their daily banking tasks.  \r\n- With your meticulous and security-conscious approach, you ensure that our customers feel well-supported when using online banking.  \r\n- You program new features for Austria's largest banking app natively for iOS using Swift.  \r\n- You take stakeholders' concerns to heart and strive to quickly find satisfactory solutions for them.  \r\n\r\n**Technologies and Skills**  \r\n- Gradle  \r\n- Jenkins  \r\n- Swift  \r\n\r\n**Our Expectations of You**  \r\n\r\n**Qualifications**  \r\n- You are familiar with Continuous Integration using Jenkins and Gradle.  \r\n- You are characterized by solution-oriented thinking, independent and responsible work, as well as teamwork skills.  \r\n- You are good at listening, questioning, and explaining.  \r\n- You develop the Mein ELBA app – the tool that fits in every pocket. Whether it’s the grandmother quickly managing her payments or the child with their first youth account organizing their finances – the Mein ELBA app makes everything possible: payments, securities transactions, and much more – quickly, easily, and anywhere.  \r\n- You have good German and English skills, both written and spoken, and can apply them in your professional daily life.  \r\n\r\n**Experience**  \r\n- You have several years of experience in app development with iOS (Swift).  \r\n\r\n**Benefits**  \r\n- Home Office  \r\n- Flexible working hours  \r\n- Meal allowance  \r\n- Good transport connections  \r\n- Employee discounts  \r\n- Health promotion  \r\n- Canteen/company restaurant  \r\n- Company doctor  \r\n- Company car  \r\n- Fresh fruit  \r\n- Team events  \r\n- Employee bonuses  \r\n- Additional insurance  \r\n- Transportation allowance  \r\n- Childcare  \r\n- Fitness offers  \r\n- Coffee, tea, etc.  ",
         "1. Platform: iOS  \r\n2. Salary: Not mentioned  \r\n3. Requirements:  \r\n   - You are familiar with Continuous Integration using Jenkins and Gradle.  \r\n   - You are characterized by solution-oriented thinking, independent and responsible work, as well as teamwork skills.  \r\n   - You are good at listening, questioning, and explaining.  \r\n   - You develop the Mein ELBA app – the tool that fits in every pocket. Whether it’s the grandmother quickly managing her payments or the child with their first youth account organizing their finances – the Mein ELBA app makes everything possible: payments, securities transactions, and much more – quickly, easily, and anywhere.  \r\n   - You have good German and English skills, both written and spoken, and can apply them in your professional daily life.  \r\n   - You have several years of experience in app development with iOS (Swift).  \r\n4. Nice to have: Not mentioned  \r\n5. Responsibilities:  \r\n   - You contribute to the further development of the Mein ELBA app for 2.8 million customers and ensure it runs smoothly.  \r\n   - You develop an appealing, modern, and accessible interface for our customers to manage their daily banking tasks.  \r\n   - With your meticulous and security-conscious approach, you ensure that our customers feel well-supported when using online banking.  \r\n   - You program new features for Austria's largest banking app natively for iOS using Swift.  \r\n   - You take stakeholders' concerns to heart and strive to quickly find satisfactory solutions for them.  \r\n6. Benefits:  \r\n   - Home Office  \r\n   - Flexible working hours  \r\n   - Meal allowance  \r\n   - Good transport connections  \r\n   - Employee discounts  \r\n   - Health promotion  \r\n   - Canteen/company restaurant  \r\n   - Company doctor  \r\n   - Company car  \r\n   - Fresh fruit  \r\n   - Team events  \r\n   - Employee bonuses  \r\n   - Additional insurance  \r\n   - Transportation allowance  \r\n   - Childcare  \r\n   - Fitness offers  \r\n   - Coffee, tea, etc.  ",
         "iOS",
         "Not mentioned",
         "- You are familiar with Continuous Integration using Jenkins and Gradle.  \r\n   - You are characterized by solution-oriented thinking, independent and responsible work, as well as teamwork skills.  \r\n   - You are good at listening, questioning, and explaining.  \r\n   - You develop the Mein ELBA app – the tool that fits in every pocket. Whether it’s the grandmother quickly managing her payments or the child with their first youth account organizing their finances – the Mein ELBA app makes everything possible: payments, securities transactions, and much more – quickly, easily, and anywhere.  \r\n   - You have good German and English skills, both written and spoken, and can apply them in your professional daily life.  \r\n   - You have several years of experience in app development with iOS (Swift).",
         "Not mentioned",
         "- You contribute to the further development of the Mein ELBA app for 2.8 million customers and ensure it runs smoothly.  \r\n   - You develop an appealing, modern, and accessible interface for our customers to manage their daily banking tasks.  \r\n   - With your meticulous and security-conscious approach, you ensure that our customers feel well-supported when using online banking.  \r\n   - You program new features for Austria's largest banking app natively for iOS using Swift.  \r\n   - You take stakeholders' concerns to heart and strive to quickly find satisfactory solutions for them.",
         "- Home Office  \r\n   - Flexible working hours  \r\n   - Meal allowance  \r\n   - Good transport connections  \r\n   - Employee discounts  \r\n   - Health promotion  \r\n   - Canteen/company restaurant  \r\n   - Company doctor  \r\n   - Company car  \r\n   - Fresh fruit  \r\n   - Team events  \r\n   - Employee bonuses  \r\n   - Additional insurance  \r\n   - Transportation allowance  \r\n   - Childcare  \r\n   - Fitness offers  \r\n   - Coffee, tea, etc.",
         "3. Requirements:\r\n- You are familiar with Continuous Integration using Jenkins and Gradle.  \r\n   - You are characterized by solution-oriented thinking, independent and responsible work, as well as teamwork skills.  \r\n   - You are good at listening, questioning, and explaining.  \r\n   - You develop the Mein ELBA app – the tool that fits in every pocket. Whether it’s the grandmother quickly managing her payments or the child with their first youth account organizing their finances – the Mein ELBA app makes everything possible: payments, securities transactions, and much more – quickly, easily, and anywhere.  \r\n   - You have good German and English skills, both written and spoken, and can apply them in your professional daily life.  \r\n   - You have several years of experience in app development with iOS (Swift).\r\n\r\n4. Nice to have:\r\nNot mentioned\r\n\r\n5. Responsibilities:\r\n- You contribute to the further development of the Mein ELBA app for 2.8 million customers and ensure it runs smoothly.  \r\n   - You develop an appealing, modern, and accessible interface for our customers to manage their daily banking tasks.  \r\n   - With your meticulous and security-conscious approach, you ensure that our customers feel well-supported when using online banking.  \r\n   - You program new features for Austria's largest banking app natively for iOS using Swift.  \r\n   - You take stakeholders' concerns to heart and strive to quickly find satisfactory solutions for them.",
         "{\r\n    \"languages_and_runtimes\":[\"Swift\"],\r\n    \"build_and_dependency_management\":[\"Gradle\"],\r\n    \"ci_cd_and_release_automation\":[\"Jenkins\"]\r\n}",
         "{\"languages_and_runtimes\": [\"Swift\"], \"build_and_dependency_management\": [\"Gradle\"], \"ci_cd_and_release_automation\": [\"Jenkins\"]}",
         "swift, gradle, jenkins",
         "{'languages_and_runtimes': ['Swift'], 'build_and_dependency_management': ['Gradle'], 'ci_cd_and_release_automation': ['Jenkins']}",
         "{'languages_and_runtimes': ['Swift'], 'build_and_dependency_management': ['Gradle'], 'ci_cd_and_release_automation': ['Jenkins']}",
         null,
         null,
         null,
         "Gradle",
         "Jenkins",
         null,
         null,
         null,
         null,
         null,
         null,
         null,
         null,
         null,
         null,
         null,
         null,
         "Swift",
         null,
         null,
         null,
         null,
         null,
         null,
         null,
         null,
         null
        ],
        [
         "4",
         "Austria",
         "Europe",
         "True",
         "True",
         "default",
         "google.com",
         "iOS Software Engineer",
         "Cybermoth",
         "Vienna, Austria",
         "Expertini, Talent.com",
         "We are searching for iOS Software Engineers with native iOS development experience\r\n\r\nAs a software engineer you'll be working with project managers, designers, software architects and engineers to deliver software products.\r\n\r\nQualification\r\n\r\nPlease apply for this position if you meet the following requirements:\r\n• Worked on at least one native Swift application published in the App Store\r\n• Experience building mobile apps using Swift, Objective-C, Java, or Kotlin\r\n• Fluent in Swift and at least one other programming language\r\n• Deep understanding of the iOS SDK\r\n• Good knowledge of Xcode and Jetbrains IDEs\r\n• Experience with version control\r\n• Worked with agile scrum frameworks\r\n• Knowledge of MacOS, iOS and Apple software\r\n• Fluent in English, written and spoken\r\n\r\nYour work experience, skills and references will be verified.\r\n\r\nResponsibilities\r\n\r\nIn this position you will be part of one or more remote or in-house agile teams for internal, commercial or research projects.\r\n\r\nBe committed to build quality high-performance software, be willing to work overtime if necessary and be available for international business travel.\r\n\r\nWork environment\r\n\r\nYou will work in a team office during this full time position in our offices in Donaucity, Vienna. We provide fruits, vegan snacks and beverages and a relaxing, creative environment.\r\n\r\nWhat we offer\r\n\r\nYou will be part of a company with an inspiring vision and a clear purpose. We are very selective and demand professional excellence from all our team, and offer attractive rewards to keep everyone happy at all times:\r\n• Depending on qualifications and professional experience, we offer a gross monthly salary between € 2,700 and € 5,400 for this position\r\n• Five weeks of vacation per year\r\n• For Non-EU residents we offer a 6 months contract working in Vienna with the possibility to prolong, or after this period work remote from your country of origin\r\n• Assistance with Austrian work visa application if necessary\r\n• All additional benefits dictated by Austria's employment law including medical insurance\r\n• We welcome unvaccinated candidates",
         null,
         null,
         "Full-time",
         "No degree mentioned",
         "eyJqb2JfdGl0bGUiOiJpT1MgU29mdHdhcmUgRW5naW5lZXIiLCJjb21wYW55X25hbWUiOiJDeWJlcm1vdGgiLCJhZGRyZXNzX2NpdHkiOiJWaWVubmEsIEF1c3RyaWEiLCJodGlkb2NpZCI6Ik03UGNJLXNzTUp3T3hXVXhBQUFBQUE9PSIsInV1bGUiOiJ3K0NBSVFJQ0lIUVhWemRISnBZUSJ9",
         "2025-01-13 12:20:42 UTC",
         "iOS developer",
         "en",
         "English",
         "We are searching for iOS Software Engineers with native iOS development experience\r\n\r\nAs a software engineer you'll be working with project managers, designers, software architects and engineers to deliver software products.\r\n\r\nQualification\r\n\r\nPlease apply for this position if you meet the following requirements:\r\n• Worked on at least one native Swift application published in the App Store\r\n• Experience building mobile apps using Swift, Objective-C, Java, or Kotlin\r\n• Fluent in Swift and at least one other programming language\r\n• Deep understanding of the iOS SDK\r\n• Good knowledge of Xcode and Jetbrains IDEs\r\n• Experience with version control\r\n• Worked with agile scrum frameworks\r\n• Knowledge of MacOS, iOS and Apple software\r\n• Fluent in English, written and spoken\r\n\r\nYour work experience, skills and references will be verified.\r\n\r\nResponsibilities\r\n\r\nIn this position you will be part of one or more remote or in-house agile teams for internal, commercial or research projects.\r\n\r\nBe committed to build quality high-performance software, be willing to work overtime if necessary and be available for international business travel.\r\n\r\nWork environment\r\n\r\nYou will work in a team office during this full time position in our offices in Donaucity, Vienna. We provide fruits, vegan snacks and beverages and a relaxing, creative environment.\r\n\r\nWhat we offer\r\n\r\nYou will be part of a company with an inspiring vision and a clear purpose. We are very selective and demand professional excellence from all our team, and offer attractive rewards to keep everyone happy at all times:\r\n• Depending on qualifications and professional experience, we offer a gross monthly salary between € 2,700 and € 5,400 for this position\r\n• Five weeks of vacation per year\r\n• For Non-EU residents we offer a 6 months contract working in Vienna with the possibility to prolong, or after this period work remote from your country of origin\r\n• Assistance with Austrian work visa application if necessary\r\n• All additional benefits dictated by Austria's employment law including medical insurance\r\n• We welcome unvaccinated candidates",
         "1. Platform: iOS  \r\n2. Salary: Depending on qualifications and professional experience, we offer a gross monthly salary between € 2,700 and € 5,400 for this position  \r\n3. Requirements:  \r\n   • Worked on at least one native Swift application published in the App Store  \r\n   • Experience building mobile apps using Swift, Objective-C, Java, or Kotlin  \r\n   • Fluent in Swift and at least one other programming language  \r\n   • Deep understanding of the iOS SDK  \r\n   • Good knowledge of Xcode and Jetbrains IDEs  \r\n   • Experience with version control  \r\n   • Worked with agile scrum frameworks  \r\n   • Knowledge of MacOS, iOS and Apple software  \r\n   • Fluent in English, written and spoken  \r\n   • Your work experience, skills and references will be verified  \r\n4. Nice to have: Not mentioned  \r\n5. Responsibilities:  \r\n   • In this position you will be part of one or more remote or in-house agile teams for internal, commercial or research projects.  \r\n   • Be committed to build quality high-performance software, be willing to work overtime if necessary and be available for international business travel.  \r\n6. Benefits:  \r\n   • You will be part of a company with an inspiring vision and a clear purpose.  \r\n   • We are very selective and demand professional excellence from all our team, and offer attractive rewards to keep everyone happy at all times:  \r\n     - Depending on qualifications and professional experience, we offer a gross monthly salary between € 2,700 and € 5,400 for this position  \r\n     - Five weeks of vacation per year  \r\n     - For Non-EU residents we offer a 6 months contract working in Vienna with the possibility to prolong, or after this period work remote from your country of origin  \r\n     - Assistance with Austrian work visa application if necessary  \r\n     - All additional benefits dictated by Austria's employment law including medical insurance  \r\n     - We welcome unvaccinated candidates  ",
         "iOS",
         "Depending on qualifications and professional experience, we offer a gross monthly salary between € 2,700 and € 5,400 for this position",
         "• Worked on at least one native Swift application published in the App Store  \r\n   • Experience building mobile apps using Swift, Objective-C, Java, or Kotlin  \r\n   • Fluent in Swift and at least one other programming language  \r\n   • Deep understanding of the iOS SDK  \r\n   • Good knowledge of Xcode and Jetbrains IDEs  \r\n   • Experience with version control  \r\n   • Worked with agile scrum frameworks  \r\n   • Knowledge of MacOS, iOS and Apple software  \r\n   • Fluent in English, written and spoken  \r\n   • Your work experience, skills and references will be verified",
         "Not mentioned",
         "• In this position you will be part of one or more remote or in-house agile teams for internal, commercial or research projects.  \r\n   • Be committed to build quality high-performance software, be willing to work overtime if necessary and be available for international business travel.",
         "• You will be part of a company with an inspiring vision and a clear purpose.  \r\n   • We are very selective and demand professional excellence from all our team, and offer attractive rewards to keep everyone happy at all times:  \r\n     - Depending on qualifications and professional experience, we offer a gross monthly salary between € 2,700 and € 5,400 for this position  \r\n     - Five weeks of vacation per year  \r\n     - For Non-EU residents we offer a 6 months contract working in Vienna with the possibility to prolong, or after this period work remote from your country of origin  \r\n     - Assistance with Austrian work visa application if necessary  \r\n     - All additional benefits dictated by Austria's employment law including medical insurance  \r\n     - We welcome unvaccinated candidates",
         "3. Requirements:\r\n• Worked on at least one native Swift application published in the App Store  \r\n   • Experience building mobile apps using Swift, Objective-C, Java, or Kotlin  \r\n   • Fluent in Swift and at least one other programming language  \r\n   • Deep understanding of the iOS SDK  \r\n   • Good knowledge of Xcode and Jetbrains IDEs  \r\n   • Experience with version control  \r\n   • Worked with agile scrum frameworks  \r\n   • Knowledge of MacOS, iOS and Apple software  \r\n   • Fluent in English, written and spoken  \r\n   • Your work experience, skills and references will be verified\r\n\r\n4. Nice to have:\r\nNot mentioned\r\n\r\n5. Responsibilities:\r\n• In this position you will be part of one or more remote or in-house agile teams for internal, commercial or research projects.  \r\n   • Be committed to build quality high-performance software, be willing to work overtime if necessary and be available for international business travel.",
         "{\r\n    \"languages_and_runtimes\":[\"Java\",\"Kotlin\",\"Objective-C\",\"Swift\"],\r\n    \"build_and_dependency_management\":[\"Xcode\"],\r\n    \"development_methodologies\":[\"Scrum\"]\r\n}",
         "{\"languages_and_runtimes\": [\"Java\", \"Kotlin\", \"Objective-C\", \"Swift\"], \"build_and_dependency_management\": [\"Xcode\"], \"development_methodologies\": [\"Scrum\"]}",
         "java, kotlin, objective-c, swift, xcode, scrum",
         "{'languages_and_runtimes': ['Java', 'Kotlin', 'Objective-C', 'Swift'], 'ide_and_code_editors': ['Xcode'], 'development_methodologies': ['Scrum']}",
         "{'languages_and_runtimes': ['Java', 'Kotlin', 'Objective-C', 'Swift'], 'ide_and_code_editors': ['Xcode'], 'development_methodologies': ['Scrum']}",
         null,
         null,
         null,
         null,
         null,
         null,
         null,
         null,
         null,
         null,
         "Scrum",
         null,
         null,
         null,
         null,
         null,
         "Xcode",
         "Java, Kotlin, Objective-C, Swift",
         null,
         null,
         null,
         null,
         null,
         null,
         null,
         null,
         null
        ]
       ],
       "shape": {
        "columns": 61,
        "rows": 5
       }
      },
      "text/html": [
       "<div>\n",
       "<style scoped>\n",
       "    .dataframe tbody tr th:only-of-type {\n",
       "        vertical-align: middle;\n",
       "    }\n",
       "\n",
       "    .dataframe tbody tr th {\n",
       "        vertical-align: top;\n",
       "    }\n",
       "\n",
       "    .dataframe thead th {\n",
       "        text-align: right;\n",
       "    }\n",
       "</style>\n",
       "<table border=\"1\" class=\"dataframe\">\n",
       "  <thead>\n",
       "    <tr style=\"text-align: right;\">\n",
       "      <th></th>\n",
       "      <th>Location</th>\n",
       "      <th>Region</th>\n",
       "      <th>EU Member</th>\n",
       "      <th>Schengen Agreement</th>\n",
       "      <th>Google Domain Type</th>\n",
       "      <th>Google Domain Used</th>\n",
       "      <th>Job Title</th>\n",
       "      <th>Company Name</th>\n",
       "      <th>Job Location</th>\n",
       "      <th>Apply Options</th>\n",
       "      <th>...</th>\n",
       "      <th>languages_and_runtimes</th>\n",
       "      <th>monitoring_analytics_and_crash_reporting</th>\n",
       "      <th>native_interop</th>\n",
       "      <th>networking_and_api</th>\n",
       "      <th>security_and_cryptography</th>\n",
       "      <th>testing_frameworks</th>\n",
       "      <th>ui_cross_platform</th>\n",
       "      <th>ui_guidelines</th>\n",
       "      <th>ui_native</th>\n",
       "      <th>version_control_and_branching</th>\n",
       "    </tr>\n",
       "  </thead>\n",
       "  <tbody>\n",
       "    <tr>\n",
       "      <th>0</th>\n",
       "      <td>Austria</td>\n",
       "      <td>Europe</td>\n",
       "      <td>True</td>\n",
       "      <td>True</td>\n",
       "      <td>default</td>\n",
       "      <td>google.com</td>\n",
       "      <td>Android Developer – Kotlin (Austria based, Hyb...</td>\n",
       "      <td>Bitcoin Devs Company</td>\n",
       "      <td>Vienna, Austria</td>\n",
       "      <td>Jobs3</td>\n",
       "      <td>...</td>\n",
       "      <td>Kotlin</td>\n",
       "      <td>NaN</td>\n",
       "      <td>NaN</td>\n",
       "      <td>Retrofit</td>\n",
       "      <td>NaN</td>\n",
       "      <td>NaN</td>\n",
       "      <td>NaN</td>\n",
       "      <td>NaN</td>\n",
       "      <td>NaN</td>\n",
       "      <td>NaN</td>\n",
       "    </tr>\n",
       "    <tr>\n",
       "      <th>1</th>\n",
       "      <td>Austria</td>\n",
       "      <td>Europe</td>\n",
       "      <td>True</td>\n",
       "      <td>True</td>\n",
       "      <td>default</td>\n",
       "      <td>google.com</td>\n",
       "      <td>ios entwickler 80–100% w/m/d</td>\n",
       "      <td>CHANCENLAND VORARLBERG</td>\n",
       "      <td>Dornbirn, Austria</td>\n",
       "      <td>IT-Career.at, STEMJOBS.AT, IT-JOBS.AT</td>\n",
       "      <td>...</td>\n",
       "      <td>NaN</td>\n",
       "      <td>NaN</td>\n",
       "      <td>NaN</td>\n",
       "      <td>NaN</td>\n",
       "      <td>NaN</td>\n",
       "      <td>NaN</td>\n",
       "      <td>NaN</td>\n",
       "      <td>NaN</td>\n",
       "      <td>NaN</td>\n",
       "      <td>NaN</td>\n",
       "    </tr>\n",
       "    <tr>\n",
       "      <th>2</th>\n",
       "      <td>Austria</td>\n",
       "      <td>Europe</td>\n",
       "      <td>True</td>\n",
       "      <td>True</td>\n",
       "      <td>default</td>\n",
       "      <td>google.com</td>\n",
       "      <td>Middle iOS developer</td>\n",
       "      <td>Processica</td>\n",
       "      <td>Vienna, Austria</td>\n",
       "      <td>JOBITT</td>\n",
       "      <td>...</td>\n",
       "      <td>NaN</td>\n",
       "      <td>NaN</td>\n",
       "      <td>NaN</td>\n",
       "      <td>NaN</td>\n",
       "      <td>NaN</td>\n",
       "      <td>NaN</td>\n",
       "      <td>NaN</td>\n",
       "      <td>NaN</td>\n",
       "      <td>NaN</td>\n",
       "      <td>NaN</td>\n",
       "    </tr>\n",
       "    <tr>\n",
       "      <th>3</th>\n",
       "      <td>Austria</td>\n",
       "      <td>Europe</td>\n",
       "      <td>True</td>\n",
       "      <td>True</td>\n",
       "      <td>default</td>\n",
       "      <td>google.com</td>\n",
       "      <td>iOS Developer</td>\n",
       "      <td>Raiffeisen Gruppe</td>\n",
       "      <td>Linz, Austria</td>\n",
       "      <td>Jooble, Trabajo.org - Stellenangebote, Arbeit</td>\n",
       "      <td>...</td>\n",
       "      <td>Swift</td>\n",
       "      <td>NaN</td>\n",
       "      <td>NaN</td>\n",
       "      <td>NaN</td>\n",
       "      <td>NaN</td>\n",
       "      <td>NaN</td>\n",
       "      <td>NaN</td>\n",
       "      <td>NaN</td>\n",
       "      <td>NaN</td>\n",
       "      <td>NaN</td>\n",
       "    </tr>\n",
       "    <tr>\n",
       "      <th>4</th>\n",
       "      <td>Austria</td>\n",
       "      <td>Europe</td>\n",
       "      <td>True</td>\n",
       "      <td>True</td>\n",
       "      <td>default</td>\n",
       "      <td>google.com</td>\n",
       "      <td>iOS Software Engineer</td>\n",
       "      <td>Cybermoth</td>\n",
       "      <td>Vienna, Austria</td>\n",
       "      <td>Expertini, Talent.com</td>\n",
       "      <td>...</td>\n",
       "      <td>Java, Kotlin, Objective-C, Swift</td>\n",
       "      <td>NaN</td>\n",
       "      <td>NaN</td>\n",
       "      <td>NaN</td>\n",
       "      <td>NaN</td>\n",
       "      <td>NaN</td>\n",
       "      <td>NaN</td>\n",
       "      <td>NaN</td>\n",
       "      <td>NaN</td>\n",
       "      <td>NaN</td>\n",
       "    </tr>\n",
       "  </tbody>\n",
       "</table>\n",
       "<p>5 rows × 61 columns</p>\n",
       "</div>"
      ],
      "text/plain": [
       "  Location  Region  EU Member  Schengen Agreement Google Domain Type  \\\n",
       "0  Austria  Europe       True                True            default   \n",
       "1  Austria  Europe       True                True            default   \n",
       "2  Austria  Europe       True                True            default   \n",
       "3  Austria  Europe       True                True            default   \n",
       "4  Austria  Europe       True                True            default   \n",
       "\n",
       "  Google Domain Used                                          Job Title  \\\n",
       "0         google.com  Android Developer – Kotlin (Austria based, Hyb...   \n",
       "1         google.com                       ios entwickler 80–100% w/m/d   \n",
       "2         google.com                               Middle iOS developer   \n",
       "3         google.com                                      iOS Developer   \n",
       "4         google.com                              iOS Software Engineer   \n",
       "\n",
       "             Company Name       Job Location  \\\n",
       "0    Bitcoin Devs Company    Vienna, Austria   \n",
       "1  CHANCENLAND VORARLBERG  Dornbirn, Austria   \n",
       "2              Processica    Vienna, Austria   \n",
       "3       Raiffeisen Gruppe      Linz, Austria   \n",
       "4               Cybermoth    Vienna, Austria   \n",
       "\n",
       "                                   Apply Options  ...  \\\n",
       "0                                          Jobs3  ...   \n",
       "1          IT-Career.at, STEMJOBS.AT, IT-JOBS.AT  ...   \n",
       "2                                         JOBITT  ...   \n",
       "3  Jooble, Trabajo.org - Stellenangebote, Arbeit  ...   \n",
       "4                          Expertini, Talent.com  ...   \n",
       "\n",
       "             languages_and_runtimes monitoring_analytics_and_crash_reporting  \\\n",
       "0                            Kotlin                                      NaN   \n",
       "1                               NaN                                      NaN   \n",
       "2                               NaN                                      NaN   \n",
       "3                             Swift                                      NaN   \n",
       "4  Java, Kotlin, Objective-C, Swift                                      NaN   \n",
       "\n",
       "  native_interop networking_and_api security_and_cryptography  \\\n",
       "0            NaN           Retrofit                       NaN   \n",
       "1            NaN                NaN                       NaN   \n",
       "2            NaN                NaN                       NaN   \n",
       "3            NaN                NaN                       NaN   \n",
       "4            NaN                NaN                       NaN   \n",
       "\n",
       "  testing_frameworks ui_cross_platform ui_guidelines ui_native  \\\n",
       "0                NaN               NaN           NaN       NaN   \n",
       "1                NaN               NaN           NaN       NaN   \n",
       "2                NaN               NaN           NaN       NaN   \n",
       "3                NaN               NaN           NaN       NaN   \n",
       "4                NaN               NaN           NaN       NaN   \n",
       "\n",
       "  version_control_and_branching  \n",
       "0                           NaN  \n",
       "1                           NaN  \n",
       "2                           NaN  \n",
       "3                           NaN  \n",
       "4                           NaN  \n",
       "\n",
       "[5 rows x 61 columns]"
      ]
     },
     "execution_count": 3,
     "metadata": {},
     "output_type": "execute_result"
    }
   ],
   "source": [
    "csv = pd.read_csv(\".\\\\df_final.csv\")\n",
    "csv.head()"
   ]
  },
  {
   "cell_type": "code",
   "execution_count": 5,
   "id": "9508f810",
   "metadata": {},
   "outputs": [],
   "source": [
    "\"\"\"\n",
    "Cell generated by Data Wrangler.\n",
    "\"\"\"\n",
    "def clean_data(csv):\n",
    "    # Drop columns: 'Technologies Only', 'Technologies Categorized' and 8 other columns\n",
    "    csv = csv.drop(columns=['Technologies Only', 'Technologies Categorized', 'Extracted Technologies Clean', 'Extracted Technologies GPT', 'Full Requirements', 'Benefits', 'Responsibilities', 'Nice to have', 'Requirements', 'Salary_E'])\n",
    "    return csv\n",
    "\n",
    "df = clean_data(csv.copy())"
   ]
  },
  {
   "cell_type": "code",
   "execution_count": 37,
   "id": "00f7ee12",
   "metadata": {},
   "outputs": [],
   "source": [
    "df_patterns = df[df['Platform'] == \"iOS\"]['architectural_patterns'].dropna().str.split(',').explode().str.strip().value_counts().reset_index()\n",
    "df_patterns.columns = ['architectural_patterns', 'count']"
   ]
  },
  {
   "cell_type": "markdown",
   "id": "10455102",
   "metadata": {},
   "source": [
    "# Graphs"
   ]
  },
  {
   "cell_type": "code",
   "execution_count": 51,
   "id": "3d68fc31",
   "metadata": {},
   "outputs": [
    {
     "data": {
      "application/vnd.microsoft.datawrangler.viewer.v0+json": {
       "columns": [
        {
         "name": "index",
         "rawType": "int64",
         "type": "integer"
        },
        {
         "name": "architectural_patterns",
         "rawType": "object",
         "type": "string"
        },
        {
         "name": "count",
         "rawType": "int64",
         "type": "integer"
        }
       ],
       "conversionMethod": "pd.DataFrame",
       "ref": "ac3e85c2-19e6-4dd4-a552-e06162279dbe",
       "rows": [
        [
         "0",
         "MVVM",
         "165"
        ],
        [
         "1",
         "MVC",
         "70"
        ],
        [
         "2",
         "VIPER",
         "47"
        ],
        [
         "3",
         "MVP",
         "38"
        ],
        [
         "4",
         "Clean Architecture",
         "29"
        ],
        [
         "5",
         "VIP",
         "5"
        ],
        [
         "6",
         "Redux",
         "3"
        ],
        [
         "7",
         "MVI",
         "2"
        ]
       ],
       "shape": {
        "columns": 2,
        "rows": 8
       }
      },
      "text/html": [
       "<div>\n",
       "<style scoped>\n",
       "    .dataframe tbody tr th:only-of-type {\n",
       "        vertical-align: middle;\n",
       "    }\n",
       "\n",
       "    .dataframe tbody tr th {\n",
       "        vertical-align: top;\n",
       "    }\n",
       "\n",
       "    .dataframe thead th {\n",
       "        text-align: right;\n",
       "    }\n",
       "</style>\n",
       "<table border=\"1\" class=\"dataframe\">\n",
       "  <thead>\n",
       "    <tr style=\"text-align: right;\">\n",
       "      <th></th>\n",
       "      <th>architectural_patterns</th>\n",
       "      <th>count</th>\n",
       "    </tr>\n",
       "  </thead>\n",
       "  <tbody>\n",
       "    <tr>\n",
       "      <th>0</th>\n",
       "      <td>MVVM</td>\n",
       "      <td>165</td>\n",
       "    </tr>\n",
       "    <tr>\n",
       "      <th>1</th>\n",
       "      <td>MVC</td>\n",
       "      <td>70</td>\n",
       "    </tr>\n",
       "    <tr>\n",
       "      <th>2</th>\n",
       "      <td>VIPER</td>\n",
       "      <td>47</td>\n",
       "    </tr>\n",
       "    <tr>\n",
       "      <th>3</th>\n",
       "      <td>MVP</td>\n",
       "      <td>38</td>\n",
       "    </tr>\n",
       "    <tr>\n",
       "      <th>4</th>\n",
       "      <td>Clean Architecture</td>\n",
       "      <td>29</td>\n",
       "    </tr>\n",
       "    <tr>\n",
       "      <th>5</th>\n",
       "      <td>VIP</td>\n",
       "      <td>5</td>\n",
       "    </tr>\n",
       "    <tr>\n",
       "      <th>6</th>\n",
       "      <td>Redux</td>\n",
       "      <td>3</td>\n",
       "    </tr>\n",
       "    <tr>\n",
       "      <th>7</th>\n",
       "      <td>MVI</td>\n",
       "      <td>2</td>\n",
       "    </tr>\n",
       "  </tbody>\n",
       "</table>\n",
       "</div>"
      ],
      "text/plain": [
       "  architectural_patterns  count\n",
       "0                   MVVM    165\n",
       "1                    MVC     70\n",
       "2                  VIPER     47\n",
       "3                    MVP     38\n",
       "4     Clean Architecture     29\n",
       "5                    VIP      5\n",
       "6                  Redux      3\n",
       "7                    MVI      2"
      ]
     },
     "execution_count": 51,
     "metadata": {},
     "output_type": "execute_result"
    }
   ],
   "source": [
    "df_patterns_eu = df[(df['Platform'] == \"iOS\") & (df['Region'] == \"Europe\")]['architectural_patterns'].dropna().str.split(',').explode().str.strip().value_counts().reset_index()\n",
    "df_patterns_eu.columns = ['architectural_patterns', 'count']\n",
    "df_patterns_eu"
   ]
  },
  {
   "cell_type": "code",
   "execution_count": 52,
   "id": "4efe9140",
   "metadata": {},
   "outputs": [
    {
     "data": {
      "application/vnd.microsoft.datawrangler.viewer.v0+json": {
       "columns": [
        {
         "name": "index",
         "rawType": "int64",
         "type": "integer"
        },
        {
         "name": "architectural_patterns",
         "rawType": "object",
         "type": "string"
        },
        {
         "name": "count",
         "rawType": "int64",
         "type": "integer"
        }
       ],
       "conversionMethod": "pd.DataFrame",
       "ref": "6eee04a5-a554-46d4-888b-9f93e8cd76c3",
       "rows": [
        [
         "0",
         "MVVM",
         "64"
        ],
        [
         "1",
         "MVC",
         "43"
        ],
        [
         "2",
         "VIPER",
         "19"
        ],
        [
         "3",
         "MVP",
         "16"
        ],
        [
         "4",
         "Clean Architecture",
         "10"
        ],
        [
         "5",
         "Redux",
         "2"
        ],
        [
         "6",
         "MVI",
         "1"
        ]
       ],
       "shape": {
        "columns": 2,
        "rows": 7
       }
      },
      "text/html": [
       "<div>\n",
       "<style scoped>\n",
       "    .dataframe tbody tr th:only-of-type {\n",
       "        vertical-align: middle;\n",
       "    }\n",
       "\n",
       "    .dataframe tbody tr th {\n",
       "        vertical-align: top;\n",
       "    }\n",
       "\n",
       "    .dataframe thead th {\n",
       "        text-align: right;\n",
       "    }\n",
       "</style>\n",
       "<table border=\"1\" class=\"dataframe\">\n",
       "  <thead>\n",
       "    <tr style=\"text-align: right;\">\n",
       "      <th></th>\n",
       "      <th>architectural_patterns</th>\n",
       "      <th>count</th>\n",
       "    </tr>\n",
       "  </thead>\n",
       "  <tbody>\n",
       "    <tr>\n",
       "      <th>0</th>\n",
       "      <td>MVVM</td>\n",
       "      <td>64</td>\n",
       "    </tr>\n",
       "    <tr>\n",
       "      <th>1</th>\n",
       "      <td>MVC</td>\n",
       "      <td>43</td>\n",
       "    </tr>\n",
       "    <tr>\n",
       "      <th>2</th>\n",
       "      <td>VIPER</td>\n",
       "      <td>19</td>\n",
       "    </tr>\n",
       "    <tr>\n",
       "      <th>3</th>\n",
       "      <td>MVP</td>\n",
       "      <td>16</td>\n",
       "    </tr>\n",
       "    <tr>\n",
       "      <th>4</th>\n",
       "      <td>Clean Architecture</td>\n",
       "      <td>10</td>\n",
       "    </tr>\n",
       "    <tr>\n",
       "      <th>5</th>\n",
       "      <td>Redux</td>\n",
       "      <td>2</td>\n",
       "    </tr>\n",
       "    <tr>\n",
       "      <th>6</th>\n",
       "      <td>MVI</td>\n",
       "      <td>1</td>\n",
       "    </tr>\n",
       "  </tbody>\n",
       "</table>\n",
       "</div>"
      ],
      "text/plain": [
       "  architectural_patterns  count\n",
       "0                   MVVM     64\n",
       "1                    MVC     43\n",
       "2                  VIPER     19\n",
       "3                    MVP     16\n",
       "4     Clean Architecture     10\n",
       "5                  Redux      2\n",
       "6                    MVI      1"
      ]
     },
     "execution_count": 52,
     "metadata": {},
     "output_type": "execute_result"
    }
   ],
   "source": [
    "df_patterns_na = df[(df['Platform'] == \"iOS\") & (df['Region'] == \"Northern America\")]['architectural_patterns'].dropna().str.split(',').explode().str.strip().value_counts().reset_index()\n",
    "df_patterns_na.columns = ['architectural_patterns', 'count']\n",
    "df_patterns_na"
   ]
  },
  {
   "cell_type": "markdown",
   "id": "01113b8c",
   "metadata": {},
   "source": [
    "# Huinya"
   ]
  },
  {
   "cell_type": "code",
   "execution_count": 55,
   "id": "0181f3b9",
   "metadata": {},
   "outputs": [
    {
     "data": {
      "image/png": "[encoded data removed]",
      "text/plain": [
       "<Figure size 1600x600 with 2 Axes>"
      ]
     },
     "metadata": {},
     "output_type": "display_data"
    }
   ],
   "source": [
    "# создаём фигуру с 2 подграфиками (subplots)\n",
    "fig, axes = plt.subplots(1, 2, figsize=(16, 6), sharey=True)  # sharey=True чтобы ось Y была общей\n",
    "\n",
    "# Левый график - Европа\n",
    "sns.barplot(\n",
    "    data=df_patterns_eu,\n",
    "    x='count',\n",
    "    y='architectural_patterns',\n",
    "    ax=axes[0],\n",
    "    orient='h'\n",
    ")\n",
    "axes[0].set_title('Europe')\n",
    "axes[0].set_xlabel('Count')\n",
    "axes[0].set_ylabel('Architectural Pattern')\n",
    "\n",
    "# подписываем бары\n",
    "for container in axes[0].containers:\n",
    "    axes[0].bar_label(container, padding=5)\n",
    "\n",
    "# Правый график - Северная Америка\n",
    "sns.barplot(\n",
    "    data=df_patterns_na,\n",
    "    x='count',\n",
    "    y='architectural_patterns',\n",
    "    ax=axes[1],\n",
    "    orient='h'\n",
    ")\n",
    "axes[1].set_title('Northern America')\n",
    "axes[1].set_xlabel('Count')\n",
    "axes[1].set_ylabel('')  # убираем дублирование подписи оси Y\n",
    "\n",
    "# подписываем бары\n",
    "for container in axes[1].containers:\n",
    "    axes[1].bar_label(container, padding=5)\n",
    "\n",
    "plt.tight_layout()\n",
    "plt.show()"
   ]
  },
  {
   "cell_type": "markdown",
   "id": "39055738",
   "metadata": {},
   "source": [
    "## Example"
   ]
  },
  {
   "cell_type": "code",
   "execution_count": 53,
   "id": "4ec4394b",
   "metadata": {},
   "outputs": [],
   "source": [
    "df_patterns = df[df['Platform'] == \"iOS\"]['architectural_patterns'].dropna().str.split(',').explode().str.strip().value_counts().reset_index()\n",
    "df_patterns.columns = ['architectural_patterns', 'count']"
   ]
  },
  {
   "cell_type": "code",
   "execution_count": 54,
   "id": "4589642a",
   "metadata": {},
   "outputs": [
    {
     "data": {
      "image/png": "[encoded data removed]",
      "text/plain": [
       "<Figure size 1000x600 with 1 Axes>"
      ]
     },
     "metadata": {},
     "output_type": "display_data"
    }
   ],
   "source": [
    "plt.figure(figsize=(10, 6))\n",
    "ax = sns.barplot(\n",
    "    data=df_patterns,\n",
    "    x='count',\n",
    "    y='architectural_patterns',\n",
    "    orient='h'\n",
    ")\n",
    "\n",
    "for i in ax.containers:\n",
    "    ax.bar_label(i, padding=5)\n",
    "\n",
    "plt.title('Architectural Patterns Usage (iOS)')\n",
    "plt.xlabel('Count')\n",
    "plt.ylabel('Architectural Pattern')\n",
    "plt.grid(axis='x', linestyle='--', alpha=0.7)\n",
    "plt.show()"
   ]
  },
  {
   "cell_type": "code",
   "execution_count": 28,
   "id": "9dc4c797",
   "metadata": {},
   "outputs": [
    {
     "data": {
      "application/vnd.microsoft.datawrangler.viewer.v0+json": {
       "columns": [
        {
         "name": "index",
         "rawType": "int64",
         "type": "integer"
        },
        {
         "name": "architectural_patterns",
         "rawType": "object",
         "type": "string"
        },
        {
         "name": "count",
         "rawType": "int64",
         "type": "integer"
        }
       ],
       "conversionMethod": "pd.DataFrame",
       "ref": "4e8b9d8b-3702-4368-ab15-ec12eb873063",
       "rows": [
        [
         "0",
         "MVVM",
         "233"
        ],
        [
         "1",
         "MVP",
         "97"
        ],
        [
         "2",
         "Clean Architecture",
         "78"
        ],
        [
         "3",
         "MVC",
         "45"
        ],
        [
         "4",
         "MVI",
         "41"
        ],
        [
         "5",
         "VIPER",
         "7"
        ],
        [
         "6",
         "Redux",
         "3"
        ]
       ],
       "shape": {
        "columns": 2,
        "rows": 7
       }
      },
      "text/html": [
       "<div>\n",
       "<style scoped>\n",
       "    .dataframe tbody tr th:only-of-type {\n",
       "        vertical-align: middle;\n",
       "    }\n",
       "\n",
       "    .dataframe tbody tr th {\n",
       "        vertical-align: top;\n",
       "    }\n",
       "\n",
       "    .dataframe thead th {\n",
       "        text-align: right;\n",
       "    }\n",
       "</style>\n",
       "<table border=\"1\" class=\"dataframe\">\n",
       "  <thead>\n",
       "    <tr style=\"text-align: right;\">\n",
       "      <th></th>\n",
       "      <th>architectural_patterns</th>\n",
       "      <th>count</th>\n",
       "    </tr>\n",
       "  </thead>\n",
       "  <tbody>\n",
       "    <tr>\n",
       "      <th>0</th>\n",
       "      <td>MVVM</td>\n",
       "      <td>233</td>\n",
       "    </tr>\n",
       "    <tr>\n",
       "      <th>1</th>\n",
       "      <td>MVP</td>\n",
       "      <td>97</td>\n",
       "    </tr>\n",
       "    <tr>\n",
       "      <th>2</th>\n",
       "      <td>Clean Architecture</td>\n",
       "      <td>78</td>\n",
       "    </tr>\n",
       "    <tr>\n",
       "      <th>3</th>\n",
       "      <td>MVC</td>\n",
       "      <td>45</td>\n",
       "    </tr>\n",
       "    <tr>\n",
       "      <th>4</th>\n",
       "      <td>MVI</td>\n",
       "      <td>41</td>\n",
       "    </tr>\n",
       "    <tr>\n",
       "      <th>5</th>\n",
       "      <td>VIPER</td>\n",
       "      <td>7</td>\n",
       "    </tr>\n",
       "    <tr>\n",
       "      <th>6</th>\n",
       "      <td>Redux</td>\n",
       "      <td>3</td>\n",
       "    </tr>\n",
       "  </tbody>\n",
       "</table>\n",
       "</div>"
      ],
      "text/plain": [
       "  architectural_patterns  count\n",
       "0                   MVVM    233\n",
       "1                    MVP     97\n",
       "2     Clean Architecture     78\n",
       "3                    MVC     45\n",
       "4                    MVI     41\n",
       "5                  VIPER      7\n",
       "6                  Redux      3"
      ]
     },
     "execution_count": 28,
     "metadata": {},
     "output_type": "execute_result"
    }
   ],
   "source": [
    "df[df['Platform'] == \"Android\"]['architectural_patterns'].dropna().str.split(',').explode().str.strip().value_counts().reset_index()"
   ]
  }
 ],
 "metadata": {
  "kernelspec": {
   "display_name": "base",
   "language": "python",
   "name": "python3"
  },
  "language_info": {
   "codemirror_mode": {
    "name": "ipython",
    "version": 3
   },
   "file_extension": ".py",
   "mimetype": "text/x-python",
   "name": "python",
   "nbconvert_exporter": "python",
   "pygments_lexer": "ipython3",
   "version": "3.12.4"
  }
 },
 "nbformat": 4,
 "nbformat_minor": 5
}
