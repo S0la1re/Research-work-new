{
 "cells": [
  {
   "cell_type": "markdown",
   "metadata": {},
   "source": [
    "## First Round Сountry Сheck"
   ]
  },
  {
   "cell_type": "markdown",
   "metadata": {},
   "source": [
    "## Import Libraries"
   ]
  },
  {
   "cell_type": "code",
   "execution_count": null,
   "metadata": {},
   "outputs": [],
   "source": [
    "from dotenv import load_dotenv\n",
    "import pandas as pd\n",
    "import json\n",
    "import sys\n",
    "import os\n",
    "\n",
    "src_path = os.path.abspath(os.path.join(os.getcwd(), '..', 'src'))\n",
    "if src_path not in sys.path:\n",
    "    sys.path.insert(0, src_path)\n",
    "\n",
    "%load_ext autoreload\n",
    "%autoreload 2\n",
    "\n",
    "from jobs_tools.jobs_helpers import process_json_to_csv, collect_jobs_data\n"
   ]
  },
  {
   "cell_type": "code",
   "execution_count": null,
   "metadata": {},
   "outputs": [
    {
     "data": {
      "application/vnd.microsoft.datawrangler.viewer.v0+json": {
       "columns": [
        {
         "name": "index",
         "rawType": "int64",
         "type": "integer"
        },
        {
         "name": "location",
         "rawType": "object",
         "type": "string"
        },
        {
         "name": "google_domain",
         "rawType": "object",
         "type": "string"
        },
        {
         "name": "Region",
         "rawType": "object",
         "type": "string"
        },
        {
         "name": "EU member",
         "rawType": "bool",
         "type": "boolean"
        },
        {
         "name": "Schengen Agreement",
         "rawType": "bool",
         "type": "boolean"
        }
       ],
       "ref": "57862b32-fdac-4e49-a474-4b8bacc639bc",
       "rows": [
        [
         "0",
         "Austria",
         "google.at",
         "Europe",
         "True",
         "True"
        ],
        [
         "1",
         "Belgium",
         "google.be",
         "Europe",
         "True",
         "True"
        ],
        [
         "2",
         "Bulgaria",
         "google.bg",
         "Europe",
         "True",
         "True"
        ],
        [
         "3",
         "Canada",
         "google.ca",
         "Northern America",
         "False",
         "False"
        ],
        [
         "4",
         "Croatia",
         "google.hr",
         "Europe",
         "True",
         "True"
        ]
       ],
       "shape": {
        "columns": 5,
        "rows": 5
       }
      },
      "text/html": [
       "<div>\n",
       "<style scoped>\n",
       "    .dataframe tbody tr th:only-of-type {\n",
       "        vertical-align: middle;\n",
       "    }\n",
       "\n",
       "    .dataframe tbody tr th {\n",
       "        vertical-align: top;\n",
       "    }\n",
       "\n",
       "    .dataframe thead th {\n",
       "        text-align: right;\n",
       "    }\n",
       "</style>\n",
       "<table border=\"1\" class=\"dataframe\">\n",
       "  <thead>\n",
       "    <tr style=\"text-align: right;\">\n",
       "      <th></th>\n",
       "      <th>location</th>\n",
       "      <th>google_domain</th>\n",
       "      <th>Region</th>\n",
       "      <th>EU member</th>\n",
       "      <th>Schengen Agreement</th>\n",
       "    </tr>\n",
       "  </thead>\n",
       "  <tbody>\n",
       "    <tr>\n",
       "      <th>0</th>\n",
       "      <td>Austria</td>\n",
       "      <td>google.at</td>\n",
       "      <td>Europe</td>\n",
       "      <td>True</td>\n",
       "      <td>True</td>\n",
       "    </tr>\n",
       "    <tr>\n",
       "      <th>1</th>\n",
       "      <td>Belgium</td>\n",
       "      <td>google.be</td>\n",
       "      <td>Europe</td>\n",
       "      <td>True</td>\n",
       "      <td>True</td>\n",
       "    </tr>\n",
       "    <tr>\n",
       "      <th>2</th>\n",
       "      <td>Bulgaria</td>\n",
       "      <td>google.bg</td>\n",
       "      <td>Europe</td>\n",
       "      <td>True</td>\n",
       "      <td>True</td>\n",
       "    </tr>\n",
       "    <tr>\n",
       "      <th>3</th>\n",
       "      <td>Canada</td>\n",
       "      <td>google.ca</td>\n",
       "      <td>Northern America</td>\n",
       "      <td>False</td>\n",
       "      <td>False</td>\n",
       "    </tr>\n",
       "    <tr>\n",
       "      <th>4</th>\n",
       "      <td>Croatia</td>\n",
       "      <td>google.hr</td>\n",
       "      <td>Europe</td>\n",
       "      <td>True</td>\n",
       "      <td>True</td>\n",
       "    </tr>\n",
       "  </tbody>\n",
       "</table>\n",
       "</div>"
      ],
      "text/plain": [
       "   location google_domain            Region  EU member  Schengen Agreement\n",
       "0   Austria     google.at            Europe       True                True\n",
       "1   Belgium     google.be            Europe       True                True\n",
       "2  Bulgaria     google.bg            Europe       True                True\n",
       "3    Canada     google.ca  Northern America      False               False\n",
       "4   Croatia     google.hr            Europe       True                True"
      ]
     },
     "execution_count": 2,
     "metadata": {},
     "output_type": "execute_result"
    }
   ],
   "source": [
    "load_dotenv()\n",
    "api_key = os.getenv(\"API_KEY\")\n",
    "\n",
    "path = r\"../data/csv/location_domain_table.csv\"\n",
    "df = pd.read_csv(path).copy()\n",
    "df = df.drop(columns=[\"gl(not needed)\"])\n",
    "df.head()"
   ]
  },
  {
   "cell_type": "markdown",
   "metadata": {},
   "source": [
    "## Data Collection"
   ]
  },
  {
   "cell_type": "code",
   "execution_count": null,
   "metadata": {},
   "outputs": [
    {
     "name": "stdout",
     "output_type": "stream",
     "text": [
      "\n",
      "--- Report ---\n",
      "Austria: 4 queries, 1 errors\n",
      "Belgium: 3 queries, 0 errors\n",
      "Bulgaria: 3 queries, 0 errors\n",
      "Canada: 13 queries, 0 errors\n",
      "Croatia: 2 queries, 0 errors\n",
      "Cyprus: 3 queries, 0 errors\n",
      "Czechia: 3 queries, 0 errors\n",
      "Denmark: 2 queries, 0 errors\n",
      "Estonia: 2 queries, 0 errors\n",
      "Finland: 3 queries, 0 errors\n",
      "France: 6 queries, 0 errors\n",
      "Germany: 9 queries, 1 errors\n",
      "Greece: 3 queries, 0 errors\n",
      "Hungary: 3 queries, 0 errors\n",
      "Iceland: 1 queries, 0 errors\n",
      "Ireland: 4 queries, 0 errors\n",
      "Italy: 6 queries, 0 errors\n",
      "Latvia: 1 queries, 0 errors\n",
      "Liechtenstein: 1 queries, 0 errors\n",
      "Lithuania: 3 queries, 0 errors\n",
      "Luxembourg: 1 queries, 0 errors\n",
      "Malta: 1 queries, 0 errors\n",
      "Mexico: 9 queries, 0 errors\n",
      "Netherlands: 6 queries, 0 errors\n",
      "Norway: 2 queries, 0 errors\n",
      "Poland: 6 queries, 0 errors\n",
      "Portugal: 5 queries, 0 errors\n",
      "Romania: 5 queries, 0 errors\n",
      "Slovakia: 2 queries, 0 errors\n",
      "Slovenia: 1 queries, 0 errors\n",
      "Spain: 7 queries, 1 errors\n",
      "Sweden: 4 queries, 0 errors\n",
      "Switzerland: 3 queries, 0 errors\n",
      "United Kingdom: 17 queries, 0 errors\n",
      "United States: 18 queries, 0 errors\n"
     ]
    },
    {
     "data": {
      "text/plain": [
       "[{'country': 'Austria', 'queries': 4, 'errors': 1},\n",
       " {'country': 'Belgium', 'queries': 3, 'errors': 0},\n",
       " {'country': 'Bulgaria', 'queries': 3, 'errors': 0},\n",
       " {'country': 'Canada', 'queries': 13, 'errors': 0},\n",
       " {'country': 'Croatia', 'queries': 2, 'errors': 0},\n",
       " {'country': 'Cyprus', 'queries': 3, 'errors': 0},\n",
       " {'country': 'Czechia', 'queries': 3, 'errors': 0},\n",
       " {'country': 'Denmark', 'queries': 2, 'errors': 0},\n",
       " {'country': 'Estonia', 'queries': 2, 'errors': 0},\n",
       " {'country': 'Finland', 'queries': 3, 'errors': 0},\n",
       " {'country': 'France', 'queries': 6, 'errors': 0},\n",
       " {'country': 'Germany', 'queries': 9, 'errors': 1},\n",
       " {'country': 'Greece', 'queries': 3, 'errors': 0},\n",
       " {'country': 'Hungary', 'queries': 3, 'errors': 0},\n",
       " {'country': 'Iceland', 'queries': 1, 'errors': 0},\n",
       " {'country': 'Ireland', 'queries': 4, 'errors': 0},\n",
       " {'country': 'Italy', 'queries': 6, 'errors': 0},\n",
       " {'country': 'Latvia', 'queries': 1, 'errors': 0},\n",
       " {'country': 'Liechtenstein', 'queries': 1, 'errors': 0},\n",
       " {'country': 'Lithuania', 'queries': 3, 'errors': 0},\n",
       " {'country': 'Luxembourg', 'queries': 1, 'errors': 0},\n",
       " {'country': 'Malta', 'queries': 1, 'errors': 0},\n",
       " {'country': 'Mexico', 'queries': 9, 'errors': 0},\n",
       " {'country': 'Netherlands', 'queries': 6, 'errors': 0},\n",
       " {'country': 'Norway', 'queries': 2, 'errors': 0},\n",
       " {'country': 'Poland', 'queries': 6, 'errors': 0},\n",
       " {'country': 'Portugal', 'queries': 5, 'errors': 0},\n",
       " {'country': 'Romania', 'queries': 5, 'errors': 0},\n",
       " {'country': 'Slovakia', 'queries': 2, 'errors': 0},\n",
       " {'country': 'Slovenia', 'queries': 1, 'errors': 0},\n",
       " {'country': 'Spain', 'queries': 7, 'errors': 1},\n",
       " {'country': 'Sweden', 'queries': 4, 'errors': 0},\n",
       " {'country': 'Switzerland', 'queries': 3, 'errors': 0},\n",
       " {'country': 'United Kingdom', 'queries': 17, 'errors': 0},\n",
       " {'country': 'United States', 'queries': 18, 'errors': 0}]"
      ]
     },
     "execution_count": 8,
     "metadata": {},
     "output_type": "execute_result"
    }
   ],
   "source": [
    "collect_jobs_data(\n",
    "    quarry=\"Android developer\",       # Job search query\n",
    "    location=\"all\",                   # Collect data for all countries\n",
    "    domain=\"local\",                   # Use local domains\n",
    "    number_of_queries=\"all\",          # Maximum 2 queries per country\n",
    "    api_key=api_key,                  # Specify your actual API key\n",
    "    data_frame=df,                    # DataFrame containing country data\n",
    "    save_path=r\"../data/jobs_data/data/local_domain/Android\",  # Folder to save JSON files\n",
    "    number_of_errors=2,               # Stop after 2 empty results\n",
    "    report=True                       # Display a report\n",
    ")\n"
   ]
  },
  {
   "cell_type": "markdown",
   "metadata": {},
   "source": [
    "## Make markdown file with the results"
   ]
  },
  {
   "cell_type": "code",
   "execution_count": null,
   "metadata": {},
   "outputs": [],
   "source": [
    "# Path to the main folder\n",
    "base_path = r\"../data/jobs_data/test_data/local_domain\"\n",
    "android_path = os.path.join(base_path, \"Android\")\n",
    "ios_path = os.path.join(base_path, \"iOS\")\n",
    "markdown_path = os.path.join(base_path, \"results.md\")\n",
    "\n",
    "# Check if the file is \"successful\" or \"empty\"\n",
    "def is_valid_file(file_path):\n",
    "    try:\n",
    "        with open(file_path, \"r\", encoding=\"utf-8\") as file:\n",
    "            data = json.load(file)\n",
    "            if data.get(\"search_information\", {}).get(\"jobs_results_state\") == \"Fully empty\" and \\\n",
    "               data.get(\"error\") == \"Google hasn't returned any results for this query.\":\n",
    "                return False\n",
    "            return True\n",
    "    except Exception as e:\n",
    "        print(f\"Error processing {file_path}: {e}\")\n",
    "        return False\n",
    "\n",
    "# Scan folders and collect data\n",
    "results = {}\n",
    "\n",
    "for folder, platform in [(ios_path, \"iOS\"), (android_path, \"Android\")]:\n",
    "    for file_name in os.listdir(folder):\n",
    "        if file_name.endswith(\".json\"):\n",
    "            file_path = os.path.join(folder, file_name)\n",
    "            country = file_name.replace(\".json\", \"\").strip()\n",
    "            is_valid = is_valid_file(file_path)\n",
    "            \n",
    "            if country not in results:\n",
    "                results[country] = {\"iOS\": \"-\", \"Android\": \"-\"}\n",
    "            \n",
    "            results[country][platform] = \"+\" if is_valid else \"-\"\n",
    "\n",
    "# Create Markdown file\n",
    "with open(markdown_path, \"w\", encoding=\"utf-8\") as md_file:\n",
    "    md_file.write(\"[] - iOS, [] - Android\\n\")\n",
    "    md_file.write(\"-----------------------\\n\")\n",
    "    for country, platforms in sorted(results.items()):\n",
    "        ios_status = platforms[\"iOS\"]\n",
    "        android_status = platforms[\"Android\"]\n",
    "        md_file.write(f\"- [{ios_status}],[{android_status}] {country}\\n\")\n",
    "\n",
    "print(f\"Markdown file created: {markdown_path}\")"
   ]
  },
  {
   "cell_type": "markdown",
   "metadata": {},
   "source": [
    "Используются оба домена, чтобы максимизировать шанс сбора данных по стране. И увеличить шанс сбора уникальных вакансий доступных только на определенном домене.\n",
    "\n",
    "Если пройтись по всем странам и собрать по одной вакансии для \"iOS\" и \"Android\" разработчиков, были получены следующие резульаты:\n",
    "\n",
    "`.com`:\n",
    "- Все страны (100%) вернули данные как по iOS, так и по Android.\n",
    "\n",
    "`Локальный домен`:<br>\n",
    "Большинство стран также показали успешные результаты для iOS и Android вакансий.<br>\n",
    "Исключения:\n",
    "- Исландия: отсутствуют вакансии для iOS.\n",
    "- Румыния: отсутствуют вакансии для Android.\n"
   ]
  },
  {
   "cell_type": "markdown",
   "metadata": {},
   "source": [
    "## Make a CSV from JSON files"
   ]
  },
  {
   "cell_type": "code",
   "execution_count": null,
   "metadata": {},
   "outputs": [
    {
     "name": "stdout",
     "output_type": "stream",
     "text": [
      "Processing completed:\n",
      "- Total files: 665\n",
      "- Successfully processed: 660\n",
      "- Empty files: 5\n",
      "- Corrupted files: 0\n",
      "\n"
     ]
    }
   ],
   "source": [
    "# Paths to the data\n",
    "data_dirs = [\n",
    "    r\"../data/jobs_data/data/dotcom_domain/Android\",\n",
    "    r\"../data/jobs_data/data/dotcom_domain/iOS\",\n",
    "    r\"../data/jobs_data/data/local_domain/Android\",\n",
    "    r\"../data/jobs_data/data/local_domain/iOS\"\n",
    "]\n",
    "\n",
    "# Run the function\n",
    "report = process_json_to_csv(data_dirs, df, output_file=r\"../data/csv/jobs_data.csv\")\n"
   ]
  }
 ],
 "metadata": {
  "kernelspec": {
   "display_name": "base",
   "language": "python",
   "name": "python3"
  },
  "language_info": {
   "codemirror_mode": {
    "name": "ipython",
    "version": 3
   },
   "file_extension": ".py",
   "mimetype": "text/x-python",
   "name": "python",
   "nbconvert_exporter": "python",
   "pygments_lexer": "ipython3",
   "version": "3.12.4"
  }
 },
 "nbformat": 4,
 "nbformat_minor": 2
}
