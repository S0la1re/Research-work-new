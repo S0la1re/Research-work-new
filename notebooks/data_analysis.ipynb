{
 "cells": [
  {
   "cell_type": "markdown",
   "id": "03a7673f",
   "metadata": {},
   "source": []
  },
  {
   "cell_type": "code",
   "execution_count": 63,
   "id": "881b37e3",
   "metadata": {},
   "outputs": [
    {
     "name": "stdout",
     "output_type": "stream",
     "text": [
      "The autoreload extension is already loaded. To reload it, use:\n",
      "  %reload_ext autoreload\n"
     ]
    }
   ],
   "source": [
    "import pandas as pd\n",
    "import seaborn as sns\n",
    "import matplotlib.pyplot as plt\n",
    "import importlib\n",
    "import sys\n",
    "import os\n",
    "\n",
    "\n",
    "src_path = os.path.abspath(os.path.join(os.getcwd(), '..', 'src'))\n",
    "if src_path not in sys.path:\n",
    "    sys.path.insert(0, src_path)\n",
    "%load_ext autoreload\n",
    "%autoreload 2\n",
    "\n",
    "from jobs_tools import data_cleaning"
   ]
  },
  {
   "cell_type": "code",
   "execution_count": 64,
   "id": "2623417c",
   "metadata": {},
   "outputs": [
    {
     "data": {
      "application/vnd.microsoft.datawrangler.viewer.v0+json": {
       "columns": [
        {
         "name": "index",
         "rawType": "int64",
         "type": "integer"
        },
        {
         "name": "Location",
         "rawType": "object",
         "type": "string"
        },
        {
         "name": "Region",
         "rawType": "object",
         "type": "string"
        },
        {
         "name": "EU Member",
         "rawType": "bool",
         "type": "boolean"
        },
        {
         "name": "Schengen Agreement",
         "rawType": "bool",
         "type": "boolean"
        },
        {
         "name": "Google Domain Type",
         "rawType": "object",
         "type": "string"
        },
        {
         "name": "Google Domain Used",
         "rawType": "object",
         "type": "string"
        },
        {
         "name": "Job Title",
         "rawType": "object",
         "type": "string"
        },
        {
         "name": "Company Name",
         "rawType": "object",
         "type": "string"
        },
        {
         "name": "Job Location",
         "rawType": "object",
         "type": "string"
        },
        {
         "name": "Apply Options",
         "rawType": "object",
         "type": "string"
        },
        {
         "name": "Job Description",
         "rawType": "object",
         "type": "string"
        },
        {
         "name": "Work from home",
         "rawType": "object",
         "type": "unknown"
        },
        {
         "name": "Salary",
         "rawType": "object",
         "type": "unknown"
        },
        {
         "name": "Schedule type",
         "rawType": "object",
         "type": "string"
        },
        {
         "name": "Qualifications",
         "rawType": "object",
         "type": "string"
        },
        {
         "name": "Job ID",
         "rawType": "object",
         "type": "string"
        },
        {
         "name": "Search Date",
         "rawType": "object",
         "type": "string"
        },
        {
         "name": "Search Query",
         "rawType": "object",
         "type": "string"
        },
        {
         "name": "Language",
         "rawType": "object",
         "type": "string"
        },
        {
         "name": "Job Description English",
         "rawType": "object",
         "type": "string"
        },
        {
         "name": "Job Description Extracted",
         "rawType": "object",
         "type": "string"
        },
        {
         "name": "Platform",
         "rawType": "object",
         "type": "string"
        },
        {
         "name": "Salary_E",
         "rawType": "object",
         "type": "string"
        },
        {
         "name": "Requirements",
         "rawType": "object",
         "type": "string"
        },
        {
         "name": "Nice to have",
         "rawType": "object",
         "type": "string"
        },
        {
         "name": "Responsibilities",
         "rawType": "object",
         "type": "string"
        },
        {
         "name": "Benefits",
         "rawType": "object",
         "type": "string"
        },
        {
         "name": "Full Requirements",
         "rawType": "object",
         "type": "string"
        },
        {
         "name": "Extracted Technologies GPT",
         "rawType": "object",
         "type": "string"
        },
        {
         "name": "Extracted Technologies Clean",
         "rawType": "object",
         "type": "string"
        },
        {
         "name": "Technologies Only",
         "rawType": "object",
         "type": "unknown"
        },
        {
         "name": "Technologies Categorized",
         "rawType": "object",
         "type": "string"
        },
        {
         "name": "Tech_dict",
         "rawType": "object",
         "type": "string"
        },
        {
         "name": "api_documentation",
         "rawType": "object",
         "type": "unknown"
        },
        {
         "name": "app_distribution",
         "rawType": "object",
         "type": "unknown"
        },
        {
         "name": "architecture",
         "rawType": "object",
         "type": "unknown"
        },
        {
         "name": "backend_baas",
         "rawType": "object",
         "type": "unknown"
        },
        {
         "name": "build_dependency",
         "rawType": "object",
         "type": "unknown"
        },
        {
         "name": "ci_cd",
         "rawType": "object",
         "type": "unknown"
        },
        {
         "name": "concurrency_reactive",
         "rawType": "object",
         "type": "unknown"
        },
        {
         "name": "cross_platform_sdks",
         "rawType": "object",
         "type": "unknown"
        },
        {
         "name": "cross_platform_ui",
         "rawType": "object",
         "type": "unknown"
        },
        {
         "name": "data_storage",
         "rawType": "object",
         "type": "unknown"
        },
        {
         "name": "debug_profiling",
         "rawType": "object",
         "type": "unknown"
        },
        {
         "name": "dependency_injection",
         "rawType": "object",
         "type": "unknown"
        },
        {
         "name": "design_guidelines",
         "rawType": "object",
         "type": "unknown"
        },
        {
         "name": "game_dev",
         "rawType": "object",
         "type": "unknown"
        },
        {
         "name": "ides",
         "rawType": "object",
         "type": "unknown"
        },
        {
         "name": "languages",
         "rawType": "object",
         "type": "unknown"
        },
        {
         "name": "methodologies",
         "rawType": "object",
         "type": "unknown"
        },
        {
         "name": "monitoring_analytics",
         "rawType": "object",
         "type": "unknown"
        },
        {
         "name": "native_interop",
         "rawType": "object",
         "type": "unknown"
        },
        {
         "name": "native_ui",
         "rawType": "object",
         "type": "unknown"
        },
        {
         "name": "networking",
         "rawType": "object",
         "type": "unknown"
        },
        {
         "name": "platform_android",
         "rawType": "object",
         "type": "unknown"
        },
        {
         "name": "platform_apple",
         "rawType": "object",
         "type": "unknown"
        },
        {
         "name": "runtimes",
         "rawType": "object",
         "type": "unknown"
        },
        {
         "name": "security_compliance",
         "rawType": "object",
         "type": "unknown"
        },
        {
         "name": "team_collaboration",
         "rawType": "object",
         "type": "unknown"
        },
        {
         "name": "testing_quality",
         "rawType": "object",
         "type": "unknown"
        },
        {
         "name": "version_control",
         "rawType": "object",
         "type": "unknown"
        }
       ],
       "ref": "8ca52133-f463-4bea-8ae7-13be7b084205",
       "rows": [
        [
         "0",
         "Austria",
         "Europe",
         "True",
         "True",
         "default",
         "google.com",
         "Android Developer – Kotlin (Austria based, Hybrid)",
         "Bitcoin Devs Company",
         "Vienna, Austria",
         "Jobs3",
         "Overview:\r\nThe Android Developer – Kotlin position is a critical role within our organization, responsible for developing and maintaining high-quality mobile applications on the Android platform using Kotlin. This role plays a vital part in our company’s technological growth and is instrumental in delivering exceptional user experiences.\r\n\r\nKey Responsibilities:\r\n• Ensure that the app meets our quality standards by creating unit tests and doing code reviews\r\n• Design and maintain the architecture of new features and existing ones\r\n• Collaborate with cross-functional teams, designers and technical product owners\r\n• Stay up to date with programming best practices and new technology trends\r\n• Working autonomously you will bring strong communication skills and the ability to mentor colleagues\r\n\r\nRequired Qualifications:\r\n• Passionate about mobile platforms and translating requirements into a user friendly app\r\n• Excellent knowledge of Kotlin\r\n• Strong knowledge of architecture patterns such as MVVM\r\n• Proven experience of developing and publishing native Android apps to the Google Play store in a professional environment\r\n• Good knowledge of Kotlin Coroutines, Hilt and Retrofit.",
         null,
         null,
         "Contractor",
         "No degree mentioned",
         "eyJqb2JfdGl0bGUiOiJBbmRyb2lkIERldmVsb3BlciDigJMgS290bGluIChBdXN0cmlhIGJhc2VkLCBIeWJyaWQpIiwiY29tcGFueV9uYW1lIjoiQml0Y29pbiBEZXZzIENvbXBhbnkiLCJhZGRyZXNzX2NpdHkiOiJWaWVubmEsIEF1c3RyaWEiLCJodGlkb2NpZCI6IkpETURFcWVrYlAyOGkxU0VBQUFBQUE9PSIsInV1bGUiOiJ3K0NBSVFJQ0lIUVhWemRISnBZUSJ9",
         "2025-01-13 12:08:48 UTC",
         "Android developer",
         "en",
         "Overview:\r\nThe Android Developer – Kotlin position is a critical role within our organization, responsible for developing and maintaining high-quality mobile applications on the Android platform using Kotlin. This role plays a vital part in our company’s technological growth and is instrumental in delivering exceptional user experiences.\r\n\r\nKey Responsibilities:\r\n• Ensure that the app meets our quality standards by creating unit tests and doing code reviews\r\n• Design and maintain the architecture of new features and existing ones\r\n• Collaborate with cross-functional teams, designers and technical product owners\r\n• Stay up to date with programming best practices and new technology trends\r\n• Working autonomously you will bring strong communication skills and the ability to mentor colleagues\r\n\r\nRequired Qualifications:\r\n• Passionate about mobile platforms and translating requirements into a user friendly app\r\n• Excellent knowledge of Kotlin\r\n• Strong knowledge of architecture patterns such as MVVM\r\n• Proven experience of developing and publishing native Android apps to the Google Play store in a professional environment\r\n• Good knowledge of Kotlin Coroutines, Hilt and Retrofit.",
         "1. Platform: Android  \n2. Salary: Not mentioned  \n3. Requirements:  \n   • Passionate about mobile platforms and translating requirements into a user friendly app  \n   • Excellent knowledge of Kotlin  \n   • Strong knowledge of architecture patterns such as MVVM  \n   • Proven experience of developing and publishing native Android apps to the Google Play store in a professional environment  \n   • Good knowledge of Kotlin Coroutines, Hilt and Retrofit.  \n4. Nice to have: Not mentioned  \n5. Responsibilities:  \n   • Ensure that the app meets our quality standards by creating unit tests and doing code reviews  \n   • Design and maintain the architecture of new features and existing ones  \n   • Collaborate with cross-functional teams, designers and technical product owners  \n   • Stay up to date with programming best practices and new technology trends  \n   • Working autonomously you will bring strong communication skills and the ability to mentor colleagues  \n6. Benefits: Not mentioned  ",
         "Android",
         "Not mentioned",
         "• Passionate about mobile platforms and translating requirements into a user friendly app  \n   • Excellent knowledge of Kotlin  \n   • Strong knowledge of architecture patterns such as MVVM  \n   • Proven experience of developing and publishing native Android apps to the Google Play store in a professional environment  \n   • Good knowledge of Kotlin Coroutines, Hilt and Retrofit.",
         "Not mentioned",
         "• Ensure that the app meets our quality standards by creating unit tests and doing code reviews  \n   • Design and maintain the architecture of new features and existing ones  \n   • Collaborate with cross-functional teams, designers and technical product owners  \n   • Stay up to date with programming best practices and new technology trends  \n   • Working autonomously you will bring strong communication skills and the ability to mentor colleagues",
         "Not mentioned",
         "3. Requirements:\n• Passionate about mobile platforms and translating requirements into a user friendly app  \n   • Excellent knowledge of Kotlin  \n   • Strong knowledge of architecture patterns such as MVVM  \n   • Proven experience of developing and publishing native Android apps to the Google Play store in a professional environment  \n   • Good knowledge of Kotlin Coroutines, Hilt and Retrofit.\n\n4. Nice to have:\nNot mentioned\n\n5. Responsibilities:\n• Ensure that the app meets our quality standards by creating unit tests and doing code reviews  \n   • Design and maintain the architecture of new features and existing ones  \n   • Collaborate with cross-functional teams, designers and technical product owners  \n   • Stay up to date with programming best practices and new technology trends  \n   • Working autonomously you will bring strong communication skills and the ability to mentor colleagues",
         "{\n    \"languages_and_runtimes\":[\"Kotlin\",\"Coroutines\"],\n    \"architectural_patterns\":[\"MVVM\"],\n    \"dependency_injection_frameworks\":[\"Hilt\"],\n    \"networking_and_api\":[\"Retrofit\"],\n    \"distribution_and_store_operations\":[\"Google Play Console\"]\n}",
         "{\"languages_and_runtimes\": [\"kotlin\", \"kotlin coroutines\"], \"architectural_patterns\": [\"mvvm\"], \"dependency_injection_frameworks\": [\"hilt\"], \"networking_and_api\": [\"retrofit\"], \"distribution_and_store_operations\": [\"google play store / google play console\"]}",
         "kotlin, kotlin coroutines, mvvm, hilt, retrofit, google play store / google play console",
         "{'languages': ['Kotlin'], 'concurrency_reactive': ['Kotlin Coroutines'], 'architecture': ['Model-View-ViewModel (MVVM)'], 'dependency_injection': ['Hilt'], 'networking': ['Retrofit'], 'app_distribution': ['Google Play Store / Google Play Console']}",
         "{'languages': ['Kotlin'], 'concurrency_reactive': ['Kotlin Coroutines'], 'architecture': ['Model-View-ViewModel (MVVM)'], 'dependency_injection': ['Hilt'], 'networking': ['Retrofit'], 'app_distribution': ['Google Play Store / Google Play Console']}",
         null,
         "Google Play Store / Google Play Console",
         "Model-View-ViewModel (MVVM)",
         null,
         null,
         null,
         "Kotlin Coroutines",
         null,
         null,
         null,
         null,
         "Hilt",
         null,
         null,
         null,
         "Kotlin",
         null,
         null,
         null,
         null,
         "Retrofit",
         null,
         null,
         null,
         null,
         null,
         null,
         null
        ],
        [
         "1",
         "Austria",
         "Europe",
         "True",
         "True",
         "default",
         "google.com",
         "ios entwickler 80–100% w/m/d",
         "CHANCENLAND VORARLBERG",
         "Dornbirn, Austria",
         "IT-Career.at, STEMJOBS.AT, IT-JOBS.AT",
         "ios entwickler 80–100% w/m/d\r\n\r\nStellenbeschreibung\r\nDu arbeitest mit uns an interessanten Projekten für völlig unterschiedliche Kunden und Branchen. Vom ersten Meeting an über die erste Code-Zeile bis hin zum Release bist du voll mit involviert und trägst mit deiner Arbeit maßgeblich zum Erfolg des Projekts bei.\r\nAnforderungen\r\n\r\nmotivation vor erfahrung: Neugier, Interesse und der Wille, die Zukunft des Internets mitzugestalten, zählen bei uns mehr als dokumentierte geleistete Dienstjahre. Wir wollen lodernde Begeisterung spüren und deine Auffassungsgabe herausfordern. Nach deinem Eintritt sorgen wir für eine so steile Lernkurve, wie du sie gerade noch verarbeiten kannst. Egal ob du frisch/quer einsteigst oder bereits ein alter Hase im App-Zirkus bist.\r\n\r\naugenhöhe: Hast du Angst vor klaren Ansagen und leidenschaftlichen Argumenten? Wir stehen zu unserer Meinung und verlangen dasselbe von dir. Sag uns, was du denkst. Mal hast du Recht, ein anderes Mal wir. Offenheit ist in der DNA von arkulpa. Nachtragend zu sein hingegen nicht.\r\n\r\ntechnologie: Kein Blaming, kein Shaming. Wer verändert, lernt ständig. Wir bestrafen Innovationswille nicht, sondern glauben an die Kraft neuer Tools und Konzepte – wenn sie unseren Kunden und unserem Team helfen, besser zu werden. Für jede Aufgabe den passenden Stack zu finden hält uns wach und macht Spaß.\r\n\r\nWeitere Informationen\r\nDu arbeitest mit uns an interessanten Projekten für völlig unterschiedliche Kunden und Branchen. Vom ersten Meeting an über die erste Code-Zeile bis hin zum Release bist du voll mit involviert und trägst mit deiner Arbeit maßgeblich zum Erfolg des Projekts bei.\r\n\r\nEin kompaktes, kampferprobtes Team und flache Hierarchien\r\nGear deiner Wahl, natürlich brandneu\r\nFlexible Arbeitszeiten und gute Bezahlung\r\nEin topmodernes und gemütliches Penthouse-Office in Lustenau",
         null,
         null,
         "Full-time",
         "No degree mentioned",
         "eyJqb2JfdGl0bGUiOiJpb3MgZW50d2lja2xlciA4MOKAkzEwMCUgdy9tL2QiLCJjb21wYW55X25hbWUiOiJDSEFOQ0VOTEFORCBWT1JBUkxCRVJHIiwiYWRkcmVzc19jaXR5IjoiRG9ybmJpcm4sIEF1c3RyaWEiLCJodGlkb2NpZCI6IlI2bGFZTG9UUXZYc0pDVTdBQUFBQUE9PSIsInV1bGUiOiJ3K0NBSVFJQ0lIUVhWemRISnBZUSJ9",
         "2025-01-13 12:20:42 UTC",
         "iOS developer",
         "de",
         "**iOS Developer 80–100% w/m/d**\n\n**Job Description**  \nYou will work with us on exciting projects for a wide variety of clients and industries. From the first meeting to the first line of code and all the way to the release, you will be fully involved and contribute significantly to the success of the project through your work.\n\n**Requirements**  \n\n- **Motivation over experience:** Curiosity, interest, and the drive to shape the future of the internet are more important to us than documented years of service. We want to feel your burning enthusiasm and challenge your ability to grasp new concepts. After you join, we’ll ensure you have a steep learning curve—just enough to keep you on your toes. Whether you’re a newcomer, a career changer, or a seasoned pro in the app world, we welcome you.  \n\n- **Equality:** Are you afraid of clear statements and passionate arguments? We stand by our opinions and expect the same from you. Tell us what you think. Sometimes you’ll be right, other times we will. Openness is part of arkulpa’s DNA, but holding grudges is not.  \n\n- **Technology:** No blaming, no shaming. Those who innovate are constantly learning. We don’t punish a willingness to innovate; instead, we believe in the power of new tools and concepts—if they help our clients and our team improve. Finding the right stack for each task keeps us sharp and makes the work enjoyable.  \n\n**Additional Information**  \nYou will work with us on exciting projects for a wide variety of clients and industries. From the first meeting to the first line of code and all the way to the release, you will be fully involved and contribute significantly to the success of the project through your work.  \n\n- A compact, battle-tested team and flat hierarchies  \n- Gear of your choice, of course brand new  \n- Flexible working hours and good pay  \n- A state-of-the-art and cozy penthouse office in Lustenau  ",
         "1. Platform: iOS  \n2. Salary: Not mentioned  \n3. Requirements:  \n   - **Motivation over experience:** Curiosity, interest, and the drive to shape the future of the internet are more important to us than documented years of service. We want to feel your burning enthusiasm and challenge your ability to grasp new concepts. After you join, we’ll ensure you have a steep learning curve—just enough to keep you on your toes. Whether you’re a newcomer, a career changer, or a seasoned pro in the app world, we welcome you.  \n   - **Equality:** Are you afraid of clear statements and passionate arguments? We stand by our opinions and expect the same from you. Tell us what you think. Sometimes you’ll be right, other times we will. Openness is part of arkulpa’s DNA, but holding grudges is not.  \n   - **Technology:** No blaming, no shaming. Those who innovate are constantly learning. We don’t punish a willingness to innovate; instead, we believe in the power of new tools and concepts—if they help our clients and our team improve. Finding the right stack for each task keeps us sharp and makes the work enjoyable.  \n4. Nice to have: Not mentioned  \n5. Responsibilities:  \n   - You will work with us on exciting projects for a wide variety of clients and industries. From the first meeting to the first line of code and all the way to the release, you will be fully involved and contribute significantly to the success of the project through your work.  \n6. Benefits:  \n   - A compact, battle-tested team and flat hierarchies  \n   - Gear of your choice, of course brand new  \n   - Flexible working hours and good pay  \n   - A state-of-the-art and cozy penthouse office in Lustenau  ",
         "iOS",
         "Not mentioned",
         "- **Motivation over experience:** Curiosity, interest, and the drive to shape the future of the internet are more important to us than documented years of service. We want to feel your burning enthusiasm and challenge your ability to grasp new concepts. After you join, we’ll ensure you have a steep learning curve—just enough to keep you on your toes. Whether you’re a newcomer, a career changer, or a seasoned pro in the app world, we welcome you.  \n   - **Equality:** Are you afraid of clear statements and passionate arguments? We stand by our opinions and expect the same from you. Tell us what you think. Sometimes you’ll be right, other times we will. Openness is part of arkulpa’s DNA, but holding grudges is not.  \n   - **Technology:** No blaming, no shaming. Those who innovate are constantly learning. We don’t punish a willingness to innovate; instead, we believe in the power of new tools and concepts—if they help our clients and our team improve. Finding the right stack for each task keeps us sharp and makes the work enjoyable.",
         "Not mentioned",
         "- You will work with us on exciting projects for a wide variety of clients and industries. From the first meeting to the first line of code and all the way to the release, you will be fully involved and contribute significantly to the success of the project through your work.",
         "- A compact, battle-tested team and flat hierarchies  \n   - Gear of your choice, of course brand new  \n   - Flexible working hours and good pay  \n   - A state-of-the-art and cozy penthouse office in Lustenau",
         "3. Requirements:\n- **Motivation over experience:** Curiosity, interest, and the drive to shape the future of the internet are more important to us than documented years of service. We want to feel your burning enthusiasm and challenge your ability to grasp new concepts. After you join, we’ll ensure you have a steep learning curve—just enough to keep you on your toes. Whether you’re a newcomer, a career changer, or a seasoned pro in the app world, we welcome you.  \n   - **Equality:** Are you afraid of clear statements and passionate arguments? We stand by our opinions and expect the same from you. Tell us what you think. Sometimes you’ll be right, other times we will. Openness is part of arkulpa’s DNA, but holding grudges is not.  \n   - **Technology:** No blaming, no shaming. Those who innovate are constantly learning. We don’t punish a willingness to innovate; instead, we believe in the power of new tools and concepts—if they help our clients and our team improve. Finding the right stack for each task keeps us sharp and makes the work enjoyable.\n\n4. Nice to have:\nNot mentioned\n\n5. Responsibilities:\n- You will work with us on exciting projects for a wide variety of clients and industries. From the first meeting to the first line of code and all the way to the release, you will be fully involved and contribute significantly to the success of the project through your work.",
         "{}",
         "{}",
         null,
         "{}",
         "{}",
         null,
         null,
         null,
         null,
         null,
         null,
         null,
         null,
         null,
         null,
         null,
         null,
         null,
         null,
         null,
         null,
         null,
         null,
         null,
         null,
         null,
         null,
         null,
         null,
         null,
         null,
         null,
         null
        ],
        [
         "2",
         "Austria",
         "Europe",
         "True",
         "True",
         "default",
         "google.com",
         "Middle iOS developer",
         "Processica",
         "Vienna, Austria",
         "JOBITT",
         "Looking for a iOS Developer. Playing well in a team and has strong analytical and solution-oriented thinking",
         null,
         "4K–4.5K a month",
         "Full-time",
         "No degree mentioned",
         "eyJqb2JfdGl0bGUiOiJNaWRkbGUgaU9TIGRldmVsb3BlciIsImNvbXBhbnlfbmFtZSI6IlByb2Nlc3NpY2EiLCJhZGRyZXNzX2NpdHkiOiJWaWVubmEsIEF1c3RyaWEiLCJodGlkb2NpZCI6IjNmQ09lWXNNZFhkQUMwSktBQUFBQUE9PSIsInV1bGUiOiJ3K0NBSVFJQ0lIUVhWemRISnBZUSJ9",
         "2025-01-13 12:20:42 UTC",
         "iOS developer",
         "en",
         "Looking for a iOS Developer. Playing well in a team and has strong analytical and solution-oriented thinking",
         "1. Platform: iOS  \n2. Salary: Not mentioned  \n3. Requirements: Playing well in a team and has strong analytical and solution-oriented thinking  \n4. Nice to have: Not mentioned  \n5. Responsibilities: Not mentioned  \n6. Benefits: Not mentioned  ",
         "iOS",
         "Not mentioned",
         "Playing well in a team and has strong analytical and solution-oriented thinking",
         "Not mentioned",
         "Not mentioned",
         "Not mentioned",
         "3. Requirements:\nPlaying well in a team and has strong analytical and solution-oriented thinking\n\n4. Nice to have:\nNot mentioned\n\n5. Responsibilities:\nNot mentioned",
         "{}",
         "{}",
         null,
         "{}",
         "{}",
         null,
         null,
         null,
         null,
         null,
         null,
         null,
         null,
         null,
         null,
         null,
         null,
         null,
         null,
         null,
         null,
         null,
         null,
         null,
         null,
         null,
         null,
         null,
         null,
         null,
         null,
         null,
         null
        ],
        [
         "3",
         "Austria",
         "Europe",
         "True",
         "True",
         "default",
         "google.com",
         "iOS Developer",
         "Raiffeisen Gruppe",
         "Linz, Austria",
         "Jooble, Trabajo.org - Stellenangebote, Arbeit",
         "Deine Rolle im Team\r\n• Du wirkst an der Weiterentwicklung der Mein ELBA App für 2,8 Millionen Kund:innen mit und hältst diese am Laufen.\r\n• Du entwickelst für unsere Kund:innen eine ansprechende, moderne und barrierefreie Oberfläche um ihre täglichen Bankgeschäfte zu erledigen.\r\n• Du sorgst mit deiner sorgfältigen und sicherheitsbewussten Arbeitsweise dafür, dass sich unsere Kund:innen beim Online Banking gut aufgehoben fühlen.\r\n• Du programmierst IOS - native in Swift neue Features für die größte Banking App Österreichs.\r\n• Du nimmst dir die Anliegen der Stakeholder zu Herzen und bist bemüht für sie rasch eine zufriedenstellende Lösung zu finden.\r\nTechnologien und Skills\r\n• Gradle\r\n• Jenkins\r\n• Swift\r\nUnsere Erwartungen an dich:\r\nQualifikationen\r\n• Du bist vertraut mit Continuous Integration mit Jenkins und Gradle.\r\n• Du zeichnest dich durch lösungsorientiertes Denken, eigenständiges & verantwortungsbewusstes Arbeiten sowie Teamfähigkeit aus.\r\n• Du kannst gut zuhören, hinterfragen und beschreiben.\r\n• Du entwickelst die Mein ELBA App - das Tool, das in jede Tasche passt. Ob die Großmutter, die ihre Zahlungen im Handumdrehen erledigt, oder das Kind mit dem ersten Jugendkonto, das seine Finanzen organisiert - mit der Mein ELBA App wird alles möglich: Zahlungen, Wertpapiertransaktionen und vieles mehr - schnell, einfach und überall.\r\n• Du hast sowohl gute Deutsch- als auch Englischkenntnisse in Wort und Schrift und kannst diese im beruflichen Alltag anwenden.\r\nErfahrung\r\n• Du verfügst über mehrjährige Erfahrung in der App Entwicklung mit iOS (Swift ).\r\nBenefits\r\n• Home Office\r\n• Flexible Arbeitszeiten\r\n• Essenszulage\r\n• Gute Anbindung\r\n• Mitarbeitervergünstigungen\r\n• Gesundheitsförderung\r\n• Kantine/Betriebsrestaurant\r\n• Betriebsarzt\r\n• Firmenauto\r\n• Frisches Obst\r\n• Team Events\r\n• Mitarbeiterprämie\r\n• Zusatzversicherung\r\n• Verkehrsmittel-Zuschuss\r\n• Kinderbetreuung\r\n• Fitness Angebote\r\n• Kaffee, Tee o. Ä",
         null,
         null,
         "Full-time",
         "No degree mentioned",
         "eyJqb2JfdGl0bGUiOiJpT1MgRGV2ZWxvcGVyIiwiY29tcGFueV9uYW1lIjoiUmFpZmZlaXNlbiBHcnVwcGUiLCJhZGRyZXNzX2NpdHkiOiJMaW56LCBBdXN0cmlhIiwiaHRpZG9jaWQiOiJkOTZOUHZyY1gzUlpacVZBQUFBQUFBPT0iLCJ1dWxlIjoidytDQUlRSUNJSFFYVnpkSEpwWVEifQ==",
         "2025-01-13 12:20:42 UTC",
         "iOS developer",
         "de",
         "**Your Role in the Team**  \n- You contribute to the further development of the Mein ELBA app for 2.8 million customers and ensure it runs smoothly.  \n- You develop an appealing, modern, and accessible interface for our customers to manage their daily banking tasks.  \n- With your meticulous and security-conscious approach, you ensure that our customers feel well-supported when using online banking.  \n- You program new features for Austria's largest banking app natively for iOS using Swift.  \n- You take stakeholders' concerns to heart and strive to quickly find satisfactory solutions for them.  \n\n**Technologies and Skills**  \n- Gradle  \n- Jenkins  \n- Swift  \n\n**Our Expectations of You**  \n\n**Qualifications**  \n- You are familiar with Continuous Integration using Jenkins and Gradle.  \n- You are characterized by solution-oriented thinking, independent and responsible work, as well as teamwork skills.  \n- You are good at listening, questioning, and explaining.  \n- You develop the Mein ELBA app – the tool that fits in every pocket. Whether it’s the grandmother quickly managing her payments or the child with their first youth account organizing their finances – the Mein ELBA app makes everything possible: payments, securities transactions, and much more – quickly, easily, and anywhere.  \n- You have good German and English skills, both written and spoken, and can apply them in your professional daily life.  \n\n**Experience**  \n- You have several years of experience in app development with iOS (Swift).  \n\n**Benefits**  \n- Home Office  \n- Flexible working hours  \n- Meal allowance  \n- Good transport connections  \n- Employee discounts  \n- Health promotion  \n- Canteen/company restaurant  \n- Company doctor  \n- Company car  \n- Fresh fruit  \n- Team events  \n- Employee bonuses  \n- Additional insurance  \n- Transportation allowance  \n- Childcare  \n- Fitness offers  \n- Coffee, tea, etc.  ",
         "1. Platform: iOS  \n2. Salary: Not mentioned  \n3. Requirements:  \n   - You are familiar with Continuous Integration using Jenkins and Gradle.  \n   - You are characterized by solution-oriented thinking, independent and responsible work, as well as teamwork skills.  \n   - You are good at listening, questioning, and explaining.  \n   - You develop the Mein ELBA app – the tool that fits in every pocket. Whether it’s the grandmother quickly managing her payments or the child with their first youth account organizing their finances – the Mein ELBA app makes everything possible: payments, securities transactions, and much more – quickly, easily, and anywhere.  \n   - You have good German and English skills, both written and spoken, and can apply them in your professional daily life.  \n   - You have several years of experience in app development with iOS (Swift).  \n4. Nice to have: Not mentioned  \n5. Responsibilities:  \n   - You contribute to the further development of the Mein ELBA app for 2.8 million customers and ensure it runs smoothly.  \n   - You develop an appealing, modern, and accessible interface for our customers to manage their daily banking tasks.  \n   - With your meticulous and security-conscious approach, you ensure that our customers feel well-supported when using online banking.  \n   - You program new features for Austria's largest banking app natively for iOS using Swift.  \n   - You take stakeholders' concerns to heart and strive to quickly find satisfactory solutions for them.  \n6. Benefits:  \n   - Home Office  \n   - Flexible working hours  \n   - Meal allowance  \n   - Good transport connections  \n   - Employee discounts  \n   - Health promotion  \n   - Canteen/company restaurant  \n   - Company doctor  \n   - Company car  \n   - Fresh fruit  \n   - Team events  \n   - Employee bonuses  \n   - Additional insurance  \n   - Transportation allowance  \n   - Childcare  \n   - Fitness offers  \n   - Coffee, tea, etc.  ",
         "iOS",
         "Not mentioned",
         "- You are familiar with Continuous Integration using Jenkins and Gradle.  \n   - You are characterized by solution-oriented thinking, independent and responsible work, as well as teamwork skills.  \n   - You are good at listening, questioning, and explaining.  \n   - You develop the Mein ELBA app – the tool that fits in every pocket. Whether it’s the grandmother quickly managing her payments or the child with their first youth account organizing their finances – the Mein ELBA app makes everything possible: payments, securities transactions, and much more – quickly, easily, and anywhere.  \n   - You have good German and English skills, both written and spoken, and can apply them in your professional daily life.  \n   - You have several years of experience in app development with iOS (Swift).",
         "Not mentioned",
         "- You contribute to the further development of the Mein ELBA app for 2.8 million customers and ensure it runs smoothly.  \n   - You develop an appealing, modern, and accessible interface for our customers to manage their daily banking tasks.  \n   - With your meticulous and security-conscious approach, you ensure that our customers feel well-supported when using online banking.  \n   - You program new features for Austria's largest banking app natively for iOS using Swift.  \n   - You take stakeholders' concerns to heart and strive to quickly find satisfactory solutions for them.",
         "- Home Office  \n   - Flexible working hours  \n   - Meal allowance  \n   - Good transport connections  \n   - Employee discounts  \n   - Health promotion  \n   - Canteen/company restaurant  \n   - Company doctor  \n   - Company car  \n   - Fresh fruit  \n   - Team events  \n   - Employee bonuses  \n   - Additional insurance  \n   - Transportation allowance  \n   - Childcare  \n   - Fitness offers  \n   - Coffee, tea, etc.",
         "3. Requirements:\n- You are familiar with Continuous Integration using Jenkins and Gradle.  \n   - You are characterized by solution-oriented thinking, independent and responsible work, as well as teamwork skills.  \n   - You are good at listening, questioning, and explaining.  \n   - You develop the Mein ELBA app – the tool that fits in every pocket. Whether it’s the grandmother quickly managing her payments or the child with their first youth account organizing their finances – the Mein ELBA app makes everything possible: payments, securities transactions, and much more – quickly, easily, and anywhere.  \n   - You have good German and English skills, both written and spoken, and can apply them in your professional daily life.  \n   - You have several years of experience in app development with iOS (Swift).\n\n4. Nice to have:\nNot mentioned\n\n5. Responsibilities:\n- You contribute to the further development of the Mein ELBA app for 2.8 million customers and ensure it runs smoothly.  \n   - You develop an appealing, modern, and accessible interface for our customers to manage their daily banking tasks.  \n   - With your meticulous and security-conscious approach, you ensure that our customers feel well-supported when using online banking.  \n   - You program new features for Austria's largest banking app natively for iOS using Swift.  \n   - You take stakeholders' concerns to heart and strive to quickly find satisfactory solutions for them.",
         "{\n    \"languages_and_runtimes\":[\"Swift\"],\n    \"build_and_dependency_management\":[\"Gradle\"],\n    \"ci_cd_and_release_automation\":[\"Jenkins\"]\n}",
         "{\"languages_and_runtimes\": [\"swift\"], \"build_and_dependency_management\": [\"gradle\"], \"ci_cd_and_release_automation\": [\"jenkins\"]}",
         "swift, gradle, jenkins",
         "{'languages': ['Swift'], 'build_dependency': ['Gradle'], 'ci_cd': ['Jenkins']}",
         "{'languages': ['Swift'], 'build_dependency': ['Gradle'], 'ci_cd': ['Jenkins']}",
         null,
         null,
         null,
         null,
         "Gradle",
         "Jenkins",
         null,
         null,
         null,
         null,
         null,
         null,
         null,
         null,
         null,
         "Swift",
         null,
         null,
         null,
         null,
         null,
         null,
         null,
         null,
         null,
         null,
         null,
         null
        ],
        [
         "4",
         "Austria",
         "Europe",
         "True",
         "True",
         "default",
         "google.com",
         "iOS Software Engineer",
         "Cybermoth",
         "Vienna, Austria",
         "Expertini, Talent.com",
         "We are searching for iOS Software Engineers with native iOS development experience\r\n\r\nAs a software engineer you'll be working with project managers, designers, software architects and engineers to deliver software products.\r\n\r\nQualification\r\n\r\nPlease apply for this position if you meet the following requirements:\r\n• Worked on at least one native Swift application published in the App Store\r\n• Experience building mobile apps using Swift, Objective-C, Java, or Kotlin\r\n• Fluent in Swift and at least one other programming language\r\n• Deep understanding of the iOS SDK\r\n• Good knowledge of Xcode and Jetbrains IDEs\r\n• Experience with version control\r\n• Worked with agile scrum frameworks\r\n• Knowledge of MacOS, iOS and Apple software\r\n• Fluent in English, written and spoken\r\n\r\nYour work experience, skills and references will be verified.\r\n\r\nResponsibilities\r\n\r\nIn this position you will be part of one or more remote or in-house agile teams for internal, commercial or research projects.\r\n\r\nBe committed to build quality high-performance software, be willing to work overtime if necessary and be available for international business travel.\r\n\r\nWork environment\r\n\r\nYou will work in a team office during this full time position in our offices in Donaucity, Vienna. We provide fruits, vegan snacks and beverages and a relaxing, creative environment.\r\n\r\nWhat we offer\r\n\r\nYou will be part of a company with an inspiring vision and a clear purpose. We are very selective and demand professional excellence from all our team, and offer attractive rewards to keep everyone happy at all times:\r\n• Depending on qualifications and professional experience, we offer a gross monthly salary between € 2,700 and € 5,400 for this position\r\n• Five weeks of vacation per year\r\n• For Non-EU residents we offer a 6 months contract working in Vienna with the possibility to prolong, or after this period work remote from your country of origin\r\n• Assistance with Austrian work visa application if necessary\r\n• All additional benefits dictated by Austria's employment law including medical insurance\r\n• We welcome unvaccinated candidates",
         null,
         null,
         "Full-time",
         "No degree mentioned",
         "eyJqb2JfdGl0bGUiOiJpT1MgU29mdHdhcmUgRW5naW5lZXIiLCJjb21wYW55X25hbWUiOiJDeWJlcm1vdGgiLCJhZGRyZXNzX2NpdHkiOiJWaWVubmEsIEF1c3RyaWEiLCJodGlkb2NpZCI6Ik03UGNJLXNzTUp3T3hXVXhBQUFBQUE9PSIsInV1bGUiOiJ3K0NBSVFJQ0lIUVhWemRISnBZUSJ9",
         "2025-01-13 12:20:42 UTC",
         "iOS developer",
         "en",
         "We are searching for iOS Software Engineers with native iOS development experience\r\n\r\nAs a software engineer you'll be working with project managers, designers, software architects and engineers to deliver software products.\r\n\r\nQualification\r\n\r\nPlease apply for this position if you meet the following requirements:\r\n• Worked on at least one native Swift application published in the App Store\r\n• Experience building mobile apps using Swift, Objective-C, Java, or Kotlin\r\n• Fluent in Swift and at least one other programming language\r\n• Deep understanding of the iOS SDK\r\n• Good knowledge of Xcode and Jetbrains IDEs\r\n• Experience with version control\r\n• Worked with agile scrum frameworks\r\n• Knowledge of MacOS, iOS and Apple software\r\n• Fluent in English, written and spoken\r\n\r\nYour work experience, skills and references will be verified.\r\n\r\nResponsibilities\r\n\r\nIn this position you will be part of one or more remote or in-house agile teams for internal, commercial or research projects.\r\n\r\nBe committed to build quality high-performance software, be willing to work overtime if necessary and be available for international business travel.\r\n\r\nWork environment\r\n\r\nYou will work in a team office during this full time position in our offices in Donaucity, Vienna. We provide fruits, vegan snacks and beverages and a relaxing, creative environment.\r\n\r\nWhat we offer\r\n\r\nYou will be part of a company with an inspiring vision and a clear purpose. We are very selective and demand professional excellence from all our team, and offer attractive rewards to keep everyone happy at all times:\r\n• Depending on qualifications and professional experience, we offer a gross monthly salary between € 2,700 and € 5,400 for this position\r\n• Five weeks of vacation per year\r\n• For Non-EU residents we offer a 6 months contract working in Vienna with the possibility to prolong, or after this period work remote from your country of origin\r\n• Assistance with Austrian work visa application if necessary\r\n• All additional benefits dictated by Austria's employment law including medical insurance\r\n• We welcome unvaccinated candidates",
         "1. Platform: iOS  \n2. Salary: Depending on qualifications and professional experience, we offer a gross monthly salary between € 2,700 and € 5,400 for this position  \n3. Requirements:  \n   • Worked on at least one native Swift application published in the App Store  \n   • Experience building mobile apps using Swift, Objective-C, Java, or Kotlin  \n   • Fluent in Swift and at least one other programming language  \n   • Deep understanding of the iOS SDK  \n   • Good knowledge of Xcode and Jetbrains IDEs  \n   • Experience with version control  \n   • Worked with agile scrum frameworks  \n   • Knowledge of MacOS, iOS and Apple software  \n   • Fluent in English, written and spoken  \n   • Your work experience, skills and references will be verified  \n4. Nice to have: Not mentioned  \n5. Responsibilities:  \n   • In this position you will be part of one or more remote or in-house agile teams for internal, commercial or research projects.  \n   • Be committed to build quality high-performance software, be willing to work overtime if necessary and be available for international business travel.  \n6. Benefits:  \n   • You will be part of a company with an inspiring vision and a clear purpose.  \n   • We are very selective and demand professional excellence from all our team, and offer attractive rewards to keep everyone happy at all times:  \n     - Depending on qualifications and professional experience, we offer a gross monthly salary between € 2,700 and € 5,400 for this position  \n     - Five weeks of vacation per year  \n     - For Non-EU residents we offer a 6 months contract working in Vienna with the possibility to prolong, or after this period work remote from your country of origin  \n     - Assistance with Austrian work visa application if necessary  \n     - All additional benefits dictated by Austria's employment law including medical insurance  \n     - We welcome unvaccinated candidates  ",
         "iOS",
         "Depending on qualifications and professional experience, we offer a gross monthly salary between € 2,700 and € 5,400 for this position",
         "• Worked on at least one native Swift application published in the App Store  \n   • Experience building mobile apps using Swift, Objective-C, Java, or Kotlin  \n   • Fluent in Swift and at least one other programming language  \n   • Deep understanding of the iOS SDK  \n   • Good knowledge of Xcode and Jetbrains IDEs  \n   • Experience with version control  \n   • Worked with agile scrum frameworks  \n   • Knowledge of MacOS, iOS and Apple software  \n   • Fluent in English, written and spoken  \n   • Your work experience, skills and references will be verified",
         "Not mentioned",
         "• In this position you will be part of one or more remote or in-house agile teams for internal, commercial or research projects.  \n   • Be committed to build quality high-performance software, be willing to work overtime if necessary and be available for international business travel.",
         "• You will be part of a company with an inspiring vision and a clear purpose.  \n   • We are very selective and demand professional excellence from all our team, and offer attractive rewards to keep everyone happy at all times:  \n     - Depending on qualifications and professional experience, we offer a gross monthly salary between € 2,700 and € 5,400 for this position  \n     - Five weeks of vacation per year  \n     - For Non-EU residents we offer a 6 months contract working in Vienna with the possibility to prolong, or after this period work remote from your country of origin  \n     - Assistance with Austrian work visa application if necessary  \n     - All additional benefits dictated by Austria's employment law including medical insurance  \n     - We welcome unvaccinated candidates",
         "3. Requirements:\n• Worked on at least one native Swift application published in the App Store  \n   • Experience building mobile apps using Swift, Objective-C, Java, or Kotlin  \n   • Fluent in Swift and at least one other programming language  \n   • Deep understanding of the iOS SDK  \n   • Good knowledge of Xcode and Jetbrains IDEs  \n   • Experience with version control  \n   • Worked with agile scrum frameworks  \n   • Knowledge of MacOS, iOS and Apple software  \n   • Fluent in English, written and spoken  \n   • Your work experience, skills and references will be verified\n\n4. Nice to have:\nNot mentioned\n\n5. Responsibilities:\n• In this position you will be part of one or more remote or in-house agile teams for internal, commercial or research projects.  \n   • Be committed to build quality high-performance software, be willing to work overtime if necessary and be available for international business travel.",
         "{\n    \"languages_and_runtimes\":[\"Java\",\"Kotlin\",\"Objective-C\",\"Swift\"],\n    \"build_and_dependency_management\":[\"Xcode\"],\n    \"development_methodologies\":[\"Scrum\"]\n}",
         "{\"languages_and_runtimes\": [\"java\", \"kotlin\", \"objective-c\", \"swift\"], \"build_and_dependency_management\": [\"xcode\"], \"development_methodologies\": [\"scrum\"]}",
         "objective-c, swift, xcode, scrum",
         "{'languages': ['Objective-C', 'Swift'], 'ides': ['Xcode'], 'methodologies': ['Scrum']}",
         "{'languages': ['Objective-C', 'Swift'], 'ides': ['Xcode'], 'methodologies': ['Scrum']}",
         null,
         null,
         null,
         null,
         null,
         null,
         null,
         null,
         null,
         null,
         null,
         null,
         null,
         null,
         "Xcode",
         "Objective-C, Swift",
         "Scrum",
         null,
         null,
         null,
         null,
         null,
         null,
         null,
         null,
         null,
         null,
         null
        ]
       ],
       "shape": {
        "columns": 61,
        "rows": 5
       }
      },
      "text/html": [
       "<div>\n",
       "<style scoped>\n",
       "    .dataframe tbody tr th:only-of-type {\n",
       "        vertical-align: middle;\n",
       "    }\n",
       "\n",
       "    .dataframe tbody tr th {\n",
       "        vertical-align: top;\n",
       "    }\n",
       "\n",
       "    .dataframe thead th {\n",
       "        text-align: right;\n",
       "    }\n",
       "</style>\n",
       "<table border=\"1\" class=\"dataframe\">\n",
       "  <thead>\n",
       "    <tr style=\"text-align: right;\">\n",
       "      <th></th>\n",
       "      <th>Location</th>\n",
       "      <th>Region</th>\n",
       "      <th>EU Member</th>\n",
       "      <th>Schengen Agreement</th>\n",
       "      <th>Google Domain Type</th>\n",
       "      <th>Google Domain Used</th>\n",
       "      <th>Job Title</th>\n",
       "      <th>Company Name</th>\n",
       "      <th>Job Location</th>\n",
       "      <th>Apply Options</th>\n",
       "      <th>...</th>\n",
       "      <th>native_interop</th>\n",
       "      <th>native_ui</th>\n",
       "      <th>networking</th>\n",
       "      <th>platform_android</th>\n",
       "      <th>platform_apple</th>\n",
       "      <th>runtimes</th>\n",
       "      <th>security_compliance</th>\n",
       "      <th>team_collaboration</th>\n",
       "      <th>testing_quality</th>\n",
       "      <th>version_control</th>\n",
       "    </tr>\n",
       "  </thead>\n",
       "  <tbody>\n",
       "    <tr>\n",
       "      <th>0</th>\n",
       "      <td>Austria</td>\n",
       "      <td>Europe</td>\n",
       "      <td>True</td>\n",
       "      <td>True</td>\n",
       "      <td>default</td>\n",
       "      <td>google.com</td>\n",
       "      <td>Android Developer – Kotlin (Austria based, Hyb...</td>\n",
       "      <td>Bitcoin Devs Company</td>\n",
       "      <td>Vienna, Austria</td>\n",
       "      <td>Jobs3</td>\n",
       "      <td>...</td>\n",
       "      <td>NaN</td>\n",
       "      <td>NaN</td>\n",
       "      <td>Retrofit</td>\n",
       "      <td>NaN</td>\n",
       "      <td>NaN</td>\n",
       "      <td>NaN</td>\n",
       "      <td>NaN</td>\n",
       "      <td>NaN</td>\n",
       "      <td>NaN</td>\n",
       "      <td>NaN</td>\n",
       "    </tr>\n",
       "    <tr>\n",
       "      <th>1</th>\n",
       "      <td>Austria</td>\n",
       "      <td>Europe</td>\n",
       "      <td>True</td>\n",
       "      <td>True</td>\n",
       "      <td>default</td>\n",
       "      <td>google.com</td>\n",
       "      <td>ios entwickler 80–100% w/m/d</td>\n",
       "      <td>CHANCENLAND VORARLBERG</td>\n",
       "      <td>Dornbirn, Austria</td>\n",
       "      <td>IT-Career.at, STEMJOBS.AT, IT-JOBS.AT</td>\n",
       "      <td>...</td>\n",
       "      <td>NaN</td>\n",
       "      <td>NaN</td>\n",
       "      <td>NaN</td>\n",
       "      <td>NaN</td>\n",
       "      <td>NaN</td>\n",
       "      <td>NaN</td>\n",
       "      <td>NaN</td>\n",
       "      <td>NaN</td>\n",
       "      <td>NaN</td>\n",
       "      <td>NaN</td>\n",
       "    </tr>\n",
       "    <tr>\n",
       "      <th>2</th>\n",
       "      <td>Austria</td>\n",
       "      <td>Europe</td>\n",
       "      <td>True</td>\n",
       "      <td>True</td>\n",
       "      <td>default</td>\n",
       "      <td>google.com</td>\n",
       "      <td>Middle iOS developer</td>\n",
       "      <td>Processica</td>\n",
       "      <td>Vienna, Austria</td>\n",
       "      <td>JOBITT</td>\n",
       "      <td>...</td>\n",
       "      <td>NaN</td>\n",
       "      <td>NaN</td>\n",
       "      <td>NaN</td>\n",
       "      <td>NaN</td>\n",
       "      <td>NaN</td>\n",
       "      <td>NaN</td>\n",
       "      <td>NaN</td>\n",
       "      <td>NaN</td>\n",
       "      <td>NaN</td>\n",
       "      <td>NaN</td>\n",
       "    </tr>\n",
       "    <tr>\n",
       "      <th>3</th>\n",
       "      <td>Austria</td>\n",
       "      <td>Europe</td>\n",
       "      <td>True</td>\n",
       "      <td>True</td>\n",
       "      <td>default</td>\n",
       "      <td>google.com</td>\n",
       "      <td>iOS Developer</td>\n",
       "      <td>Raiffeisen Gruppe</td>\n",
       "      <td>Linz, Austria</td>\n",
       "      <td>Jooble, Trabajo.org - Stellenangebote, Arbeit</td>\n",
       "      <td>...</td>\n",
       "      <td>NaN</td>\n",
       "      <td>NaN</td>\n",
       "      <td>NaN</td>\n",
       "      <td>NaN</td>\n",
       "      <td>NaN</td>\n",
       "      <td>NaN</td>\n",
       "      <td>NaN</td>\n",
       "      <td>NaN</td>\n",
       "      <td>NaN</td>\n",
       "      <td>NaN</td>\n",
       "    </tr>\n",
       "    <tr>\n",
       "      <th>4</th>\n",
       "      <td>Austria</td>\n",
       "      <td>Europe</td>\n",
       "      <td>True</td>\n",
       "      <td>True</td>\n",
       "      <td>default</td>\n",
       "      <td>google.com</td>\n",
       "      <td>iOS Software Engineer</td>\n",
       "      <td>Cybermoth</td>\n",
       "      <td>Vienna, Austria</td>\n",
       "      <td>Expertini, Talent.com</td>\n",
       "      <td>...</td>\n",
       "      <td>NaN</td>\n",
       "      <td>NaN</td>\n",
       "      <td>NaN</td>\n",
       "      <td>NaN</td>\n",
       "      <td>NaN</td>\n",
       "      <td>NaN</td>\n",
       "      <td>NaN</td>\n",
       "      <td>NaN</td>\n",
       "      <td>NaN</td>\n",
       "      <td>NaN</td>\n",
       "    </tr>\n",
       "  </tbody>\n",
       "</table>\n",
       "<p>5 rows × 61 columns</p>\n",
       "</div>"
      ],
      "text/plain": [
       "  Location  Region  EU Member  Schengen Agreement Google Domain Type  \\\n",
       "0  Austria  Europe       True                True            default   \n",
       "1  Austria  Europe       True                True            default   \n",
       "2  Austria  Europe       True                True            default   \n",
       "3  Austria  Europe       True                True            default   \n",
       "4  Austria  Europe       True                True            default   \n",
       "\n",
       "  Google Domain Used                                          Job Title  \\\n",
       "0         google.com  Android Developer – Kotlin (Austria based, Hyb...   \n",
       "1         google.com                       ios entwickler 80–100% w/m/d   \n",
       "2         google.com                               Middle iOS developer   \n",
       "3         google.com                                      iOS Developer   \n",
       "4         google.com                              iOS Software Engineer   \n",
       "\n",
       "             Company Name       Job Location  \\\n",
       "0    Bitcoin Devs Company    Vienna, Austria   \n",
       "1  CHANCENLAND VORARLBERG  Dornbirn, Austria   \n",
       "2              Processica    Vienna, Austria   \n",
       "3       Raiffeisen Gruppe      Linz, Austria   \n",
       "4               Cybermoth    Vienna, Austria   \n",
       "\n",
       "                                   Apply Options  ... native_interop  \\\n",
       "0                                          Jobs3  ...            NaN   \n",
       "1          IT-Career.at, STEMJOBS.AT, IT-JOBS.AT  ...            NaN   \n",
       "2                                         JOBITT  ...            NaN   \n",
       "3  Jooble, Trabajo.org - Stellenangebote, Arbeit  ...            NaN   \n",
       "4                          Expertini, Talent.com  ...            NaN   \n",
       "\n",
       "  native_ui networking platform_android platform_apple runtimes  \\\n",
       "0       NaN   Retrofit              NaN            NaN      NaN   \n",
       "1       NaN        NaN              NaN            NaN      NaN   \n",
       "2       NaN        NaN              NaN            NaN      NaN   \n",
       "3       NaN        NaN              NaN            NaN      NaN   \n",
       "4       NaN        NaN              NaN            NaN      NaN   \n",
       "\n",
       "  security_compliance team_collaboration testing_quality version_control  \n",
       "0                 NaN                NaN             NaN             NaN  \n",
       "1                 NaN                NaN             NaN             NaN  \n",
       "2                 NaN                NaN             NaN             NaN  \n",
       "3                 NaN                NaN             NaN             NaN  \n",
       "4                 NaN                NaN             NaN             NaN  \n",
       "\n",
       "[5 rows x 61 columns]"
      ]
     },
     "execution_count": 64,
     "metadata": {},
     "output_type": "execute_result"
    }
   ],
   "source": [
    "df = pd.read_csv(\"../data/csv/df_final.csv\").copy()\n",
    "df.head()"
   ]
  },
  {
   "cell_type": "markdown",
   "id": "a021f687",
   "metadata": {},
   "source": [
    "## Leave only the necessary columns"
   ]
  },
  {
   "cell_type": "code",
   "execution_count": 65,
   "id": "9508f810",
   "metadata": {},
   "outputs": [
    {
     "data": {
      "application/vnd.microsoft.datawrangler.viewer.v0+json": {
       "columns": [
        {
         "name": "index",
         "rawType": "int64",
         "type": "integer"
        },
        {
         "name": "Location",
         "rawType": "object",
         "type": "string"
        },
        {
         "name": "Region",
         "rawType": "object",
         "type": "string"
        },
        {
         "name": "Job ID",
         "rawType": "object",
         "type": "string"
        },
        {
         "name": "Platform",
         "rawType": "object",
         "type": "string"
        },
        {
         "name": "api_documentation",
         "rawType": "object",
         "type": "unknown"
        },
        {
         "name": "app_distribution",
         "rawType": "object",
         "type": "unknown"
        },
        {
         "name": "architecture",
         "rawType": "object",
         "type": "unknown"
        },
        {
         "name": "backend_baas",
         "rawType": "object",
         "type": "unknown"
        },
        {
         "name": "build_dependency",
         "rawType": "object",
         "type": "unknown"
        },
        {
         "name": "ci_cd",
         "rawType": "object",
         "type": "unknown"
        },
        {
         "name": "concurrency_reactive",
         "rawType": "object",
         "type": "unknown"
        },
        {
         "name": "cross_platform_sdks",
         "rawType": "object",
         "type": "unknown"
        },
        {
         "name": "cross_platform_ui",
         "rawType": "object",
         "type": "unknown"
        },
        {
         "name": "data_storage",
         "rawType": "object",
         "type": "unknown"
        },
        {
         "name": "debug_profiling",
         "rawType": "object",
         "type": "unknown"
        },
        {
         "name": "dependency_injection",
         "rawType": "object",
         "type": "unknown"
        },
        {
         "name": "design_guidelines",
         "rawType": "object",
         "type": "unknown"
        },
        {
         "name": "game_dev",
         "rawType": "object",
         "type": "unknown"
        },
        {
         "name": "ides",
         "rawType": "object",
         "type": "unknown"
        },
        {
         "name": "languages",
         "rawType": "object",
         "type": "unknown"
        },
        {
         "name": "methodologies",
         "rawType": "object",
         "type": "unknown"
        },
        {
         "name": "monitoring_analytics",
         "rawType": "object",
         "type": "unknown"
        },
        {
         "name": "native_interop",
         "rawType": "object",
         "type": "unknown"
        },
        {
         "name": "native_ui",
         "rawType": "object",
         "type": "unknown"
        },
        {
         "name": "networking",
         "rawType": "object",
         "type": "unknown"
        },
        {
         "name": "platform_android",
         "rawType": "object",
         "type": "unknown"
        },
        {
         "name": "platform_apple",
         "rawType": "object",
         "type": "unknown"
        },
        {
         "name": "runtimes",
         "rawType": "object",
         "type": "unknown"
        },
        {
         "name": "security_compliance",
         "rawType": "object",
         "type": "unknown"
        },
        {
         "name": "team_collaboration",
         "rawType": "object",
         "type": "unknown"
        },
        {
         "name": "testing_quality",
         "rawType": "object",
         "type": "unknown"
        },
        {
         "name": "version_control",
         "rawType": "object",
         "type": "unknown"
        }
       ],
       "ref": "064b26ad-2083-4564-be3c-cc27b55e8f02",
       "rows": [
        [
         "0",
         "Austria",
         "Europe",
         "eyJqb2JfdGl0bGUiOiJBbmRyb2lkIERldmVsb3BlciDigJMgS290bGluIChBdXN0cmlhIGJhc2VkLCBIeWJyaWQpIiwiY29tcGFueV9uYW1lIjoiQml0Y29pbiBEZXZzIENvbXBhbnkiLCJhZGRyZXNzX2NpdHkiOiJWaWVubmEsIEF1c3RyaWEiLCJodGlkb2NpZCI6IkpETURFcWVrYlAyOGkxU0VBQUFBQUE9PSIsInV1bGUiOiJ3K0NBSVFJQ0lIUVhWemRISnBZUSJ9",
         "Android",
         null,
         "Google Play Store / Google Play Console",
         "Model-View-ViewModel (MVVM)",
         null,
         null,
         null,
         "Kotlin Coroutines",
         null,
         null,
         null,
         null,
         "Hilt",
         null,
         null,
         null,
         "Kotlin",
         null,
         null,
         null,
         null,
         "Retrofit",
         null,
         null,
         null,
         null,
         null,
         null,
         null
        ],
        [
         "1",
         "Austria",
         "Europe",
         "eyJqb2JfdGl0bGUiOiJpb3MgZW50d2lja2xlciA4MOKAkzEwMCUgdy9tL2QiLCJjb21wYW55X25hbWUiOiJDSEFOQ0VOTEFORCBWT1JBUkxCRVJHIiwiYWRkcmVzc19jaXR5IjoiRG9ybmJpcm4sIEF1c3RyaWEiLCJodGlkb2NpZCI6IlI2bGFZTG9UUXZYc0pDVTdBQUFBQUE9PSIsInV1bGUiOiJ3K0NBSVFJQ0lIUVhWemRISnBZUSJ9",
         "iOS",
         null,
         null,
         null,
         null,
         null,
         null,
         null,
         null,
         null,
         null,
         null,
         null,
         null,
         null,
         null,
         null,
         null,
         null,
         null,
         null,
         null,
         null,
         null,
         null,
         null,
         null,
         null,
         null
        ],
        [
         "2",
         "Austria",
         "Europe",
         "eyJqb2JfdGl0bGUiOiJNaWRkbGUgaU9TIGRldmVsb3BlciIsImNvbXBhbnlfbmFtZSI6IlByb2Nlc3NpY2EiLCJhZGRyZXNzX2NpdHkiOiJWaWVubmEsIEF1c3RyaWEiLCJodGlkb2NpZCI6IjNmQ09lWXNNZFhkQUMwSktBQUFBQUE9PSIsInV1bGUiOiJ3K0NBSVFJQ0lIUVhWemRISnBZUSJ9",
         "iOS",
         null,
         null,
         null,
         null,
         null,
         null,
         null,
         null,
         null,
         null,
         null,
         null,
         null,
         null,
         null,
         null,
         null,
         null,
         null,
         null,
         null,
         null,
         null,
         null,
         null,
         null,
         null,
         null
        ],
        [
         "3",
         "Austria",
         "Europe",
         "eyJqb2JfdGl0bGUiOiJpT1MgRGV2ZWxvcGVyIiwiY29tcGFueV9uYW1lIjoiUmFpZmZlaXNlbiBHcnVwcGUiLCJhZGRyZXNzX2NpdHkiOiJMaW56LCBBdXN0cmlhIiwiaHRpZG9jaWQiOiJkOTZOUHZyY1gzUlpacVZBQUFBQUFBPT0iLCJ1dWxlIjoidytDQUlRSUNJSFFYVnpkSEpwWVEifQ==",
         "iOS",
         null,
         null,
         null,
         null,
         "Gradle",
         "Jenkins",
         null,
         null,
         null,
         null,
         null,
         null,
         null,
         null,
         null,
         "Swift",
         null,
         null,
         null,
         null,
         null,
         null,
         null,
         null,
         null,
         null,
         null,
         null
        ],
        [
         "4",
         "Austria",
         "Europe",
         "eyJqb2JfdGl0bGUiOiJpT1MgU29mdHdhcmUgRW5naW5lZXIiLCJjb21wYW55X25hbWUiOiJDeWJlcm1vdGgiLCJhZGRyZXNzX2NpdHkiOiJWaWVubmEsIEF1c3RyaWEiLCJodGlkb2NpZCI6Ik03UGNJLXNzTUp3T3hXVXhBQUFBQUE9PSIsInV1bGUiOiJ3K0NBSVFJQ0lIUVhWemRISnBZUSJ9",
         "iOS",
         null,
         null,
         null,
         null,
         null,
         null,
         null,
         null,
         null,
         null,
         null,
         null,
         null,
         null,
         "Xcode",
         "Objective-C, Swift",
         "Scrum",
         null,
         null,
         null,
         null,
         null,
         null,
         null,
         null,
         null,
         null,
         null
        ]
       ],
       "shape": {
        "columns": 32,
        "rows": 5
       }
      },
      "text/html": [
       "<div>\n",
       "<style scoped>\n",
       "    .dataframe tbody tr th:only-of-type {\n",
       "        vertical-align: middle;\n",
       "    }\n",
       "\n",
       "    .dataframe tbody tr th {\n",
       "        vertical-align: top;\n",
       "    }\n",
       "\n",
       "    .dataframe thead th {\n",
       "        text-align: right;\n",
       "    }\n",
       "</style>\n",
       "<table border=\"1\" class=\"dataframe\">\n",
       "  <thead>\n",
       "    <tr style=\"text-align: right;\">\n",
       "      <th></th>\n",
       "      <th>Location</th>\n",
       "      <th>Region</th>\n",
       "      <th>Job ID</th>\n",
       "      <th>Platform</th>\n",
       "      <th>api_documentation</th>\n",
       "      <th>app_distribution</th>\n",
       "      <th>architecture</th>\n",
       "      <th>backend_baas</th>\n",
       "      <th>build_dependency</th>\n",
       "      <th>ci_cd</th>\n",
       "      <th>...</th>\n",
       "      <th>native_interop</th>\n",
       "      <th>native_ui</th>\n",
       "      <th>networking</th>\n",
       "      <th>platform_android</th>\n",
       "      <th>platform_apple</th>\n",
       "      <th>runtimes</th>\n",
       "      <th>security_compliance</th>\n",
       "      <th>team_collaboration</th>\n",
       "      <th>testing_quality</th>\n",
       "      <th>version_control</th>\n",
       "    </tr>\n",
       "  </thead>\n",
       "  <tbody>\n",
       "    <tr>\n",
       "      <th>0</th>\n",
       "      <td>Austria</td>\n",
       "      <td>Europe</td>\n",
       "      <td>eyJqb2JfdGl0bGUiOiJBbmRyb2lkIERldmVsb3BlciDigJ...</td>\n",
       "      <td>Android</td>\n",
       "      <td>NaN</td>\n",
       "      <td>Google Play Store / Google Play Console</td>\n",
       "      <td>Model-View-ViewModel (MVVM)</td>\n",
       "      <td>NaN</td>\n",
       "      <td>NaN</td>\n",
       "      <td>NaN</td>\n",
       "      <td>...</td>\n",
       "      <td>NaN</td>\n",
       "      <td>NaN</td>\n",
       "      <td>Retrofit</td>\n",
       "      <td>NaN</td>\n",
       "      <td>NaN</td>\n",
       "      <td>NaN</td>\n",
       "      <td>NaN</td>\n",
       "      <td>NaN</td>\n",
       "      <td>NaN</td>\n",
       "      <td>NaN</td>\n",
       "    </tr>\n",
       "    <tr>\n",
       "      <th>1</th>\n",
       "      <td>Austria</td>\n",
       "      <td>Europe</td>\n",
       "      <td>eyJqb2JfdGl0bGUiOiJpb3MgZW50d2lja2xlciA4MOKAkz...</td>\n",
       "      <td>iOS</td>\n",
       "      <td>NaN</td>\n",
       "      <td>NaN</td>\n",
       "      <td>NaN</td>\n",
       "      <td>NaN</td>\n",
       "      <td>NaN</td>\n",
       "      <td>NaN</td>\n",
       "      <td>...</td>\n",
       "      <td>NaN</td>\n",
       "      <td>NaN</td>\n",
       "      <td>NaN</td>\n",
       "      <td>NaN</td>\n",
       "      <td>NaN</td>\n",
       "      <td>NaN</td>\n",
       "      <td>NaN</td>\n",
       "      <td>NaN</td>\n",
       "      <td>NaN</td>\n",
       "      <td>NaN</td>\n",
       "    </tr>\n",
       "    <tr>\n",
       "      <th>2</th>\n",
       "      <td>Austria</td>\n",
       "      <td>Europe</td>\n",
       "      <td>eyJqb2JfdGl0bGUiOiJNaWRkbGUgaU9TIGRldmVsb3Blci...</td>\n",
       "      <td>iOS</td>\n",
       "      <td>NaN</td>\n",
       "      <td>NaN</td>\n",
       "      <td>NaN</td>\n",
       "      <td>NaN</td>\n",
       "      <td>NaN</td>\n",
       "      <td>NaN</td>\n",
       "      <td>...</td>\n",
       "      <td>NaN</td>\n",
       "      <td>NaN</td>\n",
       "      <td>NaN</td>\n",
       "      <td>NaN</td>\n",
       "      <td>NaN</td>\n",
       "      <td>NaN</td>\n",
       "      <td>NaN</td>\n",
       "      <td>NaN</td>\n",
       "      <td>NaN</td>\n",
       "      <td>NaN</td>\n",
       "    </tr>\n",
       "    <tr>\n",
       "      <th>3</th>\n",
       "      <td>Austria</td>\n",
       "      <td>Europe</td>\n",
       "      <td>eyJqb2JfdGl0bGUiOiJpT1MgRGV2ZWxvcGVyIiwiY29tcG...</td>\n",
       "      <td>iOS</td>\n",
       "      <td>NaN</td>\n",
       "      <td>NaN</td>\n",
       "      <td>NaN</td>\n",
       "      <td>NaN</td>\n",
       "      <td>Gradle</td>\n",
       "      <td>Jenkins</td>\n",
       "      <td>...</td>\n",
       "      <td>NaN</td>\n",
       "      <td>NaN</td>\n",
       "      <td>NaN</td>\n",
       "      <td>NaN</td>\n",
       "      <td>NaN</td>\n",
       "      <td>NaN</td>\n",
       "      <td>NaN</td>\n",
       "      <td>NaN</td>\n",
       "      <td>NaN</td>\n",
       "      <td>NaN</td>\n",
       "    </tr>\n",
       "    <tr>\n",
       "      <th>4</th>\n",
       "      <td>Austria</td>\n",
       "      <td>Europe</td>\n",
       "      <td>eyJqb2JfdGl0bGUiOiJpT1MgU29mdHdhcmUgRW5naW5lZX...</td>\n",
       "      <td>iOS</td>\n",
       "      <td>NaN</td>\n",
       "      <td>NaN</td>\n",
       "      <td>NaN</td>\n",
       "      <td>NaN</td>\n",
       "      <td>NaN</td>\n",
       "      <td>NaN</td>\n",
       "      <td>...</td>\n",
       "      <td>NaN</td>\n",
       "      <td>NaN</td>\n",
       "      <td>NaN</td>\n",
       "      <td>NaN</td>\n",
       "      <td>NaN</td>\n",
       "      <td>NaN</td>\n",
       "      <td>NaN</td>\n",
       "      <td>NaN</td>\n",
       "      <td>NaN</td>\n",
       "      <td>NaN</td>\n",
       "    </tr>\n",
       "  </tbody>\n",
       "</table>\n",
       "<p>5 rows × 32 columns</p>\n",
       "</div>"
      ],
      "text/plain": [
       "  Location  Region                                             Job ID  \\\n",
       "0  Austria  Europe  eyJqb2JfdGl0bGUiOiJBbmRyb2lkIERldmVsb3BlciDigJ...   \n",
       "1  Austria  Europe  eyJqb2JfdGl0bGUiOiJpb3MgZW50d2lja2xlciA4MOKAkz...   \n",
       "2  Austria  Europe  eyJqb2JfdGl0bGUiOiJNaWRkbGUgaU9TIGRldmVsb3Blci...   \n",
       "3  Austria  Europe  eyJqb2JfdGl0bGUiOiJpT1MgRGV2ZWxvcGVyIiwiY29tcG...   \n",
       "4  Austria  Europe  eyJqb2JfdGl0bGUiOiJpT1MgU29mdHdhcmUgRW5naW5lZX...   \n",
       "\n",
       "  Platform api_documentation                         app_distribution  \\\n",
       "0  Android               NaN  Google Play Store / Google Play Console   \n",
       "1      iOS               NaN                                      NaN   \n",
       "2      iOS               NaN                                      NaN   \n",
       "3      iOS               NaN                                      NaN   \n",
       "4      iOS               NaN                                      NaN   \n",
       "\n",
       "                  architecture backend_baas build_dependency    ci_cd  ...  \\\n",
       "0  Model-View-ViewModel (MVVM)          NaN              NaN      NaN  ...   \n",
       "1                          NaN          NaN              NaN      NaN  ...   \n",
       "2                          NaN          NaN              NaN      NaN  ...   \n",
       "3                          NaN          NaN           Gradle  Jenkins  ...   \n",
       "4                          NaN          NaN              NaN      NaN  ...   \n",
       "\n",
       "  native_interop native_ui networking platform_android platform_apple  \\\n",
       "0            NaN       NaN   Retrofit              NaN            NaN   \n",
       "1            NaN       NaN        NaN              NaN            NaN   \n",
       "2            NaN       NaN        NaN              NaN            NaN   \n",
       "3            NaN       NaN        NaN              NaN            NaN   \n",
       "4            NaN       NaN        NaN              NaN            NaN   \n",
       "\n",
       "  runtimes security_compliance team_collaboration testing_quality  \\\n",
       "0      NaN                 NaN                NaN             NaN   \n",
       "1      NaN                 NaN                NaN             NaN   \n",
       "2      NaN                 NaN                NaN             NaN   \n",
       "3      NaN                 NaN                NaN             NaN   \n",
       "4      NaN                 NaN                NaN             NaN   \n",
       "\n",
       "  version_control  \n",
       "0             NaN  \n",
       "1             NaN  \n",
       "2             NaN  \n",
       "3             NaN  \n",
       "4             NaN  \n",
       "\n",
       "[5 rows x 32 columns]"
      ]
     },
     "execution_count": 65,
     "metadata": {},
     "output_type": "execute_result"
    }
   ],
   "source": [
    "df = data_cleaning.filtered_data(df)\n",
    "df.head()"
   ]
  },
  {
   "cell_type": "code",
   "execution_count": 66,
   "id": "fc2d8b9b",
   "metadata": {},
   "outputs": [],
   "source": [
    "df.to_csv(\"../data/csv/df_final_filtered.csv\", index=False)"
   ]
  },
  {
   "cell_type": "markdown",
   "id": "03d0d01c",
   "metadata": {},
   "source": [
    "## Re-creating data form \"wide\" to \"long\" format"
   ]
  },
  {
   "cell_type": "code",
   "execution_count": 67,
   "id": "bf7d6303",
   "metadata": {},
   "outputs": [],
   "source": [
    "long = data_cleaning.wide_long(df)\n",
    "long.head()\n",
    "long.to_csv('../data/csv/df_final_filtered_long.csv', index=False)"
   ]
  },
  {
   "cell_type": "markdown",
   "id": "04bafbd7",
   "metadata": {},
   "source": [
    "## Results"
   ]
  },
  {
   "cell_type": "code",
   "execution_count": 68,
   "id": "b990e58b",
   "metadata": {},
   "outputs": [],
   "source": [
    "eu_android = long[(long['Region'] =='Europe') & (long['Platform'] =='Android')].reset_index(drop=True)\n",
    "eu_ios = long[(long['Region'] =='Europe') & (long['Platform'] =='iOS')].reset_index(drop=True)\n",
    "\n",
    "na_android = long[(long['Region'] =='Northern America') & (long['Platform'] =='Android')].reset_index(drop=True)\n",
    "na_ios = long[(long['Region'] =='Northern America') & (long['Platform'] =='iOS')].reset_index(drop=True)"
   ]
  },
  {
   "cell_type": "code",
   "execution_count": 69,
   "id": "d0a75a49",
   "metadata": {},
   "outputs": [
    {
     "data": {
      "text/plain": [
       "['api_documentation',\n",
       " 'app_distribution',\n",
       " 'architecture',\n",
       " 'backend_baas',\n",
       " 'build_dependency',\n",
       " 'ci_cd',\n",
       " 'concurrency_reactive',\n",
       " 'cross_platform_sdks',\n",
       " 'cross_platform_ui',\n",
       " 'data_storage',\n",
       " 'debug_profiling',\n",
       " 'dependency_injection',\n",
       " 'design_guidelines',\n",
       " 'game_dev',\n",
       " 'ides',\n",
       " 'languages',\n",
       " 'methodologies',\n",
       " 'monitoring_analytics',\n",
       " 'native_interop',\n",
       " 'native_ui',\n",
       " 'networking',\n",
       " 'platform_android',\n",
       " 'platform_apple',\n",
       " 'runtimes',\n",
       " 'security_compliance',\n",
       " 'team_collaboration',\n",
       " 'testing_quality',\n",
       " 'version_control']"
      ]
     },
     "execution_count": 69,
     "metadata": {},
     "output_type": "execute_result"
    }
   ],
   "source": [
    "sorted(long['Category'].unique())"
   ]
  },
  {
   "cell_type": "markdown",
   "id": "5bf0bba8",
   "metadata": {},
   "source": [
    "### API specification and documentation (api_documentation)\n",
    "#### Andoid"
   ]
  },
  {
   "cell_type": "code",
   "execution_count": 70,
   "id": "57237cea",
   "metadata": {},
   "outputs": [
    {
     "data": {
      "application/vnd.microsoft.datawrangler.viewer.v0+json": {
       "columns": [
        {
         "name": "index",
         "rawType": "int64",
         "type": "integer"
        },
        {
         "name": "Technology",
         "rawType": "object",
         "type": "string"
        },
        {
         "name": "count",
         "rawType": "int64",
         "type": "integer"
        },
        {
         "name": "percent",
         "rawType": "float64",
         "type": "float"
        }
       ],
       "ref": "2b1d991b-d2ba-4d70-8b2b-d3a589514582",
       "rows": [
        [
         "0",
         "Swagger",
         "4",
         "0.58"
        ],
        [
         "1",
         "OpenAPI",
         "2",
         "0.29"
        ]
       ],
       "shape": {
        "columns": 3,
        "rows": 2
       }
      },
      "text/html": [
       "<div>\n",
       "<style scoped>\n",
       "    .dataframe tbody tr th:only-of-type {\n",
       "        vertical-align: middle;\n",
       "    }\n",
       "\n",
       "    .dataframe tbody tr th {\n",
       "        vertical-align: top;\n",
       "    }\n",
       "\n",
       "    .dataframe thead th {\n",
       "        text-align: right;\n",
       "    }\n",
       "</style>\n",
       "<table border=\"1\" class=\"dataframe\">\n",
       "  <thead>\n",
       "    <tr style=\"text-align: right;\">\n",
       "      <th></th>\n",
       "      <th>Technology</th>\n",
       "      <th>count</th>\n",
       "      <th>percent</th>\n",
       "    </tr>\n",
       "  </thead>\n",
       "  <tbody>\n",
       "    <tr>\n",
       "      <th>0</th>\n",
       "      <td>Swagger</td>\n",
       "      <td>4</td>\n",
       "      <td>0.58</td>\n",
       "    </tr>\n",
       "    <tr>\n",
       "      <th>1</th>\n",
       "      <td>OpenAPI</td>\n",
       "      <td>2</td>\n",
       "      <td>0.29</td>\n",
       "    </tr>\n",
       "  </tbody>\n",
       "</table>\n",
       "</div>"
      ],
      "text/plain": [
       "  Technology  count  percent\n",
       "0    Swagger      4     0.58\n",
       "1    OpenAPI      2     0.29"
      ]
     },
     "execution_count": 70,
     "metadata": {},
     "output_type": "execute_result"
    }
   ],
   "source": [
    "data_cleaning.make_table(df=eu_android, category='api_documentation')"
   ]
  },
  {
   "cell_type": "code",
   "execution_count": 71,
   "id": "5f0c8f14",
   "metadata": {},
   "outputs": [
    {
     "data": {
      "application/vnd.microsoft.datawrangler.viewer.v0+json": {
       "columns": [
        {
         "name": "index",
         "rawType": "int64",
         "type": "integer"
        },
        {
         "name": "Technology",
         "rawType": "object",
         "type": "string"
        },
        {
         "name": "count",
         "rawType": "int64",
         "type": "integer"
        },
        {
         "name": "percent",
         "rawType": "float64",
         "type": "float"
        }
       ],
       "ref": "b1ba90f8-926c-4674-8daa-b1beb5628faf",
       "rows": [
        [
         "0",
         "OpenAPI",
         "1",
         "0.35"
        ],
        [
         "1",
         "Swagger",
         "1",
         "0.35"
        ]
       ],
       "shape": {
        "columns": 3,
        "rows": 2
       }
      },
      "text/html": [
       "<div>\n",
       "<style scoped>\n",
       "    .dataframe tbody tr th:only-of-type {\n",
       "        vertical-align: middle;\n",
       "    }\n",
       "\n",
       "    .dataframe tbody tr th {\n",
       "        vertical-align: top;\n",
       "    }\n",
       "\n",
       "    .dataframe thead th {\n",
       "        text-align: right;\n",
       "    }\n",
       "</style>\n",
       "<table border=\"1\" class=\"dataframe\">\n",
       "  <thead>\n",
       "    <tr style=\"text-align: right;\">\n",
       "      <th></th>\n",
       "      <th>Technology</th>\n",
       "      <th>count</th>\n",
       "      <th>percent</th>\n",
       "    </tr>\n",
       "  </thead>\n",
       "  <tbody>\n",
       "    <tr>\n",
       "      <th>0</th>\n",
       "      <td>OpenAPI</td>\n",
       "      <td>1</td>\n",
       "      <td>0.35</td>\n",
       "    </tr>\n",
       "    <tr>\n",
       "      <th>1</th>\n",
       "      <td>Swagger</td>\n",
       "      <td>1</td>\n",
       "      <td>0.35</td>\n",
       "    </tr>\n",
       "  </tbody>\n",
       "</table>\n",
       "</div>"
      ],
      "text/plain": [
       "  Technology  count  percent\n",
       "0    OpenAPI      1     0.35\n",
       "1    Swagger      1     0.35"
      ]
     },
     "execution_count": 71,
     "metadata": {},
     "output_type": "execute_result"
    }
   ],
   "source": [
    "data_cleaning.make_table(df=na_android, category='api_documentation')"
   ]
  },
  {
   "cell_type": "markdown",
   "id": "e8d51245",
   "metadata": {},
   "source": [
    "#### iOS"
   ]
  },
  {
   "cell_type": "code",
   "execution_count": 72,
   "id": "4e418749",
   "metadata": {},
   "outputs": [
    {
     "data": {
      "application/vnd.microsoft.datawrangler.viewer.v0+json": {
       "columns": [
        {
         "name": "index",
         "rawType": "int64",
         "type": "integer"
        },
        {
         "name": "Technology",
         "rawType": "object",
         "type": "string"
        },
        {
         "name": "count",
         "rawType": "int64",
         "type": "integer"
        },
        {
         "name": "percent",
         "rawType": "float64",
         "type": "float"
        }
       ],
       "ref": "8bf640dd-a641-441e-a404-e9d45ebe5f2a",
       "rows": [
        [
         "0",
         "OpenAPI",
         "1",
         "0.13"
        ],
        [
         "1",
         "Swagger",
         "1",
         "0.13"
        ]
       ],
       "shape": {
        "columns": 3,
        "rows": 2
       }
      },
      "text/html": [
       "<div>\n",
       "<style scoped>\n",
       "    .dataframe tbody tr th:only-of-type {\n",
       "        vertical-align: middle;\n",
       "    }\n",
       "\n",
       "    .dataframe tbody tr th {\n",
       "        vertical-align: top;\n",
       "    }\n",
       "\n",
       "    .dataframe thead th {\n",
       "        text-align: right;\n",
       "    }\n",
       "</style>\n",
       "<table border=\"1\" class=\"dataframe\">\n",
       "  <thead>\n",
       "    <tr style=\"text-align: right;\">\n",
       "      <th></th>\n",
       "      <th>Technology</th>\n",
       "      <th>count</th>\n",
       "      <th>percent</th>\n",
       "    </tr>\n",
       "  </thead>\n",
       "  <tbody>\n",
       "    <tr>\n",
       "      <th>0</th>\n",
       "      <td>OpenAPI</td>\n",
       "      <td>1</td>\n",
       "      <td>0.13</td>\n",
       "    </tr>\n",
       "    <tr>\n",
       "      <th>1</th>\n",
       "      <td>Swagger</td>\n",
       "      <td>1</td>\n",
       "      <td>0.13</td>\n",
       "    </tr>\n",
       "  </tbody>\n",
       "</table>\n",
       "</div>"
      ],
      "text/plain": [
       "  Technology  count  percent\n",
       "0    OpenAPI      1     0.13\n",
       "1    Swagger      1     0.13"
      ]
     },
     "execution_count": 72,
     "metadata": {},
     "output_type": "execute_result"
    }
   ],
   "source": [
    "data_cleaning.make_table(df=eu_ios, category='api_documentation')"
   ]
  },
  {
   "cell_type": "code",
   "execution_count": 73,
   "id": "44a9fd67",
   "metadata": {},
   "outputs": [
    {
     "data": {
      "application/vnd.microsoft.datawrangler.viewer.v0+json": {
       "columns": [
        {
         "name": "index",
         "rawType": "int64",
         "type": "integer"
        },
        {
         "name": "Technology",
         "rawType": "object",
         "type": "string"
        },
        {
         "name": "count",
         "rawType": "int64",
         "type": "integer"
        },
        {
         "name": "percent",
         "rawType": "float64",
         "type": "float"
        }
       ],
       "ref": "e00a7768-2e27-4f07-b992-962672a2be80",
       "rows": [],
       "shape": {
        "columns": 3,
        "rows": 0
       }
      },
      "text/html": [
       "<div>\n",
       "<style scoped>\n",
       "    .dataframe tbody tr th:only-of-type {\n",
       "        vertical-align: middle;\n",
       "    }\n",
       "\n",
       "    .dataframe tbody tr th {\n",
       "        vertical-align: top;\n",
       "    }\n",
       "\n",
       "    .dataframe thead th {\n",
       "        text-align: right;\n",
       "    }\n",
       "</style>\n",
       "<table border=\"1\" class=\"dataframe\">\n",
       "  <thead>\n",
       "    <tr style=\"text-align: right;\">\n",
       "      <th></th>\n",
       "      <th>Technology</th>\n",
       "      <th>count</th>\n",
       "      <th>percent</th>\n",
       "    </tr>\n",
       "  </thead>\n",
       "  <tbody>\n",
       "  </tbody>\n",
       "</table>\n",
       "</div>"
      ],
      "text/plain": [
       "Empty DataFrame\n",
       "Columns: [Technology, count, percent]\n",
       "Index: []"
      ]
     },
     "execution_count": 73,
     "metadata": {},
     "output_type": "execute_result"
    }
   ],
   "source": [
    "data_cleaning.make_table(df=na_ios, category='api_documentation')"
   ]
  },
  {
   "cell_type": "markdown",
   "id": "b372589d",
   "metadata": {},
   "source": [
    "### Application publishing and distribution (app_distribution)"
   ]
  },
  {
   "cell_type": "markdown",
   "id": "97663594",
   "metadata": {},
   "source": [
    "### Total"
   ]
  },
  {
   "cell_type": "code",
   "execution_count": null,
   "id": "aa044060",
   "metadata": {},
   "outputs": [
    {
     "data": {
      "application/vnd.microsoft.datawrangler.viewer.v0+json": {
       "columns": [
        {
         "name": "index",
         "rawType": "int64",
         "type": "integer"
        },
        {
         "name": "Technology",
         "rawType": "object",
         "type": "string"
        },
        {
         "name": "count",
         "rawType": "int64",
         "type": "integer"
        },
        {
         "name": "percent",
         "rawType": "float64",
         "type": "float"
        }
       ],
       "ref": "8aa5c29b-21f7-440b-8134-6bc939c2a5b7",
       "rows": [
        [
         "0",
         "Kotlin",
         "600",
         "87.21"
        ],
        [
         "1",
         "Java",
         "368",
         "53.49"
        ],
        [
         "2",
         "Git",
         "207",
         "30.09"
        ],
        [
         "3",
         "Jetpack Compose",
         "198",
         "28.78"
        ],
        [
         "4",
         "Android SDK",
         "181",
         "26.31"
        ],
        [
         "5",
         "REST API",
         "161",
         "23.4"
        ],
        [
         "6",
         "Agile",
         "158",
         "22.97"
        ],
        [
         "7",
         "Model-View-ViewModel (MVVM)",
         "157",
         "22.82"
        ],
        [
         "8",
         "Android Studio",
         "124",
         "18.02"
        ],
        [
         "9",
         "Kotlin Coroutines",
         "95",
         "13.81"
        ],
        [
         "10",
         "Scrum",
         "81",
         "11.77"
        ],
        [
         "11",
         "C++",
         "79",
         "11.48"
        ],
        [
         "12",
         "Model-View-Presenter (MVP)",
         "68",
         "9.88"
        ],
        [
         "13",
         "Google Play Store / Google Play Console",
         "66",
         "9.59"
        ],
        [
         "14",
         "Gradle",
         "65",
         "9.45"
        ],
        [
         "15",
         "RxJava",
         "60",
         "8.72"
        ],
        [
         "16",
         "Jira",
         "57",
         "8.28"
        ],
        [
         "17",
         "Room",
         "54",
         "7.85"
        ],
        [
         "18",
         "Clean Architecture",
         "53",
         "7.7"
        ],
        [
         "19",
         "Test-Driven Development (TDD)",
         "52",
         "7.56"
        ],
        [
         "20",
         "Retrofit",
         "49",
         "7.12"
        ],
        [
         "21",
         "Firebase",
         "45",
         "6.54"
        ],
        [
         "22",
         "Dagger",
         "44",
         "6.4"
        ],
        [
         "23",
         "Android NDK",
         "44",
         "6.4"
        ],
        [
         "24",
         "Espresso",
         "43",
         "6.25"
        ],
        [
         "25",
         "Kotlin Flow",
         "36",
         "5.23"
        ],
        [
         "26",
         "JUnit",
         "35",
         "5.09"
        ],
        [
         "27",
         "Hilt",
         "34",
         "4.94"
        ],
        [
         "28",
         "Jenkins",
         "32",
         "4.65"
        ],
        [
         "29",
         "Confluence",
         "32",
         "4.65"
        ],
        [
         "30",
         "SQLite",
         "31",
         "4.51"
        ],
        [
         "31",
         "Kotlin Multiplatform",
         "29",
         "4.22"
        ],
        [
         "32",
         "Model-View-Intent (MVI)",
         "26",
         "3.78"
        ],
        [
         "33",
         "Model-View-Controller (MVC)",
         "25",
         "3.63"
        ],
        [
         "34",
         "GitHub",
         "25",
         "3.63"
        ],
        [
         "35",
         "C",
         "23",
         "3.34"
        ],
        [
         "36",
         "Flutter",
         "22",
         "3.2"
        ],
        [
         "37",
         "Python",
         "22",
         "3.2"
        ],
        [
         "38",
         "Bitrise",
         "20",
         "2.91"
        ],
        [
         "39",
         "Mockito",
         "18",
         "2.62"
        ],
        [
         "40",
         "Java Native Interface (JNI)",
         "18",
         "2.62"
        ],
        [
         "41",
         "Docker",
         "18",
         "2.62"
        ],
        [
         "42",
         "Notifications",
         "18",
         "2.62"
        ],
        [
         "43",
         "GraphQL",
         "17",
         "2.47"
        ],
        [
         "44",
         "JavaScript",
         "15",
         "2.18"
        ],
        [
         "45",
         "GitLab",
         "15",
         "2.18"
        ],
        [
         "46",
         "GitHub Actions",
         "15",
         "2.18"
        ],
        [
         "47",
         "React Native",
         "15",
         "2.18"
        ],
        [
         "48",
         "fastlane",
         "15",
         "2.18"
        ],
        [
         "49",
         "Android Interface Definition Language (AIDL)",
         "13",
         "1.89"
        ]
       ],
       "shape": {
        "columns": 3,
        "rows": 136
       }
      },
      "text/html": [
       "<div>\n",
       "<style scoped>\n",
       "    .dataframe tbody tr th:only-of-type {\n",
       "        vertical-align: middle;\n",
       "    }\n",
       "\n",
       "    .dataframe tbody tr th {\n",
       "        vertical-align: top;\n",
       "    }\n",
       "\n",
       "    .dataframe thead th {\n",
       "        text-align: right;\n",
       "    }\n",
       "</style>\n",
       "<table border=\"1\" class=\"dataframe\">\n",
       "  <thead>\n",
       "    <tr style=\"text-align: right;\">\n",
       "      <th></th>\n",
       "      <th>Technology</th>\n",
       "      <th>count</th>\n",
       "      <th>percent</th>\n",
       "    </tr>\n",
       "  </thead>\n",
       "  <tbody>\n",
       "    <tr>\n",
       "      <th>0</th>\n",
       "      <td>Kotlin</td>\n",
       "      <td>600</td>\n",
       "      <td>87.21</td>\n",
       "    </tr>\n",
       "    <tr>\n",
       "      <th>1</th>\n",
       "      <td>Java</td>\n",
       "      <td>368</td>\n",
       "      <td>53.49</td>\n",
       "    </tr>\n",
       "    <tr>\n",
       "      <th>2</th>\n",
       "      <td>Git</td>\n",
       "      <td>207</td>\n",
       "      <td>30.09</td>\n",
       "    </tr>\n",
       "    <tr>\n",
       "      <th>3</th>\n",
       "      <td>Jetpack Compose</td>\n",
       "      <td>198</td>\n",
       "      <td>28.78</td>\n",
       "    </tr>\n",
       "    <tr>\n",
       "      <th>4</th>\n",
       "      <td>Android SDK</td>\n",
       "      <td>181</td>\n",
       "      <td>26.31</td>\n",
       "    </tr>\n",
       "    <tr>\n",
       "      <th>...</th>\n",
       "      <td>...</td>\n",
       "      <td>...</td>\n",
       "      <td>...</td>\n",
       "    </tr>\n",
       "    <tr>\n",
       "      <th>131</th>\n",
       "      <td>Google Cloud Messaging</td>\n",
       "      <td>1</td>\n",
       "      <td>0.15</td>\n",
       "    </tr>\n",
       "    <tr>\n",
       "      <th>132</th>\n",
       "      <td>MongoDB</td>\n",
       "      <td>1</td>\n",
       "      <td>0.15</td>\n",
       "    </tr>\n",
       "    <tr>\n",
       "      <th>133</th>\n",
       "      <td>Open Web Application Security Project (OWASP)</td>\n",
       "      <td>1</td>\n",
       "      <td>0.15</td>\n",
       "    </tr>\n",
       "    <tr>\n",
       "      <th>134</th>\n",
       "      <td>NFC</td>\n",
       "      <td>1</td>\n",
       "      <td>0.15</td>\n",
       "    </tr>\n",
       "    <tr>\n",
       "      <th>135</th>\n",
       "      <td>Facebook SDK</td>\n",
       "      <td>1</td>\n",
       "      <td>0.15</td>\n",
       "    </tr>\n",
       "  </tbody>\n",
       "</table>\n",
       "<p>136 rows × 3 columns</p>\n",
       "</div>"
      ],
      "text/plain": [
       "                                        Technology  count  percent\n",
       "0                                           Kotlin    600    87.21\n",
       "1                                             Java    368    53.49\n",
       "2                                              Git    207    30.09\n",
       "3                                  Jetpack Compose    198    28.78\n",
       "4                                      Android SDK    181    26.31\n",
       "..                                             ...    ...      ...\n",
       "131                         Google Cloud Messaging      1     0.15\n",
       "132                                        MongoDB      1     0.15\n",
       "133  Open Web Application Security Project (OWASP)      1     0.15\n",
       "134                                            NFC      1     0.15\n",
       "135                                   Facebook SDK      1     0.15\n",
       "\n",
       "[136 rows x 3 columns]"
      ]
     },
     "execution_count": 52,
     "metadata": {},
     "output_type": "execute_result"
    }
   ],
   "source": [
    "data_cleaning.make_table(df=eu_android, total=True)"
   ]
  },
  {
   "cell_type": "markdown",
   "id": "d77e3249",
   "metadata": {},
   "source": [
    "---"
   ]
  },
  {
   "cell_type": "markdown",
   "id": "8f748b21",
   "metadata": {},
   "source": [
    "## Data to Excel (old)"
   ]
  },
  {
   "cell_type": "code",
   "execution_count": null,
   "id": "d6bd7913",
   "metadata": {},
   "outputs": [],
   "source": [
    "# ---------- ПАРАМЕТРЫ -------------\n",
    "OUT         = 'C:\\\\Users\\\\ireev\\\\Desktop\\\\mobile_tech_summary.xlsx'  # куда сохранить Excel\n",
    "REG_EU      = 'Europe'\n",
    "REG_NA      = 'Northern America'\n",
    "PLATFORMS   = ('iOS', 'Android')               # порядок секций внутри листа\n",
    "# Переименуйте как хотите\n",
    "ALIASES = dict(EU_count='EU count',\n",
    "                EU_pct  ='EU %',\n",
    "                NA_count='NA count',\n",
    "                NA_pct  ='NA %')\n",
    "# ----------------------------------\n",
    "\n",
    "\n",
    "tech_cols = df.columns[df.columns.get_loc('architectural_patterns'):]\n",
    "\n",
    "def count_pct(series: pd.Series) -> pd.DataFrame:\n",
    "    total = len(series)\n",
    "    vc    = (series.dropna()\n",
    "                   .str.split(',')\n",
    "                   .explode()\n",
    "                   .str.strip()\n",
    "                   .value_counts())\n",
    "    pct   = (vc / total * 100).round(2)\n",
    "    out   = pd.DataFrame({'count': vc.astype(int), 'pct': pct})\n",
    "    return out.sort_values('count', ascending=False)      # ключевая строка!\n",
    "\n",
    "def make_sheet(writer: pd.ExcelWriter, col: str):\n",
    "    ws   = writer.book.add_worksheet(col[:31])\n",
    "    row  = 0\n",
    "\n",
    "    for plat in PLATFORMS:\n",
    "        # ---------- независимые списки EU и NA -----------------------\n",
    "        eu = count_pct(df[(df['Region'] == REG_EU) & (df['Platform'] == plat)][col])\n",
    "        na = count_pct(df[(df['Region'] == REG_NA) & (df['Platform'] == plat)][col])\n",
    "\n",
    "        # переименовываем колонки\n",
    "        eu = (eu.reset_index()\n",
    "                .rename(columns={'index': col,\n",
    "                                 'count': ALIASES['EU_count'],\n",
    "                                 'pct'  : ALIASES['EU_pct']}))\n",
    "\n",
    "        na = (na.reset_index()\n",
    "                .rename(columns={'index': f'{col} (NA)',\n",
    "                                 'count': ALIASES['NA_count'],\n",
    "                                 'pct'  : ALIASES['NA_pct']}))\n",
    "\n",
    "        # ---------- «склеиваем по индексу» ---------------------------\n",
    "        max_len = max(len(eu), len(na))\n",
    "        eu = eu.reindex(range(max_len))\n",
    "        na = na.reindex(range(max_len))\n",
    "        merged = pd.concat([eu, na], axis=1)\n",
    "\n",
    "        # ---------- запись в лист -----------------------------------\n",
    "        ws.write(row, 0, plat)      # заголовок секции\n",
    "        row += 1\n",
    "        merged.to_excel(writer, sheet_name=ws.get_name(),\n",
    "                        index=False, header=True, startrow=row)\n",
    "        row += len(merged) + 2      # отступ перед следующей секцией\n",
    "\n",
    "with pd.ExcelWriter(OUT, engine='xlsxwriter') as writer:\n",
    "    for col in tech_cols:\n",
    "        make_sheet(writer, col)"
   ]
  },
  {
   "cell_type": "markdown",
   "id": "39055738",
   "metadata": {},
   "source": [
    "## Example (old)"
   ]
  },
  {
   "cell_type": "code",
   "execution_count": 9,
   "id": "4ec4394b",
   "metadata": {},
   "outputs": [],
   "source": [
    "df_patterns = df[df['Platform'] == \"iOS\"]['architectural_patterns'].dropna().str.split(',').explode().str.strip().value_counts().reset_index()\n",
    "df_patterns.columns = ['architectural_patterns', 'count']"
   ]
  },
  {
   "cell_type": "code",
   "execution_count": 10,
   "id": "4589642a",
   "metadata": {},
   "outputs": [
    {
     "data": {
      "image/png": "[encoded data removed]",
      "text/plain": [
       "<Figure size 1000x600 with 1 Axes>"
      ]
     },
     "metadata": {},
     "output_type": "display_data"
    }
   ],
   "source": [
    "plt.figure(figsize=(10, 6))\n",
    "ax = sns.barplot(\n",
    "    data=df_patterns,\n",
    "    x='count',\n",
    "    y='architectural_patterns',\n",
    "    orient='h'\n",
    ")\n",
    "\n",
    "for i in ax.containers:\n",
    "    ax.bar_label(i, padding=5)\n",
    "\n",
    "plt.title('Architectural Patterns Usage (iOS)')\n",
    "plt.xlabel('Count')\n",
    "plt.ylabel('Architectural Pattern')\n",
    "plt.grid(axis='x', linestyle='--', alpha=0.7)\n",
    "plt.show()"
   ]
  },
  {
   "cell_type": "code",
   "execution_count": 11,
   "id": "9dc4c797",
   "metadata": {},
   "outputs": [
    {
     "data": {
      "application/vnd.microsoft.datawrangler.viewer.v0+json": {
       "columns": [
        {
         "name": "index",
         "rawType": "int64",
         "type": "integer"
        },
        {
         "name": "architectural_patterns",
         "rawType": "object",
         "type": "string"
        },
        {
         "name": "count",
         "rawType": "int64",
         "type": "integer"
        }
       ],
       "conversionMethod": "pd.DataFrame",
       "ref": "51a62401-1600-441d-8056-1c36aaf016fd",
       "rows": [
        [
         "0",
         "MVVM",
         "233"
        ],
        [
         "1",
         "MVP",
         "97"
        ],
        [
         "2",
         "Clean Architecture",
         "78"
        ],
        [
         "3",
         "MVC",
         "45"
        ],
        [
         "4",
         "MVI",
         "41"
        ],
        [
         "5",
         "VIPER",
         "7"
        ],
        [
         "6",
         "Redux",
         "3"
        ]
       ],
       "shape": {
        "columns": 2,
        "rows": 7
       }
      },
      "text/html": [
       "<div>\n",
       "<style scoped>\n",
       "    .dataframe tbody tr th:only-of-type {\n",
       "        vertical-align: middle;\n",
       "    }\n",
       "\n",
       "    .dataframe tbody tr th {\n",
       "        vertical-align: top;\n",
       "    }\n",
       "\n",
       "    .dataframe thead th {\n",
       "        text-align: right;\n",
       "    }\n",
       "</style>\n",
       "<table border=\"1\" class=\"dataframe\">\n",
       "  <thead>\n",
       "    <tr style=\"text-align: right;\">\n",
       "      <th></th>\n",
       "      <th>architectural_patterns</th>\n",
       "      <th>count</th>\n",
       "    </tr>\n",
       "  </thead>\n",
       "  <tbody>\n",
       "    <tr>\n",
       "      <th>0</th>\n",
       "      <td>MVVM</td>\n",
       "      <td>233</td>\n",
       "    </tr>\n",
       "    <tr>\n",
       "      <th>1</th>\n",
       "      <td>MVP</td>\n",
       "      <td>97</td>\n",
       "    </tr>\n",
       "    <tr>\n",
       "      <th>2</th>\n",
       "      <td>Clean Architecture</td>\n",
       "      <td>78</td>\n",
       "    </tr>\n",
       "    <tr>\n",
       "      <th>3</th>\n",
       "      <td>MVC</td>\n",
       "      <td>45</td>\n",
       "    </tr>\n",
       "    <tr>\n",
       "      <th>4</th>\n",
       "      <td>MVI</td>\n",
       "      <td>41</td>\n",
       "    </tr>\n",
       "    <tr>\n",
       "      <th>5</th>\n",
       "      <td>VIPER</td>\n",
       "      <td>7</td>\n",
       "    </tr>\n",
       "    <tr>\n",
       "      <th>6</th>\n",
       "      <td>Redux</td>\n",
       "      <td>3</td>\n",
       "    </tr>\n",
       "  </tbody>\n",
       "</table>\n",
       "</div>"
      ],
      "text/plain": [
       "  architectural_patterns  count\n",
       "0                   MVVM    233\n",
       "1                    MVP     97\n",
       "2     Clean Architecture     78\n",
       "3                    MVC     45\n",
       "4                    MVI     41\n",
       "5                  VIPER      7\n",
       "6                  Redux      3"
      ]
     },
     "execution_count": 11,
     "metadata": {},
     "output_type": "execute_result"
    }
   ],
   "source": [
    "df[df['Platform'] == \"Android\"]['architectural_patterns'].dropna().str.split(',').explode().str.strip().value_counts().reset_index()"
   ]
  },
  {
   "cell_type": "markdown",
   "id": "319bb90c",
   "metadata": {},
   "source": [
    "---"
   ]
  },
  {
   "cell_type": "markdown",
   "id": "f0a2f61c",
   "metadata": {},
   "source": [
    "## Domain Analysis"
   ]
  },
  {
   "cell_type": "code",
   "execution_count": null,
   "id": "155c2c3a",
   "metadata": {},
   "outputs": [
    {
     "name": "stdout",
     "output_type": "stream",
     "text": [
      "Анализ эффективности доменов:\n",
      "Google Domain Type  Google.com Jobs  Local Domain Jobs  Total Jobs  \\\n",
      "Location                                                             \n",
      "Austria                          63                  0          63   \n",
      "Hungary                          33                  0          33   \n",
      "Slovenia                          7                  0           7   \n",
      "Slovakia                         10                  0          10   \n",
      "Norway                           12                  0          12   \n",
      "Netherlands                      81                  0          81   \n",
      "Malta                             4                  0           4   \n",
      "Luxembourg                        8                  0           8   \n",
      "Lithuania                        23                  0          23   \n",
      "Liechtenstein                     1                  0           1   \n",
      "\n",
      "Google Domain Type  Google.com Share  Local Domain Share  \\\n",
      "Location                                                   \n",
      "Austria                          1.0                 0.0   \n",
      "Hungary                          1.0                 0.0   \n",
      "Slovenia                         1.0                 0.0   \n",
      "Slovakia                         1.0                 0.0   \n",
      "Norway                           1.0                 0.0   \n",
      "Netherlands                      1.0                 0.0   \n",
      "Malta                            1.0                 0.0   \n",
      "Luxembourg                       1.0                 0.0   \n",
      "Lithuania                        1.0                 0.0   \n",
      "Liechtenstein                    1.0                 0.0   \n",
      "\n",
      "Google Domain Type  Google vs Local Diff  Unique Google.com Jobs  \\\n",
      "Location                                                           \n",
      "Austria                              1.0                      63   \n",
      "Hungary                              1.0                      33   \n",
      "Slovenia                             1.0                       7   \n",
      "Slovakia                             1.0                      10   \n",
      "Norway                               1.0                      12   \n",
      "Netherlands                          1.0                      81   \n",
      "Malta                                1.0                       4   \n",
      "Luxembourg                           1.0                       8   \n",
      "Lithuania                            1.0                      23   \n",
      "Liechtenstein                        1.0                       1   \n",
      "\n",
      "Google Domain Type  Unique Local Domain Jobs  \n",
      "Location                                      \n",
      "Austria                                    0  \n",
      "Hungary                                    0  \n",
      "Slovenia                                   0  \n",
      "Slovakia                                   0  \n",
      "Norway                                     0  \n",
      "Netherlands                                0  \n",
      "Malta                                      0  \n",
      "Luxembourg                                 0  \n",
      "Lithuania                                  0  \n",
      "Liechtenstein                              0  \n"
     ]
    },
    {
     "data": {
      "application/vnd.microsoft.datawrangler.viewer.v0+json": {
       "columns": [
        {
         "name": "Location",
         "rawType": "object",
         "type": "string"
        },
        {
         "name": "Google.com Jobs",
         "rawType": "int64",
         "type": "integer"
        },
        {
         "name": "Local Domain Jobs",
         "rawType": "int64",
         "type": "integer"
        },
        {
         "name": "Total Jobs",
         "rawType": "int64",
         "type": "integer"
        },
        {
         "name": "Google.com Share",
         "rawType": "float64",
         "type": "float"
        },
        {
         "name": "Local Domain Share",
         "rawType": "float64",
         "type": "float"
        },
        {
         "name": "Google vs Local Diff",
         "rawType": "float64",
         "type": "float"
        },
        {
         "name": "Unique Google.com Jobs",
         "rawType": "int64",
         "type": "integer"
        },
        {
         "name": "Unique Local Domain Jobs",
         "rawType": "int64",
         "type": "integer"
        }
       ],
       "ref": "c263295d-2c69-4074-9d0b-804aa6ac20de",
       "rows": [
        [
         "Austria",
         "63",
         "0",
         "63",
         "1.0",
         "0.0",
         "1.0",
         "63",
         "0"
        ],
        [
         "Belgium",
         "30",
         "0",
         "30",
         "1.0",
         "0.0",
         "1.0",
         "30",
         "0"
        ],
        [
         "Bulgaria",
         "26",
         "1",
         "27",
         "0.9629629629629629",
         "0.037037037037037035",
         "0.9259259259259258",
         "26",
         "1"
        ],
        [
         "Canada",
         "176",
         "13",
         "189",
         "0.9312169312169312",
         "0.06878306878306878",
         "0.8624338624338623",
         "176",
         "13"
        ],
        [
         "Croatia",
         "16",
         "0",
         "16",
         "1.0",
         "0.0",
         "1.0",
         "16",
         "0"
        ]
       ],
       "shape": {
        "columns": 8,
        "rows": 5
       }
      },
      "text/html": [
       "<div>\n",
       "<style scoped>\n",
       "    .dataframe tbody tr th:only-of-type {\n",
       "        vertical-align: middle;\n",
       "    }\n",
       "\n",
       "    .dataframe tbody tr th {\n",
       "        vertical-align: top;\n",
       "    }\n",
       "\n",
       "    .dataframe thead th {\n",
       "        text-align: right;\n",
       "    }\n",
       "</style>\n",
       "<table border=\"1\" class=\"dataframe\">\n",
       "  <thead>\n",
       "    <tr style=\"text-align: right;\">\n",
       "      <th>Google Domain Type</th>\n",
       "      <th>Google.com Jobs</th>\n",
       "      <th>Local Domain Jobs</th>\n",
       "      <th>Total Jobs</th>\n",
       "      <th>Google.com Share</th>\n",
       "      <th>Local Domain Share</th>\n",
       "      <th>Google vs Local Diff</th>\n",
       "      <th>Unique Google.com Jobs</th>\n",
       "      <th>Unique Local Domain Jobs</th>\n",
       "    </tr>\n",
       "    <tr>\n",
       "      <th>Location</th>\n",
       "      <th></th>\n",
       "      <th></th>\n",
       "      <th></th>\n",
       "      <th></th>\n",
       "      <th></th>\n",
       "      <th></th>\n",
       "      <th></th>\n",
       "      <th></th>\n",
       "    </tr>\n",
       "  </thead>\n",
       "  <tbody>\n",
       "    <tr>\n",
       "      <th>Austria</th>\n",
       "      <td>63</td>\n",
       "      <td>0</td>\n",
       "      <td>63</td>\n",
       "      <td>1.000000</td>\n",
       "      <td>0.000000</td>\n",
       "      <td>1.000000</td>\n",
       "      <td>63</td>\n",
       "      <td>0</td>\n",
       "    </tr>\n",
       "    <tr>\n",
       "      <th>Belgium</th>\n",
       "      <td>30</td>\n",
       "      <td>0</td>\n",
       "      <td>30</td>\n",
       "      <td>1.000000</td>\n",
       "      <td>0.000000</td>\n",
       "      <td>1.000000</td>\n",
       "      <td>30</td>\n",
       "      <td>0</td>\n",
       "    </tr>\n",
       "    <tr>\n",
       "      <th>Bulgaria</th>\n",
       "      <td>26</td>\n",
       "      <td>1</td>\n",
       "      <td>27</td>\n",
       "      <td>0.962963</td>\n",
       "      <td>0.037037</td>\n",
       "      <td>0.925926</td>\n",
       "      <td>26</td>\n",
       "      <td>1</td>\n",
       "    </tr>\n",
       "    <tr>\n",
       "      <th>Canada</th>\n",
       "      <td>176</td>\n",
       "      <td>13</td>\n",
       "      <td>189</td>\n",
       "      <td>0.931217</td>\n",
       "      <td>0.068783</td>\n",
       "      <td>0.862434</td>\n",
       "      <td>176</td>\n",
       "      <td>13</td>\n",
       "    </tr>\n",
       "    <tr>\n",
       "      <th>Croatia</th>\n",
       "      <td>16</td>\n",
       "      <td>0</td>\n",
       "      <td>16</td>\n",
       "      <td>1.000000</td>\n",
       "      <td>0.000000</td>\n",
       "      <td>1.000000</td>\n",
       "      <td>16</td>\n",
       "      <td>0</td>\n",
       "    </tr>\n",
       "  </tbody>\n",
       "</table>\n",
       "</div>"
      ],
      "text/plain": [
       "Google Domain Type  Google.com Jobs  Local Domain Jobs  Total Jobs  \\\n",
       "Location                                                             \n",
       "Austria                          63                  0          63   \n",
       "Belgium                          30                  0          30   \n",
       "Bulgaria                         26                  1          27   \n",
       "Canada                          176                 13         189   \n",
       "Croatia                          16                  0          16   \n",
       "\n",
       "Google Domain Type  Google.com Share  Local Domain Share  \\\n",
       "Location                                                   \n",
       "Austria                     1.000000            0.000000   \n",
       "Belgium                     1.000000            0.000000   \n",
       "Bulgaria                    0.962963            0.037037   \n",
       "Canada                      0.931217            0.068783   \n",
       "Croatia                     1.000000            0.000000   \n",
       "\n",
       "Google Domain Type  Google vs Local Diff  Unique Google.com Jobs  \\\n",
       "Location                                                           \n",
       "Austria                         1.000000                      63   \n",
       "Belgium                         1.000000                      30   \n",
       "Bulgaria                        0.925926                      26   \n",
       "Canada                          0.862434                     176   \n",
       "Croatia                         1.000000                      16   \n",
       "\n",
       "Google Domain Type  Unique Local Domain Jobs  \n",
       "Location                                      \n",
       "Austria                                    0  \n",
       "Belgium                                    0  \n",
       "Bulgaria                                   1  \n",
       "Canada                                    13  \n",
       "Croatia                                    0  "
      ]
     },
     "execution_count": 8,
     "metadata": {},
     "output_type": "execute_result"
    }
   ],
   "source": [
    "def analyze_domain_effectiveness(df):\n",
    "    \"\"\"Анализирует эффективность домена google.com vs local для каждой страны.\"\"\"\n",
    "    domain_counts = df.groupby([\"Location\", \"Google Domain Type\"]).size().unstack(fill_value=0)\n",
    "    \n",
    "    # Переименовываем столбцы\n",
    "    domain_counts = domain_counts.rename(columns={\"default\": \"Google.com Jobs\", \"local\": \"Local Domain Jobs\"})\n",
    "    \n",
    "    # Добавляем метрики\n",
    "    domain_counts[\"Total Jobs\"] = domain_counts.sum(axis=1)\n",
    "    domain_counts[\"Google.com Share\"] = domain_counts[\"Google.com Jobs\"] / domain_counts[\"Total Jobs\"]\n",
    "    domain_counts[\"Local Domain Share\"] = domain_counts[\"Local Domain Jobs\"] / domain_counts[\"Total Jobs\"]\n",
    "    domain_counts[\"Google vs Local Diff\"] = domain_counts[\"Google.com Share\"] - domain_counts[\"Local Domain Share\"]\n",
    "    \n",
    "    # Подсчёт уникальных вакансий для каждого домена\n",
    "    unique_jobs = df.groupby(\"Job ID\")[\"Google Domain Type\"].nunique().reset_index()\n",
    "    unique_jobs = unique_jobs[unique_jobs[\"Google Domain Type\"] == 1]\n",
    "    unique_counts = df[df[\"Job ID\"].isin(unique_jobs[\"Job ID\"])].groupby([\"Location\", \"Google Domain Type\"]).size().unstack(fill_value=0)\n",
    "    unique_counts = unique_counts.rename(columns={\"default\": \"Unique Google.com Jobs\", \"local\": \"Unique Local Domain Jobs\"})\n",
    "    \n",
    "    # Объединяем с основными данными\n",
    "    domain_counts = domain_counts.join(unique_counts, how=\"left\").fillna(0)\n",
    "    \n",
    "    print(\"Анализ эффективности доменов:\")\n",
    "    print(domain_counts.sort_values(by=\"Google.com Share\", ascending=False).head(10))\n",
    "    \n",
    "    return domain_counts\n",
    "\n",
    "domain_table = analyze_domain_effectiveness(df)\n",
    "domain_table.head()"
   ]
  }
 ],
 "metadata": {
  "kernelspec": {
   "display_name": "base",
   "language": "python",
   "name": "python3"
  },
  "language_info": {
   "codemirror_mode": {
    "name": "ipython",
    "version": 3
   },
   "file_extension": ".py",
   "mimetype": "text/x-python",
   "name": "python",
   "nbconvert_exporter": "python",
   "pygments_lexer": "ipython3",
   "version": "3.12.4"
  }
 },
 "nbformat": 4,
 "nbformat_minor": 5
}
