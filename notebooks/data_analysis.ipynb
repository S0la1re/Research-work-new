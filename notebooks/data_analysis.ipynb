{
 "cells": [
  {
   "cell_type": "markdown",
   "id": "03a7673f",
   "metadata": {},
   "source": [
    "# Data Analysis"
   ]
  },
  {
   "cell_type": "code",
   "execution_count": 1,
   "id": "881b37e3",
   "metadata": {},
   "outputs": [],
   "source": [
    "import pandas as pd\n",
    "import sys\n",
    "import os\n",
    "\n",
    "\n",
    "src_path = os.path.abspath(os.path.join(os.getcwd(), '..', 'src'))\n",
    "if src_path not in sys.path:\n",
    "    sys.path.insert(0, src_path)\n",
    "%load_ext autoreload\n",
    "%autoreload 2\n",
    "\n",
    "from jobs_tools import data_cleaning"
   ]
  },
  {
   "cell_type": "code",
   "execution_count": 2,
   "id": "2623417c",
   "metadata": {},
   "outputs": [
    {
     "data": {
      "application/vnd.microsoft.datawrangler.viewer.v0+json": {
       "columns": [
        {
         "name": "index",
         "rawType": "int64",
         "type": "integer"
        },
        {
         "name": "Location",
         "rawType": "object",
         "type": "string"
        },
        {
         "name": "Region",
         "rawType": "object",
         "type": "string"
        },
        {
         "name": "EU Member",
         "rawType": "bool",
         "type": "boolean"
        },
        {
         "name": "Schengen Agreement",
         "rawType": "bool",
         "type": "boolean"
        },
        {
         "name": "Google Domain Type",
         "rawType": "object",
         "type": "string"
        },
        {
         "name": "Google Domain Used",
         "rawType": "object",
         "type": "string"
        },
        {
         "name": "Job Title",
         "rawType": "object",
         "type": "string"
        },
        {
         "name": "Company Name",
         "rawType": "object",
         "type": "string"
        },
        {
         "name": "Job Location",
         "rawType": "object",
         "type": "string"
        },
        {
         "name": "Apply Options",
         "rawType": "object",
         "type": "string"
        },
        {
         "name": "Job Description",
         "rawType": "object",
         "type": "string"
        },
        {
         "name": "Work from home",
         "rawType": "object",
         "type": "unknown"
        },
        {
         "name": "Salary",
         "rawType": "object",
         "type": "unknown"
        },
        {
         "name": "Schedule type",
         "rawType": "object",
         "type": "string"
        },
        {
         "name": "Qualifications",
         "rawType": "object",
         "type": "string"
        },
        {
         "name": "Job ID",
         "rawType": "object",
         "type": "string"
        },
        {
         "name": "Search Date",
         "rawType": "object",
         "type": "string"
        },
        {
         "name": "Search Query",
         "rawType": "object",
         "type": "string"
        },
        {
         "name": "Language",
         "rawType": "object",
         "type": "string"
        },
        {
         "name": "Job Description English",
         "rawType": "object",
         "type": "string"
        },
        {
         "name": "Job Description Extracted",
         "rawType": "object",
         "type": "string"
        },
        {
         "name": "Platform",
         "rawType": "object",
         "type": "string"
        },
        {
         "name": "Salary_E",
         "rawType": "object",
         "type": "string"
        },
        {
         "name": "Requirements",
         "rawType": "object",
         "type": "string"
        },
        {
         "name": "Nice to have",
         "rawType": "object",
         "type": "string"
        },
        {
         "name": "Responsibilities",
         "rawType": "object",
         "type": "string"
        },
        {
         "name": "Benefits",
         "rawType": "object",
         "type": "string"
        },
        {
         "name": "Full Requirements",
         "rawType": "object",
         "type": "string"
        },
        {
         "name": "Extracted Technologies GPT",
         "rawType": "object",
         "type": "string"
        },
        {
         "name": "Extracted Technologies Clean",
         "rawType": "object",
         "type": "string"
        },
        {
         "name": "Technologies Only",
         "rawType": "object",
         "type": "unknown"
        },
        {
         "name": "Technologies Categorized",
         "rawType": "object",
         "type": "string"
        },
        {
         "name": "Tech_dict",
         "rawType": "object",
         "type": "string"
        },
        {
         "name": "api_documentation",
         "rawType": "object",
         "type": "unknown"
        },
        {
         "name": "app_distribution",
         "rawType": "object",
         "type": "unknown"
        },
        {
         "name": "architecture",
         "rawType": "object",
         "type": "unknown"
        },
        {
         "name": "backend_baas",
         "rawType": "object",
         "type": "unknown"
        },
        {
         "name": "build_dependency",
         "rawType": "object",
         "type": "unknown"
        },
        {
         "name": "ci_cd",
         "rawType": "object",
         "type": "unknown"
        },
        {
         "name": "concurrency_reactive",
         "rawType": "object",
         "type": "unknown"
        },
        {
         "name": "cross_platform_sdks",
         "rawType": "object",
         "type": "unknown"
        },
        {
         "name": "cross_platform_ui",
         "rawType": "object",
         "type": "unknown"
        },
        {
         "name": "data_storage",
         "rawType": "object",
         "type": "unknown"
        },
        {
         "name": "debug_profiling",
         "rawType": "object",
         "type": "unknown"
        },
        {
         "name": "dependency_injection",
         "rawType": "object",
         "type": "unknown"
        },
        {
         "name": "design_guidelines",
         "rawType": "object",
         "type": "unknown"
        },
        {
         "name": "game_dev",
         "rawType": "object",
         "type": "unknown"
        },
        {
         "name": "ides",
         "rawType": "object",
         "type": "unknown"
        },
        {
         "name": "languages",
         "rawType": "object",
         "type": "unknown"
        },
        {
         "name": "methodologies",
         "rawType": "object",
         "type": "unknown"
        },
        {
         "name": "monitoring_analytics",
         "rawType": "object",
         "type": "unknown"
        },
        {
         "name": "native_interop",
         "rawType": "object",
         "type": "unknown"
        },
        {
         "name": "native_ui",
         "rawType": "object",
         "type": "unknown"
        },
        {
         "name": "networking",
         "rawType": "object",
         "type": "unknown"
        },
        {
         "name": "platform_android",
         "rawType": "object",
         "type": "unknown"
        },
        {
         "name": "platform_apple",
         "rawType": "object",
         "type": "unknown"
        },
        {
         "name": "runtimes_shared",
         "rawType": "object",
         "type": "unknown"
        },
        {
         "name": "security_compliance",
         "rawType": "object",
         "type": "unknown"
        },
        {
         "name": "team_collaboration",
         "rawType": "object",
         "type": "unknown"
        },
        {
         "name": "testing_quality",
         "rawType": "object",
         "type": "unknown"
        },
        {
         "name": "version_control",
         "rawType": "object",
         "type": "unknown"
        }
       ],
       "ref": "f4037e9b-286c-4eb6-b443-aa0978960c9f",
       "rows": [
        [
         "0",
         "Austria",
         "Europe",
         "True",
         "True",
         "default",
         "google.com",
         "Android Developer – Kotlin (Austria based, Hybrid)",
         "Bitcoin Devs Company",
         "Vienna, Austria",
         "Jobs3",
         "Overview:\r\nThe Android Developer – Kotlin position is a critical role within our organization, responsible for developing and maintaining high-quality mobile applications on the Android platform using Kotlin. This role plays a vital part in our company’s technological growth and is instrumental in delivering exceptional user experiences.\r\n\r\nKey Responsibilities:\r\n• Ensure that the app meets our quality standards by creating unit tests and doing code reviews\r\n• Design and maintain the architecture of new features and existing ones\r\n• Collaborate with cross-functional teams, designers and technical product owners\r\n• Stay up to date with programming best practices and new technology trends\r\n• Working autonomously you will bring strong communication skills and the ability to mentor colleagues\r\n\r\nRequired Qualifications:\r\n• Passionate about mobile platforms and translating requirements into a user friendly app\r\n• Excellent knowledge of Kotlin\r\n• Strong knowledge of architecture patterns such as MVVM\r\n• Proven experience of developing and publishing native Android apps to the Google Play store in a professional environment\r\n• Good knowledge of Kotlin Coroutines, Hilt and Retrofit.",
         null,
         null,
         "Contractor",
         "No degree mentioned",
         "eyJqb2JfdGl0bGUiOiJBbmRyb2lkIERldmVsb3BlciDigJMgS290bGluIChBdXN0cmlhIGJhc2VkLCBIeWJyaWQpIiwiY29tcGFueV9uYW1lIjoiQml0Y29pbiBEZXZzIENvbXBhbnkiLCJhZGRyZXNzX2NpdHkiOiJWaWVubmEsIEF1c3RyaWEiLCJodGlkb2NpZCI6IkpETURFcWVrYlAyOGkxU0VBQUFBQUE9PSIsInV1bGUiOiJ3K0NBSVFJQ0lIUVhWemRISnBZUSJ9",
         "2025-01-13 12:08:48 UTC",
         "Android developer",
         "en",
         "Overview:\r\nThe Android Developer – Kotlin position is a critical role within our organization, responsible for developing and maintaining high-quality mobile applications on the Android platform using Kotlin. This role plays a vital part in our company’s technological growth and is instrumental in delivering exceptional user experiences.\r\n\r\nKey Responsibilities:\r\n• Ensure that the app meets our quality standards by creating unit tests and doing code reviews\r\n• Design and maintain the architecture of new features and existing ones\r\n• Collaborate with cross-functional teams, designers and technical product owners\r\n• Stay up to date with programming best practices and new technology trends\r\n• Working autonomously you will bring strong communication skills and the ability to mentor colleagues\r\n\r\nRequired Qualifications:\r\n• Passionate about mobile platforms and translating requirements into a user friendly app\r\n• Excellent knowledge of Kotlin\r\n• Strong knowledge of architecture patterns such as MVVM\r\n• Proven experience of developing and publishing native Android apps to the Google Play store in a professional environment\r\n• Good knowledge of Kotlin Coroutines, Hilt and Retrofit.",
         "1. Platform: Android  \n2. Salary: Not mentioned  \n3. Requirements:  \n   • Passionate about mobile platforms and translating requirements into a user friendly app  \n   • Excellent knowledge of Kotlin  \n   • Strong knowledge of architecture patterns such as MVVM  \n   • Proven experience of developing and publishing native Android apps to the Google Play store in a professional environment  \n   • Good knowledge of Kotlin Coroutines, Hilt and Retrofit.  \n4. Nice to have: Not mentioned  \n5. Responsibilities:  \n   • Ensure that the app meets our quality standards by creating unit tests and doing code reviews  \n   • Design and maintain the architecture of new features and existing ones  \n   • Collaborate with cross-functional teams, designers and technical product owners  \n   • Stay up to date with programming best practices and new technology trends  \n   • Working autonomously you will bring strong communication skills and the ability to mentor colleagues  \n6. Benefits: Not mentioned  ",
         "Android",
         "Not mentioned",
         "• Passionate about mobile platforms and translating requirements into a user friendly app  \n   • Excellent knowledge of Kotlin  \n   • Strong knowledge of architecture patterns such as MVVM  \n   • Proven experience of developing and publishing native Android apps to the Google Play store in a professional environment  \n   • Good knowledge of Kotlin Coroutines, Hilt and Retrofit.",
         "Not mentioned",
         "• Ensure that the app meets our quality standards by creating unit tests and doing code reviews  \n   • Design and maintain the architecture of new features and existing ones  \n   • Collaborate with cross-functional teams, designers and technical product owners  \n   • Stay up to date with programming best practices and new technology trends  \n   • Working autonomously you will bring strong communication skills and the ability to mentor colleagues",
         "Not mentioned",
         "3. Requirements:\n• Passionate about mobile platforms and translating requirements into a user friendly app  \n   • Excellent knowledge of Kotlin  \n   • Strong knowledge of architecture patterns such as MVVM  \n   • Proven experience of developing and publishing native Android apps to the Google Play store in a professional environment  \n   • Good knowledge of Kotlin Coroutines, Hilt and Retrofit.\n\n4. Nice to have:\nNot mentioned\n\n5. Responsibilities:\n• Ensure that the app meets our quality standards by creating unit tests and doing code reviews  \n   • Design and maintain the architecture of new features and existing ones  \n   • Collaborate with cross-functional teams, designers and technical product owners  \n   • Stay up to date with programming best practices and new technology trends  \n   • Working autonomously you will bring strong communication skills and the ability to mentor colleagues",
         "{\n    \"languages_and_runtimes\":[\"Kotlin\",\"Coroutines\"],\n    \"architectural_patterns\":[\"MVVM\"],\n    \"dependency_injection_frameworks\":[\"Hilt\"],\n    \"networking_and_api\":[\"Retrofit\"],\n    \"distribution_and_store_operations\":[\"Google Play Console\"]\n}",
         "{\"languages_and_runtimes\": [\"kotlin\", \"kotlin coroutines\"], \"architectural_patterns\": [\"mvvm\"], \"dependency_injection_frameworks\": [\"hilt\"], \"networking_and_api\": [\"retrofit\"], \"distribution_and_store_operations\": [\"google play store / google play console\"]}",
         "kotlin, kotlin coroutines, mvvm, hilt, retrofit, google play store / google play console",
         "{'languages': ['Kotlin'], 'concurrency_reactive': ['Kotlin Coroutines'], 'architecture': ['Model-View-ViewModel (MVVM)'], 'dependency_injection': ['Hilt'], 'networking': ['Retrofit'], 'app_distribution': ['Google Play Store / Google Play Console']}",
         "{'languages': ['Kotlin'], 'concurrency_reactive': ['Kotlin Coroutines'], 'architecture': ['Model-View-ViewModel (MVVM)'], 'dependency_injection': ['Hilt'], 'networking': ['Retrofit'], 'app_distribution': ['Google Play Store / Google Play Console']}",
         null,
         "Google Play Store / Google Play Console",
         "Model-View-ViewModel (MVVM)",
         null,
         null,
         null,
         "Kotlin Coroutines",
         null,
         null,
         null,
         null,
         "Hilt",
         null,
         null,
         null,
         "Kotlin",
         null,
         null,
         null,
         null,
         "Retrofit",
         null,
         null,
         null,
         null,
         null,
         null,
         null
        ],
        [
         "1",
         "Austria",
         "Europe",
         "True",
         "True",
         "default",
         "google.com",
         "ios entwickler 80–100% w/m/d",
         "CHANCENLAND VORARLBERG",
         "Dornbirn, Austria",
         "IT-Career.at, STEMJOBS.AT, IT-JOBS.AT",
         "ios entwickler 80–100% w/m/d\r\n\r\nStellenbeschreibung\r\nDu arbeitest mit uns an interessanten Projekten für völlig unterschiedliche Kunden und Branchen. Vom ersten Meeting an über die erste Code-Zeile bis hin zum Release bist du voll mit involviert und trägst mit deiner Arbeit maßgeblich zum Erfolg des Projekts bei.\r\nAnforderungen\r\n\r\nmotivation vor erfahrung: Neugier, Interesse und der Wille, die Zukunft des Internets mitzugestalten, zählen bei uns mehr als dokumentierte geleistete Dienstjahre. Wir wollen lodernde Begeisterung spüren und deine Auffassungsgabe herausfordern. Nach deinem Eintritt sorgen wir für eine so steile Lernkurve, wie du sie gerade noch verarbeiten kannst. Egal ob du frisch/quer einsteigst oder bereits ein alter Hase im App-Zirkus bist.\r\n\r\naugenhöhe: Hast du Angst vor klaren Ansagen und leidenschaftlichen Argumenten? Wir stehen zu unserer Meinung und verlangen dasselbe von dir. Sag uns, was du denkst. Mal hast du Recht, ein anderes Mal wir. Offenheit ist in der DNA von arkulpa. Nachtragend zu sein hingegen nicht.\r\n\r\ntechnologie: Kein Blaming, kein Shaming. Wer verändert, lernt ständig. Wir bestrafen Innovationswille nicht, sondern glauben an die Kraft neuer Tools und Konzepte – wenn sie unseren Kunden und unserem Team helfen, besser zu werden. Für jede Aufgabe den passenden Stack zu finden hält uns wach und macht Spaß.\r\n\r\nWeitere Informationen\r\nDu arbeitest mit uns an interessanten Projekten für völlig unterschiedliche Kunden und Branchen. Vom ersten Meeting an über die erste Code-Zeile bis hin zum Release bist du voll mit involviert und trägst mit deiner Arbeit maßgeblich zum Erfolg des Projekts bei.\r\n\r\nEin kompaktes, kampferprobtes Team und flache Hierarchien\r\nGear deiner Wahl, natürlich brandneu\r\nFlexible Arbeitszeiten und gute Bezahlung\r\nEin topmodernes und gemütliches Penthouse-Office in Lustenau",
         null,
         null,
         "Full-time",
         "No degree mentioned",
         "eyJqb2JfdGl0bGUiOiJpb3MgZW50d2lja2xlciA4MOKAkzEwMCUgdy9tL2QiLCJjb21wYW55X25hbWUiOiJDSEFOQ0VOTEFORCBWT1JBUkxCRVJHIiwiYWRkcmVzc19jaXR5IjoiRG9ybmJpcm4sIEF1c3RyaWEiLCJodGlkb2NpZCI6IlI2bGFZTG9UUXZYc0pDVTdBQUFBQUE9PSIsInV1bGUiOiJ3K0NBSVFJQ0lIUVhWemRISnBZUSJ9",
         "2025-01-13 12:20:42 UTC",
         "iOS developer",
         "de",
         "**iOS Developer 80–100% w/m/d**\n\n**Job Description**  \nYou will work with us on exciting projects for a wide variety of clients and industries. From the first meeting to the first line of code and all the way to the release, you will be fully involved and contribute significantly to the success of the project through your work.\n\n**Requirements**  \n\n- **Motivation over experience:** Curiosity, interest, and the drive to shape the future of the internet are more important to us than documented years of service. We want to feel your burning enthusiasm and challenge your ability to grasp new concepts. After you join, we’ll ensure you have a steep learning curve—just enough to keep you on your toes. Whether you’re a newcomer, a career changer, or a seasoned pro in the app world, we welcome you.  \n\n- **Equality:** Are you afraid of clear statements and passionate arguments? We stand by our opinions and expect the same from you. Tell us what you think. Sometimes you’ll be right, other times we will. Openness is part of arkulpa’s DNA, but holding grudges is not.  \n\n- **Technology:** No blaming, no shaming. Those who innovate are constantly learning. We don’t punish a willingness to innovate; instead, we believe in the power of new tools and concepts—if they help our clients and our team improve. Finding the right stack for each task keeps us sharp and makes the work enjoyable.  \n\n**Additional Information**  \nYou will work with us on exciting projects for a wide variety of clients and industries. From the first meeting to the first line of code and all the way to the release, you will be fully involved and contribute significantly to the success of the project through your work.  \n\n- A compact, battle-tested team and flat hierarchies  \n- Gear of your choice, of course brand new  \n- Flexible working hours and good pay  \n- A state-of-the-art and cozy penthouse office in Lustenau  ",
         "1. Platform: iOS  \n2. Salary: Not mentioned  \n3. Requirements:  \n   - **Motivation over experience:** Curiosity, interest, and the drive to shape the future of the internet are more important to us than documented years of service. We want to feel your burning enthusiasm and challenge your ability to grasp new concepts. After you join, we’ll ensure you have a steep learning curve—just enough to keep you on your toes. Whether you’re a newcomer, a career changer, or a seasoned pro in the app world, we welcome you.  \n   - **Equality:** Are you afraid of clear statements and passionate arguments? We stand by our opinions and expect the same from you. Tell us what you think. Sometimes you’ll be right, other times we will. Openness is part of arkulpa’s DNA, but holding grudges is not.  \n   - **Technology:** No blaming, no shaming. Those who innovate are constantly learning. We don’t punish a willingness to innovate; instead, we believe in the power of new tools and concepts—if they help our clients and our team improve. Finding the right stack for each task keeps us sharp and makes the work enjoyable.  \n4. Nice to have: Not mentioned  \n5. Responsibilities:  \n   - You will work with us on exciting projects for a wide variety of clients and industries. From the first meeting to the first line of code and all the way to the release, you will be fully involved and contribute significantly to the success of the project through your work.  \n6. Benefits:  \n   - A compact, battle-tested team and flat hierarchies  \n   - Gear of your choice, of course brand new  \n   - Flexible working hours and good pay  \n   - A state-of-the-art and cozy penthouse office in Lustenau  ",
         "iOS",
         "Not mentioned",
         "- **Motivation over experience:** Curiosity, interest, and the drive to shape the future of the internet are more important to us than documented years of service. We want to feel your burning enthusiasm and challenge your ability to grasp new concepts. After you join, we’ll ensure you have a steep learning curve—just enough to keep you on your toes. Whether you’re a newcomer, a career changer, or a seasoned pro in the app world, we welcome you.  \n   - **Equality:** Are you afraid of clear statements and passionate arguments? We stand by our opinions and expect the same from you. Tell us what you think. Sometimes you’ll be right, other times we will. Openness is part of arkulpa’s DNA, but holding grudges is not.  \n   - **Technology:** No blaming, no shaming. Those who innovate are constantly learning. We don’t punish a willingness to innovate; instead, we believe in the power of new tools and concepts—if they help our clients and our team improve. Finding the right stack for each task keeps us sharp and makes the work enjoyable.",
         "Not mentioned",
         "- You will work with us on exciting projects for a wide variety of clients and industries. From the first meeting to the first line of code and all the way to the release, you will be fully involved and contribute significantly to the success of the project through your work.",
         "- A compact, battle-tested team and flat hierarchies  \n   - Gear of your choice, of course brand new  \n   - Flexible working hours and good pay  \n   - A state-of-the-art and cozy penthouse office in Lustenau",
         "3. Requirements:\n- **Motivation over experience:** Curiosity, interest, and the drive to shape the future of the internet are more important to us than documented years of service. We want to feel your burning enthusiasm and challenge your ability to grasp new concepts. After you join, we’ll ensure you have a steep learning curve—just enough to keep you on your toes. Whether you’re a newcomer, a career changer, or a seasoned pro in the app world, we welcome you.  \n   - **Equality:** Are you afraid of clear statements and passionate arguments? We stand by our opinions and expect the same from you. Tell us what you think. Sometimes you’ll be right, other times we will. Openness is part of arkulpa’s DNA, but holding grudges is not.  \n   - **Technology:** No blaming, no shaming. Those who innovate are constantly learning. We don’t punish a willingness to innovate; instead, we believe in the power of new tools and concepts—if they help our clients and our team improve. Finding the right stack for each task keeps us sharp and makes the work enjoyable.\n\n4. Nice to have:\nNot mentioned\n\n5. Responsibilities:\n- You will work with us on exciting projects for a wide variety of clients and industries. From the first meeting to the first line of code and all the way to the release, you will be fully involved and contribute significantly to the success of the project through your work.",
         "{}",
         "{}",
         null,
         "{}",
         "{}",
         null,
         null,
         null,
         null,
         null,
         null,
         null,
         null,
         null,
         null,
         null,
         null,
         null,
         null,
         null,
         null,
         null,
         null,
         null,
         null,
         null,
         null,
         null,
         null,
         null,
         null,
         null,
         null
        ],
        [
         "2",
         "Austria",
         "Europe",
         "True",
         "True",
         "default",
         "google.com",
         "Middle iOS developer",
         "Processica",
         "Vienna, Austria",
         "JOBITT",
         "Looking for a iOS Developer. Playing well in a team and has strong analytical and solution-oriented thinking",
         null,
         "4K–4.5K a month",
         "Full-time",
         "No degree mentioned",
         "eyJqb2JfdGl0bGUiOiJNaWRkbGUgaU9TIGRldmVsb3BlciIsImNvbXBhbnlfbmFtZSI6IlByb2Nlc3NpY2EiLCJhZGRyZXNzX2NpdHkiOiJWaWVubmEsIEF1c3RyaWEiLCJodGlkb2NpZCI6IjNmQ09lWXNNZFhkQUMwSktBQUFBQUE9PSIsInV1bGUiOiJ3K0NBSVFJQ0lIUVhWemRISnBZUSJ9",
         "2025-01-13 12:20:42 UTC",
         "iOS developer",
         "en",
         "Looking for a iOS Developer. Playing well in a team and has strong analytical and solution-oriented thinking",
         "1. Platform: iOS  \n2. Salary: Not mentioned  \n3. Requirements: Playing well in a team and has strong analytical and solution-oriented thinking  \n4. Nice to have: Not mentioned  \n5. Responsibilities: Not mentioned  \n6. Benefits: Not mentioned  ",
         "iOS",
         "Not mentioned",
         "Playing well in a team and has strong analytical and solution-oriented thinking",
         "Not mentioned",
         "Not mentioned",
         "Not mentioned",
         "3. Requirements:\nPlaying well in a team and has strong analytical and solution-oriented thinking\n\n4. Nice to have:\nNot mentioned\n\n5. Responsibilities:\nNot mentioned",
         "{}",
         "{}",
         null,
         "{}",
         "{}",
         null,
         null,
         null,
         null,
         null,
         null,
         null,
         null,
         null,
         null,
         null,
         null,
         null,
         null,
         null,
         null,
         null,
         null,
         null,
         null,
         null,
         null,
         null,
         null,
         null,
         null,
         null,
         null
        ],
        [
         "3",
         "Austria",
         "Europe",
         "True",
         "True",
         "default",
         "google.com",
         "iOS Developer",
         "Raiffeisen Gruppe",
         "Linz, Austria",
         "Jooble, Trabajo.org - Stellenangebote, Arbeit",
         "Deine Rolle im Team\r\n• Du wirkst an der Weiterentwicklung der Mein ELBA App für 2,8 Millionen Kund:innen mit und hältst diese am Laufen.\r\n• Du entwickelst für unsere Kund:innen eine ansprechende, moderne und barrierefreie Oberfläche um ihre täglichen Bankgeschäfte zu erledigen.\r\n• Du sorgst mit deiner sorgfältigen und sicherheitsbewussten Arbeitsweise dafür, dass sich unsere Kund:innen beim Online Banking gut aufgehoben fühlen.\r\n• Du programmierst IOS - native in Swift neue Features für die größte Banking App Österreichs.\r\n• Du nimmst dir die Anliegen der Stakeholder zu Herzen und bist bemüht für sie rasch eine zufriedenstellende Lösung zu finden.\r\nTechnologien und Skills\r\n• Gradle\r\n• Jenkins\r\n• Swift\r\nUnsere Erwartungen an dich:\r\nQualifikationen\r\n• Du bist vertraut mit Continuous Integration mit Jenkins und Gradle.\r\n• Du zeichnest dich durch lösungsorientiertes Denken, eigenständiges & verantwortungsbewusstes Arbeiten sowie Teamfähigkeit aus.\r\n• Du kannst gut zuhören, hinterfragen und beschreiben.\r\n• Du entwickelst die Mein ELBA App - das Tool, das in jede Tasche passt. Ob die Großmutter, die ihre Zahlungen im Handumdrehen erledigt, oder das Kind mit dem ersten Jugendkonto, das seine Finanzen organisiert - mit der Mein ELBA App wird alles möglich: Zahlungen, Wertpapiertransaktionen und vieles mehr - schnell, einfach und überall.\r\n• Du hast sowohl gute Deutsch- als auch Englischkenntnisse in Wort und Schrift und kannst diese im beruflichen Alltag anwenden.\r\nErfahrung\r\n• Du verfügst über mehrjährige Erfahrung in der App Entwicklung mit iOS (Swift ).\r\nBenefits\r\n• Home Office\r\n• Flexible Arbeitszeiten\r\n• Essenszulage\r\n• Gute Anbindung\r\n• Mitarbeitervergünstigungen\r\n• Gesundheitsförderung\r\n• Kantine/Betriebsrestaurant\r\n• Betriebsarzt\r\n• Firmenauto\r\n• Frisches Obst\r\n• Team Events\r\n• Mitarbeiterprämie\r\n• Zusatzversicherung\r\n• Verkehrsmittel-Zuschuss\r\n• Kinderbetreuung\r\n• Fitness Angebote\r\n• Kaffee, Tee o. Ä",
         null,
         null,
         "Full-time",
         "No degree mentioned",
         "eyJqb2JfdGl0bGUiOiJpT1MgRGV2ZWxvcGVyIiwiY29tcGFueV9uYW1lIjoiUmFpZmZlaXNlbiBHcnVwcGUiLCJhZGRyZXNzX2NpdHkiOiJMaW56LCBBdXN0cmlhIiwiaHRpZG9jaWQiOiJkOTZOUHZyY1gzUlpacVZBQUFBQUFBPT0iLCJ1dWxlIjoidytDQUlRSUNJSFFYVnpkSEpwWVEifQ==",
         "2025-01-13 12:20:42 UTC",
         "iOS developer",
         "de",
         "**Your Role in the Team**  \n- You contribute to the further development of the Mein ELBA app for 2.8 million customers and ensure it runs smoothly.  \n- You develop an appealing, modern, and accessible interface for our customers to manage their daily banking tasks.  \n- With your meticulous and security-conscious approach, you ensure that our customers feel well-supported when using online banking.  \n- You program new features for Austria's largest banking app natively for iOS using Swift.  \n- You take stakeholders' concerns to heart and strive to quickly find satisfactory solutions for them.  \n\n**Technologies and Skills**  \n- Gradle  \n- Jenkins  \n- Swift  \n\n**Our Expectations of You**  \n\n**Qualifications**  \n- You are familiar with Continuous Integration using Jenkins and Gradle.  \n- You are characterized by solution-oriented thinking, independent and responsible work, as well as teamwork skills.  \n- You are good at listening, questioning, and explaining.  \n- You develop the Mein ELBA app – the tool that fits in every pocket. Whether it’s the grandmother quickly managing her payments or the child with their first youth account organizing their finances – the Mein ELBA app makes everything possible: payments, securities transactions, and much more – quickly, easily, and anywhere.  \n- You have good German and English skills, both written and spoken, and can apply them in your professional daily life.  \n\n**Experience**  \n- You have several years of experience in app development with iOS (Swift).  \n\n**Benefits**  \n- Home Office  \n- Flexible working hours  \n- Meal allowance  \n- Good transport connections  \n- Employee discounts  \n- Health promotion  \n- Canteen/company restaurant  \n- Company doctor  \n- Company car  \n- Fresh fruit  \n- Team events  \n- Employee bonuses  \n- Additional insurance  \n- Transportation allowance  \n- Childcare  \n- Fitness offers  \n- Coffee, tea, etc.  ",
         "1. Platform: iOS  \n2. Salary: Not mentioned  \n3. Requirements:  \n   - You are familiar with Continuous Integration using Jenkins and Gradle.  \n   - You are characterized by solution-oriented thinking, independent and responsible work, as well as teamwork skills.  \n   - You are good at listening, questioning, and explaining.  \n   - You develop the Mein ELBA app – the tool that fits in every pocket. Whether it’s the grandmother quickly managing her payments or the child with their first youth account organizing their finances – the Mein ELBA app makes everything possible: payments, securities transactions, and much more – quickly, easily, and anywhere.  \n   - You have good German and English skills, both written and spoken, and can apply them in your professional daily life.  \n   - You have several years of experience in app development with iOS (Swift).  \n4. Nice to have: Not mentioned  \n5. Responsibilities:  \n   - You contribute to the further development of the Mein ELBA app for 2.8 million customers and ensure it runs smoothly.  \n   - You develop an appealing, modern, and accessible interface for our customers to manage their daily banking tasks.  \n   - With your meticulous and security-conscious approach, you ensure that our customers feel well-supported when using online banking.  \n   - You program new features for Austria's largest banking app natively for iOS using Swift.  \n   - You take stakeholders' concerns to heart and strive to quickly find satisfactory solutions for them.  \n6. Benefits:  \n   - Home Office  \n   - Flexible working hours  \n   - Meal allowance  \n   - Good transport connections  \n   - Employee discounts  \n   - Health promotion  \n   - Canteen/company restaurant  \n   - Company doctor  \n   - Company car  \n   - Fresh fruit  \n   - Team events  \n   - Employee bonuses  \n   - Additional insurance  \n   - Transportation allowance  \n   - Childcare  \n   - Fitness offers  \n   - Coffee, tea, etc.  ",
         "iOS",
         "Not mentioned",
         "- You are familiar with Continuous Integration using Jenkins and Gradle.  \n   - You are characterized by solution-oriented thinking, independent and responsible work, as well as teamwork skills.  \n   - You are good at listening, questioning, and explaining.  \n   - You develop the Mein ELBA app – the tool that fits in every pocket. Whether it’s the grandmother quickly managing her payments or the child with their first youth account organizing their finances – the Mein ELBA app makes everything possible: payments, securities transactions, and much more – quickly, easily, and anywhere.  \n   - You have good German and English skills, both written and spoken, and can apply them in your professional daily life.  \n   - You have several years of experience in app development with iOS (Swift).",
         "Not mentioned",
         "- You contribute to the further development of the Mein ELBA app for 2.8 million customers and ensure it runs smoothly.  \n   - You develop an appealing, modern, and accessible interface for our customers to manage their daily banking tasks.  \n   - With your meticulous and security-conscious approach, you ensure that our customers feel well-supported when using online banking.  \n   - You program new features for Austria's largest banking app natively for iOS using Swift.  \n   - You take stakeholders' concerns to heart and strive to quickly find satisfactory solutions for them.",
         "- Home Office  \n   - Flexible working hours  \n   - Meal allowance  \n   - Good transport connections  \n   - Employee discounts  \n   - Health promotion  \n   - Canteen/company restaurant  \n   - Company doctor  \n   - Company car  \n   - Fresh fruit  \n   - Team events  \n   - Employee bonuses  \n   - Additional insurance  \n   - Transportation allowance  \n   - Childcare  \n   - Fitness offers  \n   - Coffee, tea, etc.",
         "3. Requirements:\n- You are familiar with Continuous Integration using Jenkins and Gradle.  \n   - You are characterized by solution-oriented thinking, independent and responsible work, as well as teamwork skills.  \n   - You are good at listening, questioning, and explaining.  \n   - You develop the Mein ELBA app – the tool that fits in every pocket. Whether it’s the grandmother quickly managing her payments or the child with their first youth account organizing their finances – the Mein ELBA app makes everything possible: payments, securities transactions, and much more – quickly, easily, and anywhere.  \n   - You have good German and English skills, both written and spoken, and can apply them in your professional daily life.  \n   - You have several years of experience in app development with iOS (Swift).\n\n4. Nice to have:\nNot mentioned\n\n5. Responsibilities:\n- You contribute to the further development of the Mein ELBA app for 2.8 million customers and ensure it runs smoothly.  \n   - You develop an appealing, modern, and accessible interface for our customers to manage their daily banking tasks.  \n   - With your meticulous and security-conscious approach, you ensure that our customers feel well-supported when using online banking.  \n   - You program new features for Austria's largest banking app natively for iOS using Swift.  \n   - You take stakeholders' concerns to heart and strive to quickly find satisfactory solutions for them.",
         "{\n    \"languages_and_runtimes\":[\"Swift\"],\n    \"build_and_dependency_management\":[\"Gradle\"],\n    \"ci_cd_and_release_automation\":[\"Jenkins\"]\n}",
         "{\"languages_and_runtimes\": [\"swift\"], \"build_and_dependency_management\": [\"gradle\"], \"ci_cd_and_release_automation\": [\"jenkins\"]}",
         "swift, gradle, jenkins",
         "{'languages': ['Swift'], 'build_dependency': ['Gradle'], 'ci_cd': ['Jenkins']}",
         "{'languages': ['Swift'], 'build_dependency': ['Gradle'], 'ci_cd': ['Jenkins']}",
         null,
         null,
         null,
         null,
         "Gradle",
         "Jenkins",
         null,
         null,
         null,
         null,
         null,
         null,
         null,
         null,
         null,
         "Swift",
         null,
         null,
         null,
         null,
         null,
         null,
         null,
         null,
         null,
         null,
         null,
         null
        ],
        [
         "4",
         "Austria",
         "Europe",
         "True",
         "True",
         "default",
         "google.com",
         "iOS Software Engineer",
         "Cybermoth",
         "Vienna, Austria",
         "Expertini, Talent.com",
         "We are searching for iOS Software Engineers with native iOS development experience\r\n\r\nAs a software engineer you'll be working with project managers, designers, software architects and engineers to deliver software products.\r\n\r\nQualification\r\n\r\nPlease apply for this position if you meet the following requirements:\r\n• Worked on at least one native Swift application published in the App Store\r\n• Experience building mobile apps using Swift, Objective-C, Java, or Kotlin\r\n• Fluent in Swift and at least one other programming language\r\n• Deep understanding of the iOS SDK\r\n• Good knowledge of Xcode and Jetbrains IDEs\r\n• Experience with version control\r\n• Worked with agile scrum frameworks\r\n• Knowledge of MacOS, iOS and Apple software\r\n• Fluent in English, written and spoken\r\n\r\nYour work experience, skills and references will be verified.\r\n\r\nResponsibilities\r\n\r\nIn this position you will be part of one or more remote or in-house agile teams for internal, commercial or research projects.\r\n\r\nBe committed to build quality high-performance software, be willing to work overtime if necessary and be available for international business travel.\r\n\r\nWork environment\r\n\r\nYou will work in a team office during this full time position in our offices in Donaucity, Vienna. We provide fruits, vegan snacks and beverages and a relaxing, creative environment.\r\n\r\nWhat we offer\r\n\r\nYou will be part of a company with an inspiring vision and a clear purpose. We are very selective and demand professional excellence from all our team, and offer attractive rewards to keep everyone happy at all times:\r\n• Depending on qualifications and professional experience, we offer a gross monthly salary between € 2,700 and € 5,400 for this position\r\n• Five weeks of vacation per year\r\n• For Non-EU residents we offer a 6 months contract working in Vienna with the possibility to prolong, or after this period work remote from your country of origin\r\n• Assistance with Austrian work visa application if necessary\r\n• All additional benefits dictated by Austria's employment law including medical insurance\r\n• We welcome unvaccinated candidates",
         null,
         null,
         "Full-time",
         "No degree mentioned",
         "eyJqb2JfdGl0bGUiOiJpT1MgU29mdHdhcmUgRW5naW5lZXIiLCJjb21wYW55X25hbWUiOiJDeWJlcm1vdGgiLCJhZGRyZXNzX2NpdHkiOiJWaWVubmEsIEF1c3RyaWEiLCJodGlkb2NpZCI6Ik03UGNJLXNzTUp3T3hXVXhBQUFBQUE9PSIsInV1bGUiOiJ3K0NBSVFJQ0lIUVhWemRISnBZUSJ9",
         "2025-01-13 12:20:42 UTC",
         "iOS developer",
         "en",
         "We are searching for iOS Software Engineers with native iOS development experience\r\n\r\nAs a software engineer you'll be working with project managers, designers, software architects and engineers to deliver software products.\r\n\r\nQualification\r\n\r\nPlease apply for this position if you meet the following requirements:\r\n• Worked on at least one native Swift application published in the App Store\r\n• Experience building mobile apps using Swift, Objective-C, Java, or Kotlin\r\n• Fluent in Swift and at least one other programming language\r\n• Deep understanding of the iOS SDK\r\n• Good knowledge of Xcode and Jetbrains IDEs\r\n• Experience with version control\r\n• Worked with agile scrum frameworks\r\n• Knowledge of MacOS, iOS and Apple software\r\n• Fluent in English, written and spoken\r\n\r\nYour work experience, skills and references will be verified.\r\n\r\nResponsibilities\r\n\r\nIn this position you will be part of one or more remote or in-house agile teams for internal, commercial or research projects.\r\n\r\nBe committed to build quality high-performance software, be willing to work overtime if necessary and be available for international business travel.\r\n\r\nWork environment\r\n\r\nYou will work in a team office during this full time position in our offices in Donaucity, Vienna. We provide fruits, vegan snacks and beverages and a relaxing, creative environment.\r\n\r\nWhat we offer\r\n\r\nYou will be part of a company with an inspiring vision and a clear purpose. We are very selective and demand professional excellence from all our team, and offer attractive rewards to keep everyone happy at all times:\r\n• Depending on qualifications and professional experience, we offer a gross monthly salary between € 2,700 and € 5,400 for this position\r\n• Five weeks of vacation per year\r\n• For Non-EU residents we offer a 6 months contract working in Vienna with the possibility to prolong, or after this period work remote from your country of origin\r\n• Assistance with Austrian work visa application if necessary\r\n• All additional benefits dictated by Austria's employment law including medical insurance\r\n• We welcome unvaccinated candidates",
         "1. Platform: iOS  \n2. Salary: Depending on qualifications and professional experience, we offer a gross monthly salary between € 2,700 and € 5,400 for this position  \n3. Requirements:  \n   • Worked on at least one native Swift application published in the App Store  \n   • Experience building mobile apps using Swift, Objective-C, Java, or Kotlin  \n   • Fluent in Swift and at least one other programming language  \n   • Deep understanding of the iOS SDK  \n   • Good knowledge of Xcode and Jetbrains IDEs  \n   • Experience with version control  \n   • Worked with agile scrum frameworks  \n   • Knowledge of MacOS, iOS and Apple software  \n   • Fluent in English, written and spoken  \n   • Your work experience, skills and references will be verified  \n4. Nice to have: Not mentioned  \n5. Responsibilities:  \n   • In this position you will be part of one or more remote or in-house agile teams for internal, commercial or research projects.  \n   • Be committed to build quality high-performance software, be willing to work overtime if necessary and be available for international business travel.  \n6. Benefits:  \n   • You will be part of a company with an inspiring vision and a clear purpose.  \n   • We are very selective and demand professional excellence from all our team, and offer attractive rewards to keep everyone happy at all times:  \n     - Depending on qualifications and professional experience, we offer a gross monthly salary between € 2,700 and € 5,400 for this position  \n     - Five weeks of vacation per year  \n     - For Non-EU residents we offer a 6 months contract working in Vienna with the possibility to prolong, or after this period work remote from your country of origin  \n     - Assistance with Austrian work visa application if necessary  \n     - All additional benefits dictated by Austria's employment law including medical insurance  \n     - We welcome unvaccinated candidates  ",
         "iOS",
         "Depending on qualifications and professional experience, we offer a gross monthly salary between € 2,700 and € 5,400 for this position",
         "• Worked on at least one native Swift application published in the App Store  \n   • Experience building mobile apps using Swift, Objective-C, Java, or Kotlin  \n   • Fluent in Swift and at least one other programming language  \n   • Deep understanding of the iOS SDK  \n   • Good knowledge of Xcode and Jetbrains IDEs  \n   • Experience with version control  \n   • Worked with agile scrum frameworks  \n   • Knowledge of MacOS, iOS and Apple software  \n   • Fluent in English, written and spoken  \n   • Your work experience, skills and references will be verified",
         "Not mentioned",
         "• In this position you will be part of one or more remote or in-house agile teams for internal, commercial or research projects.  \n   • Be committed to build quality high-performance software, be willing to work overtime if necessary and be available for international business travel.",
         "• You will be part of a company with an inspiring vision and a clear purpose.  \n   • We are very selective and demand professional excellence from all our team, and offer attractive rewards to keep everyone happy at all times:  \n     - Depending on qualifications and professional experience, we offer a gross monthly salary between € 2,700 and € 5,400 for this position  \n     - Five weeks of vacation per year  \n     - For Non-EU residents we offer a 6 months contract working in Vienna with the possibility to prolong, or after this period work remote from your country of origin  \n     - Assistance with Austrian work visa application if necessary  \n     - All additional benefits dictated by Austria's employment law including medical insurance  \n     - We welcome unvaccinated candidates",
         "3. Requirements:\n• Worked on at least one native Swift application published in the App Store  \n   • Experience building mobile apps using Swift, Objective-C, Java, or Kotlin  \n   • Fluent in Swift and at least one other programming language  \n   • Deep understanding of the iOS SDK  \n   • Good knowledge of Xcode and Jetbrains IDEs  \n   • Experience with version control  \n   • Worked with agile scrum frameworks  \n   • Knowledge of MacOS, iOS and Apple software  \n   • Fluent in English, written and spoken  \n   • Your work experience, skills and references will be verified\n\n4. Nice to have:\nNot mentioned\n\n5. Responsibilities:\n• In this position you will be part of one or more remote or in-house agile teams for internal, commercial or research projects.  \n   • Be committed to build quality high-performance software, be willing to work overtime if necessary and be available for international business travel.",
         "{\n    \"languages_and_runtimes\":[\"Java\",\"Kotlin\",\"Objective-C\",\"Swift\"],\n    \"build_and_dependency_management\":[\"Xcode\"],\n    \"development_methodologies\":[\"Scrum\"]\n}",
         "{\"languages_and_runtimes\": [\"java\", \"kotlin\", \"objective-c\", \"swift\"], \"build_and_dependency_management\": [\"xcode\"], \"development_methodologies\": [\"scrum\"]}",
         "objective-c, swift, xcode, scrum",
         "{'languages': ['Objective-C', 'Swift'], 'ides': ['Xcode'], 'methodologies': ['Scrum']}",
         "{'languages': ['Objective-C', 'Swift'], 'ides': ['Xcode'], 'methodologies': ['Scrum']}",
         null,
         null,
         null,
         null,
         null,
         null,
         null,
         null,
         null,
         null,
         null,
         null,
         null,
         null,
         "Xcode",
         "Objective-C, Swift",
         "Scrum",
         null,
         null,
         null,
         null,
         null,
         null,
         null,
         null,
         null,
         null,
         null
        ]
       ],
       "shape": {
        "columns": 61,
        "rows": 5
       }
      },
      "text/html": [
       "<div>\n",
       "<style scoped>\n",
       "    .dataframe tbody tr th:only-of-type {\n",
       "        vertical-align: middle;\n",
       "    }\n",
       "\n",
       "    .dataframe tbody tr th {\n",
       "        vertical-align: top;\n",
       "    }\n",
       "\n",
       "    .dataframe thead th {\n",
       "        text-align: right;\n",
       "    }\n",
       "</style>\n",
       "<table border=\"1\" class=\"dataframe\">\n",
       "  <thead>\n",
       "    <tr style=\"text-align: right;\">\n",
       "      <th></th>\n",
       "      <th>Location</th>\n",
       "      <th>Region</th>\n",
       "      <th>EU Member</th>\n",
       "      <th>Schengen Agreement</th>\n",
       "      <th>Google Domain Type</th>\n",
       "      <th>Google Domain Used</th>\n",
       "      <th>Job Title</th>\n",
       "      <th>Company Name</th>\n",
       "      <th>Job Location</th>\n",
       "      <th>Apply Options</th>\n",
       "      <th>...</th>\n",
       "      <th>native_interop</th>\n",
       "      <th>native_ui</th>\n",
       "      <th>networking</th>\n",
       "      <th>platform_android</th>\n",
       "      <th>platform_apple</th>\n",
       "      <th>runtimes_shared</th>\n",
       "      <th>security_compliance</th>\n",
       "      <th>team_collaboration</th>\n",
       "      <th>testing_quality</th>\n",
       "      <th>version_control</th>\n",
       "    </tr>\n",
       "  </thead>\n",
       "  <tbody>\n",
       "    <tr>\n",
       "      <th>0</th>\n",
       "      <td>Austria</td>\n",
       "      <td>Europe</td>\n",
       "      <td>True</td>\n",
       "      <td>True</td>\n",
       "      <td>default</td>\n",
       "      <td>google.com</td>\n",
       "      <td>Android Developer – Kotlin (Austria based, Hyb...</td>\n",
       "      <td>Bitcoin Devs Company</td>\n",
       "      <td>Vienna, Austria</td>\n",
       "      <td>Jobs3</td>\n",
       "      <td>...</td>\n",
       "      <td>NaN</td>\n",
       "      <td>NaN</td>\n",
       "      <td>Retrofit</td>\n",
       "      <td>NaN</td>\n",
       "      <td>NaN</td>\n",
       "      <td>NaN</td>\n",
       "      <td>NaN</td>\n",
       "      <td>NaN</td>\n",
       "      <td>NaN</td>\n",
       "      <td>NaN</td>\n",
       "    </tr>\n",
       "    <tr>\n",
       "      <th>1</th>\n",
       "      <td>Austria</td>\n",
       "      <td>Europe</td>\n",
       "      <td>True</td>\n",
       "      <td>True</td>\n",
       "      <td>default</td>\n",
       "      <td>google.com</td>\n",
       "      <td>ios entwickler 80–100% w/m/d</td>\n",
       "      <td>CHANCENLAND VORARLBERG</td>\n",
       "      <td>Dornbirn, Austria</td>\n",
       "      <td>IT-Career.at, STEMJOBS.AT, IT-JOBS.AT</td>\n",
       "      <td>...</td>\n",
       "      <td>NaN</td>\n",
       "      <td>NaN</td>\n",
       "      <td>NaN</td>\n",
       "      <td>NaN</td>\n",
       "      <td>NaN</td>\n",
       "      <td>NaN</td>\n",
       "      <td>NaN</td>\n",
       "      <td>NaN</td>\n",
       "      <td>NaN</td>\n",
       "      <td>NaN</td>\n",
       "    </tr>\n",
       "    <tr>\n",
       "      <th>2</th>\n",
       "      <td>Austria</td>\n",
       "      <td>Europe</td>\n",
       "      <td>True</td>\n",
       "      <td>True</td>\n",
       "      <td>default</td>\n",
       "      <td>google.com</td>\n",
       "      <td>Middle iOS developer</td>\n",
       "      <td>Processica</td>\n",
       "      <td>Vienna, Austria</td>\n",
       "      <td>JOBITT</td>\n",
       "      <td>...</td>\n",
       "      <td>NaN</td>\n",
       "      <td>NaN</td>\n",
       "      <td>NaN</td>\n",
       "      <td>NaN</td>\n",
       "      <td>NaN</td>\n",
       "      <td>NaN</td>\n",
       "      <td>NaN</td>\n",
       "      <td>NaN</td>\n",
       "      <td>NaN</td>\n",
       "      <td>NaN</td>\n",
       "    </tr>\n",
       "    <tr>\n",
       "      <th>3</th>\n",
       "      <td>Austria</td>\n",
       "      <td>Europe</td>\n",
       "      <td>True</td>\n",
       "      <td>True</td>\n",
       "      <td>default</td>\n",
       "      <td>google.com</td>\n",
       "      <td>iOS Developer</td>\n",
       "      <td>Raiffeisen Gruppe</td>\n",
       "      <td>Linz, Austria</td>\n",
       "      <td>Jooble, Trabajo.org - Stellenangebote, Arbeit</td>\n",
       "      <td>...</td>\n",
       "      <td>NaN</td>\n",
       "      <td>NaN</td>\n",
       "      <td>NaN</td>\n",
       "      <td>NaN</td>\n",
       "      <td>NaN</td>\n",
       "      <td>NaN</td>\n",
       "      <td>NaN</td>\n",
       "      <td>NaN</td>\n",
       "      <td>NaN</td>\n",
       "      <td>NaN</td>\n",
       "    </tr>\n",
       "    <tr>\n",
       "      <th>4</th>\n",
       "      <td>Austria</td>\n",
       "      <td>Europe</td>\n",
       "      <td>True</td>\n",
       "      <td>True</td>\n",
       "      <td>default</td>\n",
       "      <td>google.com</td>\n",
       "      <td>iOS Software Engineer</td>\n",
       "      <td>Cybermoth</td>\n",
       "      <td>Vienna, Austria</td>\n",
       "      <td>Expertini, Talent.com</td>\n",
       "      <td>...</td>\n",
       "      <td>NaN</td>\n",
       "      <td>NaN</td>\n",
       "      <td>NaN</td>\n",
       "      <td>NaN</td>\n",
       "      <td>NaN</td>\n",
       "      <td>NaN</td>\n",
       "      <td>NaN</td>\n",
       "      <td>NaN</td>\n",
       "      <td>NaN</td>\n",
       "      <td>NaN</td>\n",
       "    </tr>\n",
       "  </tbody>\n",
       "</table>\n",
       "<p>5 rows × 61 columns</p>\n",
       "</div>"
      ],
      "text/plain": [
       "  Location  Region  EU Member  Schengen Agreement Google Domain Type  \\\n",
       "0  Austria  Europe       True                True            default   \n",
       "1  Austria  Europe       True                True            default   \n",
       "2  Austria  Europe       True                True            default   \n",
       "3  Austria  Europe       True                True            default   \n",
       "4  Austria  Europe       True                True            default   \n",
       "\n",
       "  Google Domain Used                                          Job Title  \\\n",
       "0         google.com  Android Developer – Kotlin (Austria based, Hyb...   \n",
       "1         google.com                       ios entwickler 80–100% w/m/d   \n",
       "2         google.com                               Middle iOS developer   \n",
       "3         google.com                                      iOS Developer   \n",
       "4         google.com                              iOS Software Engineer   \n",
       "\n",
       "             Company Name       Job Location  \\\n",
       "0    Bitcoin Devs Company    Vienna, Austria   \n",
       "1  CHANCENLAND VORARLBERG  Dornbirn, Austria   \n",
       "2              Processica    Vienna, Austria   \n",
       "3       Raiffeisen Gruppe      Linz, Austria   \n",
       "4               Cybermoth    Vienna, Austria   \n",
       "\n",
       "                                   Apply Options  ... native_interop  \\\n",
       "0                                          Jobs3  ...            NaN   \n",
       "1          IT-Career.at, STEMJOBS.AT, IT-JOBS.AT  ...            NaN   \n",
       "2                                         JOBITT  ...            NaN   \n",
       "3  Jooble, Trabajo.org - Stellenangebote, Arbeit  ...            NaN   \n",
       "4                          Expertini, Talent.com  ...            NaN   \n",
       "\n",
       "  native_ui networking platform_android platform_apple runtimes_shared  \\\n",
       "0       NaN   Retrofit              NaN            NaN             NaN   \n",
       "1       NaN        NaN              NaN            NaN             NaN   \n",
       "2       NaN        NaN              NaN            NaN             NaN   \n",
       "3       NaN        NaN              NaN            NaN             NaN   \n",
       "4       NaN        NaN              NaN            NaN             NaN   \n",
       "\n",
       "  security_compliance team_collaboration testing_quality version_control  \n",
       "0                 NaN                NaN             NaN             NaN  \n",
       "1                 NaN                NaN             NaN             NaN  \n",
       "2                 NaN                NaN             NaN             NaN  \n",
       "3                 NaN                NaN             NaN             NaN  \n",
       "4                 NaN                NaN             NaN             NaN  \n",
       "\n",
       "[5 rows x 61 columns]"
      ]
     },
     "execution_count": 2,
     "metadata": {},
     "output_type": "execute_result"
    }
   ],
   "source": [
    "df = pd.read_csv(\"../data/csv/df_final.csv\").copy()\n",
    "df.head()"
   ]
  },
  {
   "cell_type": "markdown",
   "id": "a021f687",
   "metadata": {},
   "source": [
    "## Leave only the necessary columns"
   ]
  },
  {
   "cell_type": "code",
   "execution_count": 3,
   "id": "9508f810",
   "metadata": {},
   "outputs": [
    {
     "data": {
      "application/vnd.microsoft.datawrangler.viewer.v0+json": {
       "columns": [
        {
         "name": "index",
         "rawType": "int64",
         "type": "integer"
        },
        {
         "name": "Location",
         "rawType": "object",
         "type": "string"
        },
        {
         "name": "Region",
         "rawType": "object",
         "type": "string"
        },
        {
         "name": "Job ID",
         "rawType": "object",
         "type": "string"
        },
        {
         "name": "Platform",
         "rawType": "object",
         "type": "string"
        },
        {
         "name": "api_documentation",
         "rawType": "object",
         "type": "unknown"
        },
        {
         "name": "app_distribution",
         "rawType": "object",
         "type": "unknown"
        },
        {
         "name": "architecture",
         "rawType": "object",
         "type": "unknown"
        },
        {
         "name": "backend_baas",
         "rawType": "object",
         "type": "unknown"
        },
        {
         "name": "build_dependency",
         "rawType": "object",
         "type": "unknown"
        },
        {
         "name": "ci_cd",
         "rawType": "object",
         "type": "unknown"
        },
        {
         "name": "concurrency_reactive",
         "rawType": "object",
         "type": "unknown"
        },
        {
         "name": "cross_platform_sdks",
         "rawType": "object",
         "type": "unknown"
        },
        {
         "name": "cross_platform_ui",
         "rawType": "object",
         "type": "unknown"
        },
        {
         "name": "data_storage",
         "rawType": "object",
         "type": "unknown"
        },
        {
         "name": "debug_profiling",
         "rawType": "object",
         "type": "unknown"
        },
        {
         "name": "dependency_injection",
         "rawType": "object",
         "type": "unknown"
        },
        {
         "name": "design_guidelines",
         "rawType": "object",
         "type": "unknown"
        },
        {
         "name": "game_dev",
         "rawType": "object",
         "type": "unknown"
        },
        {
         "name": "ides",
         "rawType": "object",
         "type": "unknown"
        },
        {
         "name": "languages",
         "rawType": "object",
         "type": "unknown"
        },
        {
         "name": "methodologies",
         "rawType": "object",
         "type": "unknown"
        },
        {
         "name": "monitoring_analytics",
         "rawType": "object",
         "type": "unknown"
        },
        {
         "name": "native_interop",
         "rawType": "object",
         "type": "unknown"
        },
        {
         "name": "native_ui",
         "rawType": "object",
         "type": "unknown"
        },
        {
         "name": "networking",
         "rawType": "object",
         "type": "unknown"
        },
        {
         "name": "platform_android",
         "rawType": "object",
         "type": "unknown"
        },
        {
         "name": "platform_apple",
         "rawType": "object",
         "type": "unknown"
        },
        {
         "name": "runtimes_shared",
         "rawType": "object",
         "type": "unknown"
        },
        {
         "name": "security_compliance",
         "rawType": "object",
         "type": "unknown"
        },
        {
         "name": "team_collaboration",
         "rawType": "object",
         "type": "unknown"
        },
        {
         "name": "testing_quality",
         "rawType": "object",
         "type": "unknown"
        },
        {
         "name": "version_control",
         "rawType": "object",
         "type": "unknown"
        }
       ],
       "ref": "a2e6299c-937f-4dab-b2db-73e7e85e2ffd",
       "rows": [
        [
         "0",
         "Austria",
         "Europe",
         "eyJqb2JfdGl0bGUiOiJBbmRyb2lkIERldmVsb3BlciDigJMgS290bGluIChBdXN0cmlhIGJhc2VkLCBIeWJyaWQpIiwiY29tcGFueV9uYW1lIjoiQml0Y29pbiBEZXZzIENvbXBhbnkiLCJhZGRyZXNzX2NpdHkiOiJWaWVubmEsIEF1c3RyaWEiLCJodGlkb2NpZCI6IkpETURFcWVrYlAyOGkxU0VBQUFBQUE9PSIsInV1bGUiOiJ3K0NBSVFJQ0lIUVhWemRISnBZUSJ9",
         "Android",
         null,
         "Google Play Store / Google Play Console",
         "Model-View-ViewModel (MVVM)",
         null,
         null,
         null,
         "Kotlin Coroutines",
         null,
         null,
         null,
         null,
         "Hilt",
         null,
         null,
         null,
         "Kotlin",
         null,
         null,
         null,
         null,
         "Retrofit",
         null,
         null,
         null,
         null,
         null,
         null,
         null
        ],
        [
         "1",
         "Austria",
         "Europe",
         "eyJqb2JfdGl0bGUiOiJpb3MgZW50d2lja2xlciA4MOKAkzEwMCUgdy9tL2QiLCJjb21wYW55X25hbWUiOiJDSEFOQ0VOTEFORCBWT1JBUkxCRVJHIiwiYWRkcmVzc19jaXR5IjoiRG9ybmJpcm4sIEF1c3RyaWEiLCJodGlkb2NpZCI6IlI2bGFZTG9UUXZYc0pDVTdBQUFBQUE9PSIsInV1bGUiOiJ3K0NBSVFJQ0lIUVhWemRISnBZUSJ9",
         "iOS",
         null,
         null,
         null,
         null,
         null,
         null,
         null,
         null,
         null,
         null,
         null,
         null,
         null,
         null,
         null,
         null,
         null,
         null,
         null,
         null,
         null,
         null,
         null,
         null,
         null,
         null,
         null,
         null
        ],
        [
         "2",
         "Austria",
         "Europe",
         "eyJqb2JfdGl0bGUiOiJNaWRkbGUgaU9TIGRldmVsb3BlciIsImNvbXBhbnlfbmFtZSI6IlByb2Nlc3NpY2EiLCJhZGRyZXNzX2NpdHkiOiJWaWVubmEsIEF1c3RyaWEiLCJodGlkb2NpZCI6IjNmQ09lWXNNZFhkQUMwSktBQUFBQUE9PSIsInV1bGUiOiJ3K0NBSVFJQ0lIUVhWemRISnBZUSJ9",
         "iOS",
         null,
         null,
         null,
         null,
         null,
         null,
         null,
         null,
         null,
         null,
         null,
         null,
         null,
         null,
         null,
         null,
         null,
         null,
         null,
         null,
         null,
         null,
         null,
         null,
         null,
         null,
         null,
         null
        ],
        [
         "3",
         "Austria",
         "Europe",
         "eyJqb2JfdGl0bGUiOiJpT1MgRGV2ZWxvcGVyIiwiY29tcGFueV9uYW1lIjoiUmFpZmZlaXNlbiBHcnVwcGUiLCJhZGRyZXNzX2NpdHkiOiJMaW56LCBBdXN0cmlhIiwiaHRpZG9jaWQiOiJkOTZOUHZyY1gzUlpacVZBQUFBQUFBPT0iLCJ1dWxlIjoidytDQUlRSUNJSFFYVnpkSEpwWVEifQ==",
         "iOS",
         null,
         null,
         null,
         null,
         "Gradle",
         "Jenkins",
         null,
         null,
         null,
         null,
         null,
         null,
         null,
         null,
         null,
         "Swift",
         null,
         null,
         null,
         null,
         null,
         null,
         null,
         null,
         null,
         null,
         null,
         null
        ],
        [
         "4",
         "Austria",
         "Europe",
         "eyJqb2JfdGl0bGUiOiJpT1MgU29mdHdhcmUgRW5naW5lZXIiLCJjb21wYW55X25hbWUiOiJDeWJlcm1vdGgiLCJhZGRyZXNzX2NpdHkiOiJWaWVubmEsIEF1c3RyaWEiLCJodGlkb2NpZCI6Ik03UGNJLXNzTUp3T3hXVXhBQUFBQUE9PSIsInV1bGUiOiJ3K0NBSVFJQ0lIUVhWemRISnBZUSJ9",
         "iOS",
         null,
         null,
         null,
         null,
         null,
         null,
         null,
         null,
         null,
         null,
         null,
         null,
         null,
         null,
         "Xcode",
         "Objective-C, Swift",
         "Scrum",
         null,
         null,
         null,
         null,
         null,
         null,
         null,
         null,
         null,
         null,
         null
        ]
       ],
       "shape": {
        "columns": 32,
        "rows": 5
       }
      },
      "text/html": [
       "<div>\n",
       "<style scoped>\n",
       "    .dataframe tbody tr th:only-of-type {\n",
       "        vertical-align: middle;\n",
       "    }\n",
       "\n",
       "    .dataframe tbody tr th {\n",
       "        vertical-align: top;\n",
       "    }\n",
       "\n",
       "    .dataframe thead th {\n",
       "        text-align: right;\n",
       "    }\n",
       "</style>\n",
       "<table border=\"1\" class=\"dataframe\">\n",
       "  <thead>\n",
       "    <tr style=\"text-align: right;\">\n",
       "      <th></th>\n",
       "      <th>Location</th>\n",
       "      <th>Region</th>\n",
       "      <th>Job ID</th>\n",
       "      <th>Platform</th>\n",
       "      <th>api_documentation</th>\n",
       "      <th>app_distribution</th>\n",
       "      <th>architecture</th>\n",
       "      <th>backend_baas</th>\n",
       "      <th>build_dependency</th>\n",
       "      <th>ci_cd</th>\n",
       "      <th>...</th>\n",
       "      <th>native_interop</th>\n",
       "      <th>native_ui</th>\n",
       "      <th>networking</th>\n",
       "      <th>platform_android</th>\n",
       "      <th>platform_apple</th>\n",
       "      <th>runtimes_shared</th>\n",
       "      <th>security_compliance</th>\n",
       "      <th>team_collaboration</th>\n",
       "      <th>testing_quality</th>\n",
       "      <th>version_control</th>\n",
       "    </tr>\n",
       "  </thead>\n",
       "  <tbody>\n",
       "    <tr>\n",
       "      <th>0</th>\n",
       "      <td>Austria</td>\n",
       "      <td>Europe</td>\n",
       "      <td>eyJqb2JfdGl0bGUiOiJBbmRyb2lkIERldmVsb3BlciDigJ...</td>\n",
       "      <td>Android</td>\n",
       "      <td>NaN</td>\n",
       "      <td>Google Play Store / Google Play Console</td>\n",
       "      <td>Model-View-ViewModel (MVVM)</td>\n",
       "      <td>NaN</td>\n",
       "      <td>NaN</td>\n",
       "      <td>NaN</td>\n",
       "      <td>...</td>\n",
       "      <td>NaN</td>\n",
       "      <td>NaN</td>\n",
       "      <td>Retrofit</td>\n",
       "      <td>NaN</td>\n",
       "      <td>NaN</td>\n",
       "      <td>NaN</td>\n",
       "      <td>NaN</td>\n",
       "      <td>NaN</td>\n",
       "      <td>NaN</td>\n",
       "      <td>NaN</td>\n",
       "    </tr>\n",
       "    <tr>\n",
       "      <th>1</th>\n",
       "      <td>Austria</td>\n",
       "      <td>Europe</td>\n",
       "      <td>eyJqb2JfdGl0bGUiOiJpb3MgZW50d2lja2xlciA4MOKAkz...</td>\n",
       "      <td>iOS</td>\n",
       "      <td>NaN</td>\n",
       "      <td>NaN</td>\n",
       "      <td>NaN</td>\n",
       "      <td>NaN</td>\n",
       "      <td>NaN</td>\n",
       "      <td>NaN</td>\n",
       "      <td>...</td>\n",
       "      <td>NaN</td>\n",
       "      <td>NaN</td>\n",
       "      <td>NaN</td>\n",
       "      <td>NaN</td>\n",
       "      <td>NaN</td>\n",
       "      <td>NaN</td>\n",
       "      <td>NaN</td>\n",
       "      <td>NaN</td>\n",
       "      <td>NaN</td>\n",
       "      <td>NaN</td>\n",
       "    </tr>\n",
       "    <tr>\n",
       "      <th>2</th>\n",
       "      <td>Austria</td>\n",
       "      <td>Europe</td>\n",
       "      <td>eyJqb2JfdGl0bGUiOiJNaWRkbGUgaU9TIGRldmVsb3Blci...</td>\n",
       "      <td>iOS</td>\n",
       "      <td>NaN</td>\n",
       "      <td>NaN</td>\n",
       "      <td>NaN</td>\n",
       "      <td>NaN</td>\n",
       "      <td>NaN</td>\n",
       "      <td>NaN</td>\n",
       "      <td>...</td>\n",
       "      <td>NaN</td>\n",
       "      <td>NaN</td>\n",
       "      <td>NaN</td>\n",
       "      <td>NaN</td>\n",
       "      <td>NaN</td>\n",
       "      <td>NaN</td>\n",
       "      <td>NaN</td>\n",
       "      <td>NaN</td>\n",
       "      <td>NaN</td>\n",
       "      <td>NaN</td>\n",
       "    </tr>\n",
       "    <tr>\n",
       "      <th>3</th>\n",
       "      <td>Austria</td>\n",
       "      <td>Europe</td>\n",
       "      <td>eyJqb2JfdGl0bGUiOiJpT1MgRGV2ZWxvcGVyIiwiY29tcG...</td>\n",
       "      <td>iOS</td>\n",
       "      <td>NaN</td>\n",
       "      <td>NaN</td>\n",
       "      <td>NaN</td>\n",
       "      <td>NaN</td>\n",
       "      <td>Gradle</td>\n",
       "      <td>Jenkins</td>\n",
       "      <td>...</td>\n",
       "      <td>NaN</td>\n",
       "      <td>NaN</td>\n",
       "      <td>NaN</td>\n",
       "      <td>NaN</td>\n",
       "      <td>NaN</td>\n",
       "      <td>NaN</td>\n",
       "      <td>NaN</td>\n",
       "      <td>NaN</td>\n",
       "      <td>NaN</td>\n",
       "      <td>NaN</td>\n",
       "    </tr>\n",
       "    <tr>\n",
       "      <th>4</th>\n",
       "      <td>Austria</td>\n",
       "      <td>Europe</td>\n",
       "      <td>eyJqb2JfdGl0bGUiOiJpT1MgU29mdHdhcmUgRW5naW5lZX...</td>\n",
       "      <td>iOS</td>\n",
       "      <td>NaN</td>\n",
       "      <td>NaN</td>\n",
       "      <td>NaN</td>\n",
       "      <td>NaN</td>\n",
       "      <td>NaN</td>\n",
       "      <td>NaN</td>\n",
       "      <td>...</td>\n",
       "      <td>NaN</td>\n",
       "      <td>NaN</td>\n",
       "      <td>NaN</td>\n",
       "      <td>NaN</td>\n",
       "      <td>NaN</td>\n",
       "      <td>NaN</td>\n",
       "      <td>NaN</td>\n",
       "      <td>NaN</td>\n",
       "      <td>NaN</td>\n",
       "      <td>NaN</td>\n",
       "    </tr>\n",
       "  </tbody>\n",
       "</table>\n",
       "<p>5 rows × 32 columns</p>\n",
       "</div>"
      ],
      "text/plain": [
       "  Location  Region                                             Job ID  \\\n",
       "0  Austria  Europe  eyJqb2JfdGl0bGUiOiJBbmRyb2lkIERldmVsb3BlciDigJ...   \n",
       "1  Austria  Europe  eyJqb2JfdGl0bGUiOiJpb3MgZW50d2lja2xlciA4MOKAkz...   \n",
       "2  Austria  Europe  eyJqb2JfdGl0bGUiOiJNaWRkbGUgaU9TIGRldmVsb3Blci...   \n",
       "3  Austria  Europe  eyJqb2JfdGl0bGUiOiJpT1MgRGV2ZWxvcGVyIiwiY29tcG...   \n",
       "4  Austria  Europe  eyJqb2JfdGl0bGUiOiJpT1MgU29mdHdhcmUgRW5naW5lZX...   \n",
       "\n",
       "  Platform api_documentation                         app_distribution  \\\n",
       "0  Android               NaN  Google Play Store / Google Play Console   \n",
       "1      iOS               NaN                                      NaN   \n",
       "2      iOS               NaN                                      NaN   \n",
       "3      iOS               NaN                                      NaN   \n",
       "4      iOS               NaN                                      NaN   \n",
       "\n",
       "                  architecture backend_baas build_dependency    ci_cd  ...  \\\n",
       "0  Model-View-ViewModel (MVVM)          NaN              NaN      NaN  ...   \n",
       "1                          NaN          NaN              NaN      NaN  ...   \n",
       "2                          NaN          NaN              NaN      NaN  ...   \n",
       "3                          NaN          NaN           Gradle  Jenkins  ...   \n",
       "4                          NaN          NaN              NaN      NaN  ...   \n",
       "\n",
       "  native_interop native_ui networking platform_android platform_apple  \\\n",
       "0            NaN       NaN   Retrofit              NaN            NaN   \n",
       "1            NaN       NaN        NaN              NaN            NaN   \n",
       "2            NaN       NaN        NaN              NaN            NaN   \n",
       "3            NaN       NaN        NaN              NaN            NaN   \n",
       "4            NaN       NaN        NaN              NaN            NaN   \n",
       "\n",
       "  runtimes_shared security_compliance team_collaboration testing_quality  \\\n",
       "0             NaN                 NaN                NaN             NaN   \n",
       "1             NaN                 NaN                NaN             NaN   \n",
       "2             NaN                 NaN                NaN             NaN   \n",
       "3             NaN                 NaN                NaN             NaN   \n",
       "4             NaN                 NaN                NaN             NaN   \n",
       "\n",
       "  version_control  \n",
       "0             NaN  \n",
       "1             NaN  \n",
       "2             NaN  \n",
       "3             NaN  \n",
       "4             NaN  \n",
       "\n",
       "[5 rows x 32 columns]"
      ]
     },
     "execution_count": 3,
     "metadata": {},
     "output_type": "execute_result"
    }
   ],
   "source": [
    "df = data_cleaning.filtered_data(df)\n",
    "df.head()"
   ]
  },
  {
   "cell_type": "code",
   "execution_count": 4,
   "id": "fc2d8b9b",
   "metadata": {},
   "outputs": [],
   "source": [
    "df.to_csv(\"../data/csv/df_final_filtered.csv\", index=False)"
   ]
  },
  {
   "cell_type": "markdown",
   "id": "03d0d01c",
   "metadata": {},
   "source": [
    "## Re-creating data form \"wide\" to \"long\" format"
   ]
  },
  {
   "cell_type": "code",
   "execution_count": 5,
   "id": "bf7d6303",
   "metadata": {},
   "outputs": [],
   "source": [
    "long = data_cleaning.wide_long(df)\n",
    "long.head()\n",
    "long.to_csv('../data/csv/df_final_filtered_long.csv', index=False)"
   ]
  },
  {
   "cell_type": "markdown",
   "id": "04bafbd7",
   "metadata": {},
   "source": [
    "## Results"
   ]
  },
  {
   "cell_type": "code",
   "execution_count": 6,
   "id": "b990e58b",
   "metadata": {},
   "outputs": [
    {
     "data": {
      "text/plain": [
       "['api_documentation',\n",
       " 'app_distribution',\n",
       " 'architecture',\n",
       " 'backend_baas',\n",
       " 'build_dependency',\n",
       " 'ci_cd',\n",
       " 'concurrency_reactive',\n",
       " 'cross_platform_sdks',\n",
       " 'cross_platform_ui',\n",
       " 'data_storage',\n",
       " 'debug_profiling',\n",
       " 'dependency_injection',\n",
       " 'design_guidelines',\n",
       " 'game_dev',\n",
       " 'ides',\n",
       " 'languages',\n",
       " 'methodologies',\n",
       " 'monitoring_analytics',\n",
       " 'native_interop',\n",
       " 'native_ui',\n",
       " 'networking',\n",
       " 'platform_android',\n",
       " 'platform_apple',\n",
       " 'runtimes_shared',\n",
       " 'security_compliance',\n",
       " 'team_collaboration',\n",
       " 'testing_quality',\n",
       " 'version_control']"
      ]
     },
     "execution_count": 6,
     "metadata": {},
     "output_type": "execute_result"
    }
   ],
   "source": [
    "eu_android = long[(long['Region'] =='Europe') & (long['Platform'] =='Android')].reset_index(drop=True)\n",
    "eu_ios = long[(long['Region'] =='Europe') & (long['Platform'] =='iOS')].reset_index(drop=True)\n",
    "\n",
    "na_android = long[(long['Region'] =='Northern America') & (long['Platform'] =='Android')].reset_index(drop=True)\n",
    "na_ios = long[(long['Region'] =='Northern America') & (long['Platform'] =='iOS')].reset_index(drop=True)\n",
    "\n",
    "categories = sorted(long['Category'].dropna().astype(str).unique())\n",
    "categories"
   ]
  },
  {
   "cell_type": "code",
   "execution_count": 11,
   "id": "4f2db621",
   "metadata": {},
   "outputs": [
    {
     "data": {
      "text/plain": [
       "688"
      ]
     },
     "execution_count": 11,
     "metadata": {},
     "output_type": "execute_result"
    }
   ],
   "source": [
    "len(eu_android[\"Job ID\"].unique())"
   ]
  },
  {
   "cell_type": "code",
   "execution_count": 12,
   "id": "1864c02b",
   "metadata": {},
   "outputs": [
    {
     "data": {
      "text/plain": [
       "289"
      ]
     },
     "execution_count": 12,
     "metadata": {},
     "output_type": "execute_result"
    }
   ],
   "source": [
    "len(na_android[\"Job ID\"].unique())"
   ]
  },
  {
   "cell_type": "code",
   "execution_count": 13,
   "id": "3ac119cc",
   "metadata": {},
   "outputs": [
    {
     "data": {
      "text/plain": [
       "743"
      ]
     },
     "execution_count": 13,
     "metadata": {},
     "output_type": "execute_result"
    }
   ],
   "source": [
    "len(eu_ios[\"Job ID\"].unique())"
   ]
  },
  {
   "cell_type": "code",
   "execution_count": 14,
   "id": "2ec2e451",
   "metadata": {},
   "outputs": [
    {
     "data": {
      "text/plain": [
       "271"
      ]
     },
     "execution_count": 14,
     "metadata": {},
     "output_type": "execute_result"
    }
   ],
   "source": [
    "len(na_ios[\"Job ID\"].unique())"
   ]
  },
  {
   "cell_type": "markdown",
   "id": "5bf0bba8",
   "metadata": {},
   "source": [
    "### Testing (languages)\n",
    "#### Andoid"
   ]
  },
  {
   "cell_type": "code",
   "execution_count": null,
   "id": "57237cea",
   "metadata": {},
   "outputs": [
    {
     "data": {
      "application/vnd.microsoft.datawrangler.viewer.v0+json": {
       "columns": [
        {
         "name": "index",
         "rawType": "int64",
         "type": "integer"
        },
        {
         "name": "Technology",
         "rawType": "object",
         "type": "string"
        },
        {
         "name": "count",
         "rawType": "int64",
         "type": "integer"
        },
        {
         "name": "percent",
         "rawType": "float64",
         "type": "float"
        }
       ],
       "ref": "aa39a406-2302-4146-8c27-c1f942951367",
       "rows": [
        [
         "0",
         "Kotlin",
         "600",
         "87.21"
        ],
        [
         "1",
         "Java",
         "368",
         "53.49"
        ],
        [
         "2",
         "C++",
         "79",
         "11.48"
        ],
        [
         "3",
         "C",
         "23",
         "3.34"
        ],
        [
         "4",
         "Python",
         "22",
         "3.2"
        ],
        [
         "5",
         "JavaScript",
         "15",
         "2.18"
        ],
        [
         "6",
         "C#",
         "8",
         "1.16"
        ],
        [
         "7",
         "SQL",
         "8",
         "1.16"
        ],
        [
         "8",
         "TypeScript",
         "6",
         "0.87"
        ],
        [
         "9",
         "Dart",
         "4",
         "0.58"
        ],
        [
         "10",
         "Go",
         "4",
         "0.58"
        ],
        [
         "11",
         "Rust",
         "3",
         "0.44"
        ],
        [
         "12",
         "Apache Groovy",
         "2",
         "0.29"
        ],
        [
         "13",
         "PHP",
         "2",
         "0.29"
        ],
        [
         "14",
         "Scala",
         "2",
         "0.29"
        ],
        [
         "15",
         "Ruby",
         "1",
         "0.15"
        ]
       ],
       "shape": {
        "columns": 3,
        "rows": 16
       }
      },
      "text/html": [
       "<div>\n",
       "<style scoped>\n",
       "    .dataframe tbody tr th:only-of-type {\n",
       "        vertical-align: middle;\n",
       "    }\n",
       "\n",
       "    .dataframe tbody tr th {\n",
       "        vertical-align: top;\n",
       "    }\n",
       "\n",
       "    .dataframe thead th {\n",
       "        text-align: right;\n",
       "    }\n",
       "</style>\n",
       "<table border=\"1\" class=\"dataframe\">\n",
       "  <thead>\n",
       "    <tr style=\"text-align: right;\">\n",
       "      <th></th>\n",
       "      <th>Technology</th>\n",
       "      <th>count</th>\n",
       "      <th>percent</th>\n",
       "    </tr>\n",
       "  </thead>\n",
       "  <tbody>\n",
       "    <tr>\n",
       "      <th>0</th>\n",
       "      <td>Kotlin</td>\n",
       "      <td>600</td>\n",
       "      <td>87.21</td>\n",
       "    </tr>\n",
       "    <tr>\n",
       "      <th>1</th>\n",
       "      <td>Java</td>\n",
       "      <td>368</td>\n",
       "      <td>53.49</td>\n",
       "    </tr>\n",
       "    <tr>\n",
       "      <th>2</th>\n",
       "      <td>C++</td>\n",
       "      <td>79</td>\n",
       "      <td>11.48</td>\n",
       "    </tr>\n",
       "    <tr>\n",
       "      <th>3</th>\n",
       "      <td>C</td>\n",
       "      <td>23</td>\n",
       "      <td>3.34</td>\n",
       "    </tr>\n",
       "    <tr>\n",
       "      <th>4</th>\n",
       "      <td>Python</td>\n",
       "      <td>22</td>\n",
       "      <td>3.20</td>\n",
       "    </tr>\n",
       "    <tr>\n",
       "      <th>5</th>\n",
       "      <td>JavaScript</td>\n",
       "      <td>15</td>\n",
       "      <td>2.18</td>\n",
       "    </tr>\n",
       "    <tr>\n",
       "      <th>6</th>\n",
       "      <td>C#</td>\n",
       "      <td>8</td>\n",
       "      <td>1.16</td>\n",
       "    </tr>\n",
       "    <tr>\n",
       "      <th>7</th>\n",
       "      <td>SQL</td>\n",
       "      <td>8</td>\n",
       "      <td>1.16</td>\n",
       "    </tr>\n",
       "    <tr>\n",
       "      <th>8</th>\n",
       "      <td>TypeScript</td>\n",
       "      <td>6</td>\n",
       "      <td>0.87</td>\n",
       "    </tr>\n",
       "    <tr>\n",
       "      <th>9</th>\n",
       "      <td>Dart</td>\n",
       "      <td>4</td>\n",
       "      <td>0.58</td>\n",
       "    </tr>\n",
       "    <tr>\n",
       "      <th>10</th>\n",
       "      <td>Go</td>\n",
       "      <td>4</td>\n",
       "      <td>0.58</td>\n",
       "    </tr>\n",
       "    <tr>\n",
       "      <th>11</th>\n",
       "      <td>Rust</td>\n",
       "      <td>3</td>\n",
       "      <td>0.44</td>\n",
       "    </tr>\n",
       "    <tr>\n",
       "      <th>12</th>\n",
       "      <td>Apache Groovy</td>\n",
       "      <td>2</td>\n",
       "      <td>0.29</td>\n",
       "    </tr>\n",
       "    <tr>\n",
       "      <th>13</th>\n",
       "      <td>PHP</td>\n",
       "      <td>2</td>\n",
       "      <td>0.29</td>\n",
       "    </tr>\n",
       "    <tr>\n",
       "      <th>14</th>\n",
       "      <td>Scala</td>\n",
       "      <td>2</td>\n",
       "      <td>0.29</td>\n",
       "    </tr>\n",
       "    <tr>\n",
       "      <th>15</th>\n",
       "      <td>Ruby</td>\n",
       "      <td>1</td>\n",
       "      <td>0.15</td>\n",
       "    </tr>\n",
       "  </tbody>\n",
       "</table>\n",
       "</div>"
      ],
      "text/plain": [
       "       Technology  count  percent\n",
       "0          Kotlin    600    87.21\n",
       "1            Java    368    53.49\n",
       "2             C++     79    11.48\n",
       "3               C     23     3.34\n",
       "4          Python     22     3.20\n",
       "5      JavaScript     15     2.18\n",
       "6              C#      8     1.16\n",
       "7             SQL      8     1.16\n",
       "8      TypeScript      6     0.87\n",
       "9            Dart      4     0.58\n",
       "10             Go      4     0.58\n",
       "11           Rust      3     0.44\n",
       "12  Apache Groovy      2     0.29\n",
       "13            PHP      2     0.29\n",
       "14          Scala      2     0.29\n",
       "15           Ruby      1     0.15"
      ]
     },
     "execution_count": 7,
     "metadata": {},
     "output_type": "execute_result"
    }
   ],
   "source": [
    "data_cleaning.make_table(df=eu_android, category='languages')"
   ]
  },
  {
   "cell_type": "code",
   "execution_count": 22,
   "id": "5f0c8f14",
   "metadata": {},
   "outputs": [
    {
     "data": {
      "application/vnd.microsoft.datawrangler.viewer.v0+json": {
       "columns": [
        {
         "name": "index",
         "rawType": "int64",
         "type": "integer"
        },
        {
         "name": "Technology",
         "rawType": "object",
         "type": "string"
        },
        {
         "name": "count",
         "rawType": "int64",
         "type": "integer"
        },
        {
         "name": "percent",
         "rawType": "float64",
         "type": "float"
        }
       ],
       "ref": "91dbf1a6-d6e8-465d-ad31-cf3b821c1780",
       "rows": [
        [
         "0",
         "Kotlin",
         "208",
         "71.97"
        ],
        [
         "1",
         "Java",
         "186",
         "64.36"
        ],
        [
         "2",
         "C++",
         "29",
         "10.03"
        ],
        [
         "3",
         "C",
         "23",
         "7.96"
        ],
        [
         "4",
         "JavaScript",
         "20",
         "6.92"
        ],
        [
         "5",
         "Python",
         "12",
         "4.15"
        ],
        [
         "6",
         "C#",
         "6",
         "2.08"
        ],
        [
         "7",
         "PHP",
         "3",
         "1.04"
        ],
        [
         "8",
         "SQL",
         "3",
         "1.04"
        ],
        [
         "9",
         "CSS",
         "1",
         "0.35"
        ],
        [
         "10",
         "Dart",
         "1",
         "0.35"
        ],
        [
         "11",
         "Go",
         "1",
         "0.35"
        ],
        [
         "12",
         "HTML",
         "1",
         "0.35"
        ],
        [
         "13",
         "Ruby",
         "1",
         "0.35"
        ],
        [
         "14",
         "TypeScript",
         "1",
         "0.35"
        ]
       ],
       "shape": {
        "columns": 3,
        "rows": 15
       }
      },
      "text/html": [
       "<div>\n",
       "<style scoped>\n",
       "    .dataframe tbody tr th:only-of-type {\n",
       "        vertical-align: middle;\n",
       "    }\n",
       "\n",
       "    .dataframe tbody tr th {\n",
       "        vertical-align: top;\n",
       "    }\n",
       "\n",
       "    .dataframe thead th {\n",
       "        text-align: right;\n",
       "    }\n",
       "</style>\n",
       "<table border=\"1\" class=\"dataframe\">\n",
       "  <thead>\n",
       "    <tr style=\"text-align: right;\">\n",
       "      <th></th>\n",
       "      <th>Technology</th>\n",
       "      <th>count</th>\n",
       "      <th>percent</th>\n",
       "    </tr>\n",
       "  </thead>\n",
       "  <tbody>\n",
       "    <tr>\n",
       "      <th>0</th>\n",
       "      <td>Kotlin</td>\n",
       "      <td>208</td>\n",
       "      <td>71.97</td>\n",
       "    </tr>\n",
       "    <tr>\n",
       "      <th>1</th>\n",
       "      <td>Java</td>\n",
       "      <td>186</td>\n",
       "      <td>64.36</td>\n",
       "    </tr>\n",
       "    <tr>\n",
       "      <th>2</th>\n",
       "      <td>C++</td>\n",
       "      <td>29</td>\n",
       "      <td>10.03</td>\n",
       "    </tr>\n",
       "    <tr>\n",
       "      <th>3</th>\n",
       "      <td>C</td>\n",
       "      <td>23</td>\n",
       "      <td>7.96</td>\n",
       "    </tr>\n",
       "    <tr>\n",
       "      <th>4</th>\n",
       "      <td>JavaScript</td>\n",
       "      <td>20</td>\n",
       "      <td>6.92</td>\n",
       "    </tr>\n",
       "    <tr>\n",
       "      <th>5</th>\n",
       "      <td>Python</td>\n",
       "      <td>12</td>\n",
       "      <td>4.15</td>\n",
       "    </tr>\n",
       "    <tr>\n",
       "      <th>6</th>\n",
       "      <td>C#</td>\n",
       "      <td>6</td>\n",
       "      <td>2.08</td>\n",
       "    </tr>\n",
       "    <tr>\n",
       "      <th>7</th>\n",
       "      <td>PHP</td>\n",
       "      <td>3</td>\n",
       "      <td>1.04</td>\n",
       "    </tr>\n",
       "    <tr>\n",
       "      <th>8</th>\n",
       "      <td>SQL</td>\n",
       "      <td>3</td>\n",
       "      <td>1.04</td>\n",
       "    </tr>\n",
       "    <tr>\n",
       "      <th>9</th>\n",
       "      <td>CSS</td>\n",
       "      <td>1</td>\n",
       "      <td>0.35</td>\n",
       "    </tr>\n",
       "    <tr>\n",
       "      <th>10</th>\n",
       "      <td>Dart</td>\n",
       "      <td>1</td>\n",
       "      <td>0.35</td>\n",
       "    </tr>\n",
       "    <tr>\n",
       "      <th>11</th>\n",
       "      <td>Go</td>\n",
       "      <td>1</td>\n",
       "      <td>0.35</td>\n",
       "    </tr>\n",
       "    <tr>\n",
       "      <th>12</th>\n",
       "      <td>HTML</td>\n",
       "      <td>1</td>\n",
       "      <td>0.35</td>\n",
       "    </tr>\n",
       "    <tr>\n",
       "      <th>13</th>\n",
       "      <td>Ruby</td>\n",
       "      <td>1</td>\n",
       "      <td>0.35</td>\n",
       "    </tr>\n",
       "    <tr>\n",
       "      <th>14</th>\n",
       "      <td>TypeScript</td>\n",
       "      <td>1</td>\n",
       "      <td>0.35</td>\n",
       "    </tr>\n",
       "  </tbody>\n",
       "</table>\n",
       "</div>"
      ],
      "text/plain": [
       "    Technology  count  percent\n",
       "0       Kotlin    208    71.97\n",
       "1         Java    186    64.36\n",
       "2          C++     29    10.03\n",
       "3            C     23     7.96\n",
       "4   JavaScript     20     6.92\n",
       "5       Python     12     4.15\n",
       "6           C#      6     2.08\n",
       "7          PHP      3     1.04\n",
       "8          SQL      3     1.04\n",
       "9          CSS      1     0.35\n",
       "10        Dart      1     0.35\n",
       "11          Go      1     0.35\n",
       "12        HTML      1     0.35\n",
       "13        Ruby      1     0.35\n",
       "14  TypeScript      1     0.35"
      ]
     },
     "execution_count": 22,
     "metadata": {},
     "output_type": "execute_result"
    }
   ],
   "source": [
    "data_cleaning.make_table(df=na_android, category='languages')"
   ]
  },
  {
   "cell_type": "markdown",
   "id": "e8d51245",
   "metadata": {},
   "source": [
    "#### iOS"
   ]
  },
  {
   "cell_type": "code",
   "execution_count": 23,
   "id": "4e418749",
   "metadata": {},
   "outputs": [
    {
     "data": {
      "application/vnd.microsoft.datawrangler.viewer.v0+json": {
       "columns": [
        {
         "name": "index",
         "rawType": "int64",
         "type": "integer"
        },
        {
         "name": "Technology",
         "rawType": "object",
         "type": "string"
        },
        {
         "name": "count",
         "rawType": "int64",
         "type": "integer"
        },
        {
         "name": "percent",
         "rawType": "float64",
         "type": "float"
        }
       ],
       "ref": "28f90636-f34d-476e-9081-4a45d20f8bdd",
       "rows": [
        [
         "0",
         "Swift",
         "664",
         "89.37"
        ],
        [
         "1",
         "Objective-C",
         "276",
         "37.15"
        ],
        [
         "2",
         "C++",
         "24",
         "3.23"
        ],
        [
         "3",
         "JavaScript",
         "18",
         "2.42"
        ],
        [
         "4",
         "Python",
         "13",
         "1.75"
        ],
        [
         "5",
         "TypeScript",
         "10",
         "1.35"
        ],
        [
         "6",
         "C",
         "7",
         "0.94"
        ],
        [
         "7",
         "C#",
         "6",
         "0.81"
        ],
        [
         "8",
         "PHP",
         "5",
         "0.67"
        ],
        [
         "9",
         "SQL",
         "5",
         "0.67"
        ],
        [
         "10",
         "Go",
         "4",
         "0.54"
        ],
        [
         "11",
         "Ruby",
         "3",
         "0.4"
        ],
        [
         "12",
         "Dart",
         "2",
         "0.27"
        ],
        [
         "13",
         "CSS",
         "1",
         "0.13"
        ],
        [
         "14",
         "HTML",
         "1",
         "0.13"
        ]
       ],
       "shape": {
        "columns": 3,
        "rows": 15
       }
      },
      "text/html": [
       "<div>\n",
       "<style scoped>\n",
       "    .dataframe tbody tr th:only-of-type {\n",
       "        vertical-align: middle;\n",
       "    }\n",
       "\n",
       "    .dataframe tbody tr th {\n",
       "        vertical-align: top;\n",
       "    }\n",
       "\n",
       "    .dataframe thead th {\n",
       "        text-align: right;\n",
       "    }\n",
       "</style>\n",
       "<table border=\"1\" class=\"dataframe\">\n",
       "  <thead>\n",
       "    <tr style=\"text-align: right;\">\n",
       "      <th></th>\n",
       "      <th>Technology</th>\n",
       "      <th>count</th>\n",
       "      <th>percent</th>\n",
       "    </tr>\n",
       "  </thead>\n",
       "  <tbody>\n",
       "    <tr>\n",
       "      <th>0</th>\n",
       "      <td>Swift</td>\n",
       "      <td>664</td>\n",
       "      <td>89.37</td>\n",
       "    </tr>\n",
       "    <tr>\n",
       "      <th>1</th>\n",
       "      <td>Objective-C</td>\n",
       "      <td>276</td>\n",
       "      <td>37.15</td>\n",
       "    </tr>\n",
       "    <tr>\n",
       "      <th>2</th>\n",
       "      <td>C++</td>\n",
       "      <td>24</td>\n",
       "      <td>3.23</td>\n",
       "    </tr>\n",
       "    <tr>\n",
       "      <th>3</th>\n",
       "      <td>JavaScript</td>\n",
       "      <td>18</td>\n",
       "      <td>2.42</td>\n",
       "    </tr>\n",
       "    <tr>\n",
       "      <th>4</th>\n",
       "      <td>Python</td>\n",
       "      <td>13</td>\n",
       "      <td>1.75</td>\n",
       "    </tr>\n",
       "    <tr>\n",
       "      <th>5</th>\n",
       "      <td>TypeScript</td>\n",
       "      <td>10</td>\n",
       "      <td>1.35</td>\n",
       "    </tr>\n",
       "    <tr>\n",
       "      <th>6</th>\n",
       "      <td>C</td>\n",
       "      <td>7</td>\n",
       "      <td>0.94</td>\n",
       "    </tr>\n",
       "    <tr>\n",
       "      <th>7</th>\n",
       "      <td>C#</td>\n",
       "      <td>6</td>\n",
       "      <td>0.81</td>\n",
       "    </tr>\n",
       "    <tr>\n",
       "      <th>8</th>\n",
       "      <td>PHP</td>\n",
       "      <td>5</td>\n",
       "      <td>0.67</td>\n",
       "    </tr>\n",
       "    <tr>\n",
       "      <th>9</th>\n",
       "      <td>SQL</td>\n",
       "      <td>5</td>\n",
       "      <td>0.67</td>\n",
       "    </tr>\n",
       "    <tr>\n",
       "      <th>10</th>\n",
       "      <td>Go</td>\n",
       "      <td>4</td>\n",
       "      <td>0.54</td>\n",
       "    </tr>\n",
       "    <tr>\n",
       "      <th>11</th>\n",
       "      <td>Ruby</td>\n",
       "      <td>3</td>\n",
       "      <td>0.40</td>\n",
       "    </tr>\n",
       "    <tr>\n",
       "      <th>12</th>\n",
       "      <td>Dart</td>\n",
       "      <td>2</td>\n",
       "      <td>0.27</td>\n",
       "    </tr>\n",
       "    <tr>\n",
       "      <th>13</th>\n",
       "      <td>CSS</td>\n",
       "      <td>1</td>\n",
       "      <td>0.13</td>\n",
       "    </tr>\n",
       "    <tr>\n",
       "      <th>14</th>\n",
       "      <td>HTML</td>\n",
       "      <td>1</td>\n",
       "      <td>0.13</td>\n",
       "    </tr>\n",
       "  </tbody>\n",
       "</table>\n",
       "</div>"
      ],
      "text/plain": [
       "     Technology  count  percent\n",
       "0         Swift    664    89.37\n",
       "1   Objective-C    276    37.15\n",
       "2           C++     24     3.23\n",
       "3    JavaScript     18     2.42\n",
       "4        Python     13     1.75\n",
       "5    TypeScript     10     1.35\n",
       "6             C      7     0.94\n",
       "7            C#      6     0.81\n",
       "8           PHP      5     0.67\n",
       "9           SQL      5     0.67\n",
       "10           Go      4     0.54\n",
       "11         Ruby      3     0.40\n",
       "12         Dart      2     0.27\n",
       "13          CSS      1     0.13\n",
       "14         HTML      1     0.13"
      ]
     },
     "execution_count": 23,
     "metadata": {},
     "output_type": "execute_result"
    }
   ],
   "source": [
    "data_cleaning.make_table(df=eu_ios, category='languages')"
   ]
  },
  {
   "cell_type": "code",
   "execution_count": 24,
   "id": "44a9fd67",
   "metadata": {},
   "outputs": [
    {
     "data": {
      "application/vnd.microsoft.datawrangler.viewer.v0+json": {
       "columns": [
        {
         "name": "index",
         "rawType": "int64",
         "type": "integer"
        },
        {
         "name": "Technology",
         "rawType": "object",
         "type": "string"
        },
        {
         "name": "count",
         "rawType": "int64",
         "type": "integer"
        },
        {
         "name": "percent",
         "rawType": "float64",
         "type": "float"
        }
       ],
       "ref": "3dd9d1b3-dc24-47a5-b3be-c0cdad2166c2",
       "rows": [
        [
         "0",
         "Swift",
         "230",
         "84.87"
        ],
        [
         "1",
         "Objective-C",
         "148",
         "54.61"
        ],
        [
         "2",
         "JavaScript",
         "26",
         "9.59"
        ],
        [
         "3",
         "C++",
         "13",
         "4.8"
        ],
        [
         "4",
         "Python",
         "9",
         "3.32"
        ],
        [
         "5",
         "SQL",
         "8",
         "2.95"
        ],
        [
         "6",
         "C",
         "8",
         "2.95"
        ],
        [
         "7",
         "C#",
         "5",
         "1.85"
        ],
        [
         "8",
         "Go",
         "4",
         "1.48"
        ],
        [
         "9",
         "PHP",
         "2",
         "0.74"
        ],
        [
         "10",
         "Dart",
         "2",
         "0.74"
        ],
        [
         "11",
         "TypeScript",
         "2",
         "0.74"
        ],
        [
         "12",
         "Visual Basic",
         "2",
         "0.74"
        ],
        [
         "13",
         "HTML",
         "1",
         "0.37"
        ],
        [
         "14",
         "Ruby",
         "1",
         "0.37"
        ],
        [
         "15",
         "Rust",
         "1",
         "0.37"
        ],
        [
         "16",
         "CSS",
         "1",
         "0.37"
        ]
       ],
       "shape": {
        "columns": 3,
        "rows": 17
       }
      },
      "text/html": [
       "<div>\n",
       "<style scoped>\n",
       "    .dataframe tbody tr th:only-of-type {\n",
       "        vertical-align: middle;\n",
       "    }\n",
       "\n",
       "    .dataframe tbody tr th {\n",
       "        vertical-align: top;\n",
       "    }\n",
       "\n",
       "    .dataframe thead th {\n",
       "        text-align: right;\n",
       "    }\n",
       "</style>\n",
       "<table border=\"1\" class=\"dataframe\">\n",
       "  <thead>\n",
       "    <tr style=\"text-align: right;\">\n",
       "      <th></th>\n",
       "      <th>Technology</th>\n",
       "      <th>count</th>\n",
       "      <th>percent</th>\n",
       "    </tr>\n",
       "  </thead>\n",
       "  <tbody>\n",
       "    <tr>\n",
       "      <th>0</th>\n",
       "      <td>Swift</td>\n",
       "      <td>230</td>\n",
       "      <td>84.87</td>\n",
       "    </tr>\n",
       "    <tr>\n",
       "      <th>1</th>\n",
       "      <td>Objective-C</td>\n",
       "      <td>148</td>\n",
       "      <td>54.61</td>\n",
       "    </tr>\n",
       "    <tr>\n",
       "      <th>2</th>\n",
       "      <td>JavaScript</td>\n",
       "      <td>26</td>\n",
       "      <td>9.59</td>\n",
       "    </tr>\n",
       "    <tr>\n",
       "      <th>3</th>\n",
       "      <td>C++</td>\n",
       "      <td>13</td>\n",
       "      <td>4.80</td>\n",
       "    </tr>\n",
       "    <tr>\n",
       "      <th>4</th>\n",
       "      <td>Python</td>\n",
       "      <td>9</td>\n",
       "      <td>3.32</td>\n",
       "    </tr>\n",
       "    <tr>\n",
       "      <th>5</th>\n",
       "      <td>SQL</td>\n",
       "      <td>8</td>\n",
       "      <td>2.95</td>\n",
       "    </tr>\n",
       "    <tr>\n",
       "      <th>6</th>\n",
       "      <td>C</td>\n",
       "      <td>8</td>\n",
       "      <td>2.95</td>\n",
       "    </tr>\n",
       "    <tr>\n",
       "      <th>7</th>\n",
       "      <td>C#</td>\n",
       "      <td>5</td>\n",
       "      <td>1.85</td>\n",
       "    </tr>\n",
       "    <tr>\n",
       "      <th>8</th>\n",
       "      <td>Go</td>\n",
       "      <td>4</td>\n",
       "      <td>1.48</td>\n",
       "    </tr>\n",
       "    <tr>\n",
       "      <th>9</th>\n",
       "      <td>PHP</td>\n",
       "      <td>2</td>\n",
       "      <td>0.74</td>\n",
       "    </tr>\n",
       "    <tr>\n",
       "      <th>10</th>\n",
       "      <td>Dart</td>\n",
       "      <td>2</td>\n",
       "      <td>0.74</td>\n",
       "    </tr>\n",
       "    <tr>\n",
       "      <th>11</th>\n",
       "      <td>TypeScript</td>\n",
       "      <td>2</td>\n",
       "      <td>0.74</td>\n",
       "    </tr>\n",
       "    <tr>\n",
       "      <th>12</th>\n",
       "      <td>Visual Basic</td>\n",
       "      <td>2</td>\n",
       "      <td>0.74</td>\n",
       "    </tr>\n",
       "    <tr>\n",
       "      <th>13</th>\n",
       "      <td>HTML</td>\n",
       "      <td>1</td>\n",
       "      <td>0.37</td>\n",
       "    </tr>\n",
       "    <tr>\n",
       "      <th>14</th>\n",
       "      <td>Ruby</td>\n",
       "      <td>1</td>\n",
       "      <td>0.37</td>\n",
       "    </tr>\n",
       "    <tr>\n",
       "      <th>15</th>\n",
       "      <td>Rust</td>\n",
       "      <td>1</td>\n",
       "      <td>0.37</td>\n",
       "    </tr>\n",
       "    <tr>\n",
       "      <th>16</th>\n",
       "      <td>CSS</td>\n",
       "      <td>1</td>\n",
       "      <td>0.37</td>\n",
       "    </tr>\n",
       "  </tbody>\n",
       "</table>\n",
       "</div>"
      ],
      "text/plain": [
       "      Technology  count  percent\n",
       "0          Swift    230    84.87\n",
       "1    Objective-C    148    54.61\n",
       "2     JavaScript     26     9.59\n",
       "3            C++     13     4.80\n",
       "4         Python      9     3.32\n",
       "5            SQL      8     2.95\n",
       "6              C      8     2.95\n",
       "7             C#      5     1.85\n",
       "8             Go      4     1.48\n",
       "9            PHP      2     0.74\n",
       "10          Dart      2     0.74\n",
       "11    TypeScript      2     0.74\n",
       "12  Visual Basic      2     0.74\n",
       "13          HTML      1     0.37\n",
       "14          Ruby      1     0.37\n",
       "15          Rust      1     0.37\n",
       "16           CSS      1     0.37"
      ]
     },
     "execution_count": 24,
     "metadata": {},
     "output_type": "execute_result"
    }
   ],
   "source": [
    "data_cleaning.make_table(df=na_ios, category='languages')"
   ]
  },
  {
   "cell_type": "markdown",
   "id": "97663594",
   "metadata": {},
   "source": [
    "#### Total"
   ]
  },
  {
   "cell_type": "code",
   "execution_count": 25,
   "id": "aa044060",
   "metadata": {},
   "outputs": [
    {
     "data": {
      "application/vnd.microsoft.datawrangler.viewer.v0+json": {
       "columns": [
        {
         "name": "index",
         "rawType": "int64",
         "type": "integer"
        },
        {
         "name": "Technology",
         "rawType": "object",
         "type": "string"
        },
        {
         "name": "count",
         "rawType": "int64",
         "type": "integer"
        },
        {
         "name": "percent",
         "rawType": "float64",
         "type": "float"
        }
       ],
       "ref": "7845d834-5f05-4aa1-b017-16ed01502ec7",
       "rows": [
        [
         "0",
         "Kotlin",
         "600",
         "87.21"
        ],
        [
         "1",
         "Java",
         "368",
         "53.49"
        ],
        [
         "2",
         "Git",
         "207",
         "30.09"
        ],
        [
         "3",
         "Jetpack Compose",
         "198",
         "28.78"
        ],
        [
         "4",
         "Android SDK",
         "181",
         "26.31"
        ],
        [
         "5",
         "REST API",
         "161",
         "23.4"
        ],
        [
         "6",
         "Agile",
         "158",
         "22.97"
        ],
        [
         "7",
         "Model-View-ViewModel (MVVM)",
         "157",
         "22.82"
        ],
        [
         "8",
         "Android Studio",
         "124",
         "18.02"
        ],
        [
         "9",
         "Kotlin Coroutines",
         "95",
         "13.81"
        ],
        [
         "10",
         "Scrum",
         "81",
         "11.77"
        ],
        [
         "11",
         "C++",
         "79",
         "11.48"
        ],
        [
         "12",
         "Model-View-Presenter (MVP)",
         "68",
         "9.88"
        ],
        [
         "13",
         "Google Play Store / Google Play Console",
         "66",
         "9.59"
        ],
        [
         "14",
         "Gradle",
         "65",
         "9.45"
        ],
        [
         "15",
         "RxJava",
         "60",
         "8.72"
        ],
        [
         "16",
         "Jira",
         "57",
         "8.28"
        ],
        [
         "17",
         "Room",
         "54",
         "7.85"
        ],
        [
         "18",
         "Clean Architecture",
         "53",
         "7.7"
        ],
        [
         "19",
         "Test-Driven Development (TDD)",
         "52",
         "7.56"
        ],
        [
         "20",
         "Retrofit",
         "49",
         "7.12"
        ],
        [
         "21",
         "Firebase",
         "45",
         "6.54"
        ],
        [
         "22",
         "Dagger",
         "44",
         "6.4"
        ],
        [
         "23",
         "Android NDK",
         "44",
         "6.4"
        ],
        [
         "24",
         "Espresso",
         "43",
         "6.25"
        ],
        [
         "25",
         "Kotlin Flow",
         "36",
         "5.23"
        ],
        [
         "26",
         "JUnit",
         "35",
         "5.09"
        ],
        [
         "27",
         "Hilt",
         "34",
         "4.94"
        ],
        [
         "28",
         "Jenkins",
         "32",
         "4.65"
        ],
        [
         "29",
         "Confluence",
         "32",
         "4.65"
        ],
        [
         "30",
         "SQLite",
         "31",
         "4.51"
        ],
        [
         "31",
         "Kotlin Multiplatform",
         "29",
         "4.22"
        ],
        [
         "32",
         "Model-View-Intent (MVI)",
         "26",
         "3.78"
        ],
        [
         "33",
         "Model-View-Controller (MVC)",
         "25",
         "3.63"
        ],
        [
         "34",
         "GitHub",
         "25",
         "3.63"
        ],
        [
         "35",
         "C",
         "23",
         "3.34"
        ],
        [
         "36",
         "Flutter",
         "22",
         "3.2"
        ],
        [
         "37",
         "Python",
         "22",
         "3.2"
        ],
        [
         "38",
         "Bitrise",
         "20",
         "2.91"
        ],
        [
         "39",
         "Docker",
         "18",
         "2.62"
        ],
        [
         "40",
         "Notifications",
         "18",
         "2.62"
        ],
        [
         "41",
         "Java Native Interface (JNI)",
         "18",
         "2.62"
        ],
        [
         "42",
         "Mockito",
         "18",
         "2.62"
        ],
        [
         "43",
         "GraphQL",
         "17",
         "2.47"
        ],
        [
         "44",
         "JavaScript",
         "15",
         "2.18"
        ],
        [
         "45",
         "GitLab",
         "15",
         "2.18"
        ],
        [
         "46",
         "GitHub Actions",
         "15",
         "2.18"
        ],
        [
         "47",
         "fastlane",
         "15",
         "2.18"
        ],
        [
         "48",
         "React Native",
         "15",
         "2.18"
        ],
        [
         "49",
         "Android Interface Definition Language (AIDL)",
         "13",
         "1.89"
        ]
       ],
       "shape": {
        "columns": 3,
        "rows": 135
       }
      },
      "text/html": [
       "<div>\n",
       "<style scoped>\n",
       "    .dataframe tbody tr th:only-of-type {\n",
       "        vertical-align: middle;\n",
       "    }\n",
       "\n",
       "    .dataframe tbody tr th {\n",
       "        vertical-align: top;\n",
       "    }\n",
       "\n",
       "    .dataframe thead th {\n",
       "        text-align: right;\n",
       "    }\n",
       "</style>\n",
       "<table border=\"1\" class=\"dataframe\">\n",
       "  <thead>\n",
       "    <tr style=\"text-align: right;\">\n",
       "      <th></th>\n",
       "      <th>Technology</th>\n",
       "      <th>count</th>\n",
       "      <th>percent</th>\n",
       "    </tr>\n",
       "  </thead>\n",
       "  <tbody>\n",
       "    <tr>\n",
       "      <th>0</th>\n",
       "      <td>Kotlin</td>\n",
       "      <td>600</td>\n",
       "      <td>87.21</td>\n",
       "    </tr>\n",
       "    <tr>\n",
       "      <th>1</th>\n",
       "      <td>Java</td>\n",
       "      <td>368</td>\n",
       "      <td>53.49</td>\n",
       "    </tr>\n",
       "    <tr>\n",
       "      <th>2</th>\n",
       "      <td>Git</td>\n",
       "      <td>207</td>\n",
       "      <td>30.09</td>\n",
       "    </tr>\n",
       "    <tr>\n",
       "      <th>3</th>\n",
       "      <td>Jetpack Compose</td>\n",
       "      <td>198</td>\n",
       "      <td>28.78</td>\n",
       "    </tr>\n",
       "    <tr>\n",
       "      <th>4</th>\n",
       "      <td>Android SDK</td>\n",
       "      <td>181</td>\n",
       "      <td>26.31</td>\n",
       "    </tr>\n",
       "    <tr>\n",
       "      <th>...</th>\n",
       "      <td>...</td>\n",
       "      <td>...</td>\n",
       "      <td>...</td>\n",
       "    </tr>\n",
       "    <tr>\n",
       "      <th>130</th>\n",
       "      <td>Google Cloud Messaging</td>\n",
       "      <td>1</td>\n",
       "      <td>0.15</td>\n",
       "    </tr>\n",
       "    <tr>\n",
       "      <th>131</th>\n",
       "      <td>MongoDB</td>\n",
       "      <td>1</td>\n",
       "      <td>0.15</td>\n",
       "    </tr>\n",
       "    <tr>\n",
       "      <th>132</th>\n",
       "      <td>NFC</td>\n",
       "      <td>1</td>\n",
       "      <td>0.15</td>\n",
       "    </tr>\n",
       "    <tr>\n",
       "      <th>133</th>\n",
       "      <td>Open Web Application Security Project (OWASP)</td>\n",
       "      <td>1</td>\n",
       "      <td>0.15</td>\n",
       "    </tr>\n",
       "    <tr>\n",
       "      <th>134</th>\n",
       "      <td>Facebook SDK</td>\n",
       "      <td>1</td>\n",
       "      <td>0.15</td>\n",
       "    </tr>\n",
       "  </tbody>\n",
       "</table>\n",
       "<p>135 rows × 3 columns</p>\n",
       "</div>"
      ],
      "text/plain": [
       "                                        Technology  count  percent\n",
       "0                                           Kotlin    600    87.21\n",
       "1                                             Java    368    53.49\n",
       "2                                              Git    207    30.09\n",
       "3                                  Jetpack Compose    198    28.78\n",
       "4                                      Android SDK    181    26.31\n",
       "..                                             ...    ...      ...\n",
       "130                         Google Cloud Messaging      1     0.15\n",
       "131                                        MongoDB      1     0.15\n",
       "132                                            NFC      1     0.15\n",
       "133  Open Web Application Security Project (OWASP)      1     0.15\n",
       "134                                   Facebook SDK      1     0.15\n",
       "\n",
       "[135 rows x 3 columns]"
      ]
     },
     "execution_count": 25,
     "metadata": {},
     "output_type": "execute_result"
    }
   ],
   "source": [
    "data_cleaning.make_table(df=eu_android, total=True)"
   ]
  },
  {
   "cell_type": "markdown",
   "id": "10a2dc78",
   "metadata": {},
   "source": [
    "### Data to Excel\n",
    "`to_excel` generates an Excel report that summarizes technologies by **category**, **platform**, and **region** so you can compare them at a glance. For each category, it builds four tables with `make_table` (Android: EU/NA, iOS: EU/NA), lays them side-by-side on one sheet with merged headers (“Android”, “iOS”), and uses columns `Technology | EU count | EU % | Technology | NA count | NA %`. Sheets are named after categories and sorted by count. A final **Total** sheet repeats the same layout with `total=True`. The file is saved as `all_tables.xlsx`."
   ]
  },
  {
   "cell_type": "code",
   "execution_count": 26,
   "id": "8b51237c",
   "metadata": {},
   "outputs": [],
   "source": [
    "output_file = data_cleaning.to_excel(\n",
    "    eu_android=eu_android,\n",
    "    na_android=na_android,\n",
    "    eu_ios=eu_ios,\n",
    "    na_ios=na_ios,\n",
    "    categories=categories,\n",
    "    output_path=\"../data/all_tables.xlsx\",\n",
    ")"
   ]
  },
  {
   "cell_type": "markdown",
   "id": "d77e3249",
   "metadata": {},
   "source": [
    "---"
   ]
  },
  {
   "cell_type": "markdown",
   "id": "f0a2f61c",
   "metadata": {},
   "source": [
    "## Domain Analysis"
   ]
  },
  {
   "cell_type": "code",
   "execution_count": 3,
   "id": "155c2c3a",
   "metadata": {},
   "outputs": [
    {
     "name": "stdout",
     "output_type": "stream",
     "text": [
      "Domain effectiveness analysis:\n",
      "Google Domain Type  Google.com Jobs  Local Domain Jobs  Total Jobs  \\\n",
      "Location                                                             \n",
      "Austria                          63                  0          63   \n",
      "Hungary                          33                  0          33   \n",
      "Slovenia                          7                  0           7   \n",
      "Slovakia                         10                  0          10   \n",
      "Norway                           12                  0          12   \n",
      "Netherlands                      81                  0          81   \n",
      "Malta                             4                  0           4   \n",
      "Luxembourg                        8                  0           8   \n",
      "Lithuania                        23                  0          23   \n",
      "Liechtenstein                     1                  0           1   \n",
      "\n",
      "Google Domain Type  Google.com Share  Local Domain Share  \\\n",
      "Location                                                   \n",
      "Austria                          1.0                 0.0   \n",
      "Hungary                          1.0                 0.0   \n",
      "Slovenia                         1.0                 0.0   \n",
      "Slovakia                         1.0                 0.0   \n",
      "Norway                           1.0                 0.0   \n",
      "Netherlands                      1.0                 0.0   \n",
      "Malta                            1.0                 0.0   \n",
      "Luxembourg                       1.0                 0.0   \n",
      "Lithuania                        1.0                 0.0   \n",
      "Liechtenstein                    1.0                 0.0   \n",
      "\n",
      "Google Domain Type  Google vs Local Diff  Unique Google.com Jobs  \\\n",
      "Location                                                           \n",
      "Austria                              1.0                      63   \n",
      "Hungary                              1.0                      33   \n",
      "Slovenia                             1.0                       7   \n",
      "Slovakia                             1.0                      10   \n",
      "Norway                               1.0                      12   \n",
      "Netherlands                          1.0                      81   \n",
      "Malta                                1.0                       4   \n",
      "Luxembourg                           1.0                       8   \n",
      "Lithuania                            1.0                      23   \n",
      "Liechtenstein                        1.0                       1   \n",
      "\n",
      "Google Domain Type  Unique Local Domain Jobs  \n",
      "Location                                      \n",
      "Austria                                    0  \n",
      "Hungary                                    0  \n",
      "Slovenia                                   0  \n",
      "Slovakia                                   0  \n",
      "Norway                                     0  \n",
      "Netherlands                                0  \n",
      "Malta                                      0  \n",
      "Luxembourg                                 0  \n",
      "Lithuania                                  0  \n",
      "Liechtenstein                              0  \n"
     ]
    },
    {
     "data": {
      "application/vnd.microsoft.datawrangler.viewer.v0+json": {
       "columns": [
        {
         "name": "Location",
         "rawType": "object",
         "type": "string"
        },
        {
         "name": "Google.com Jobs",
         "rawType": "int64",
         "type": "integer"
        },
        {
         "name": "Local Domain Jobs",
         "rawType": "int64",
         "type": "integer"
        },
        {
         "name": "Total Jobs",
         "rawType": "int64",
         "type": "integer"
        },
        {
         "name": "Google.com Share",
         "rawType": "float64",
         "type": "float"
        },
        {
         "name": "Local Domain Share",
         "rawType": "float64",
         "type": "float"
        },
        {
         "name": "Google vs Local Diff",
         "rawType": "float64",
         "type": "float"
        },
        {
         "name": "Unique Google.com Jobs",
         "rawType": "int64",
         "type": "integer"
        },
        {
         "name": "Unique Local Domain Jobs",
         "rawType": "int64",
         "type": "integer"
        }
       ],
       "ref": "1a485a6e-f4d2-4740-acc2-41fa320a7384",
       "rows": [
        [
         "Austria",
         "63",
         "0",
         "63",
         "1.0",
         "0.0",
         "1.0",
         "63",
         "0"
        ],
        [
         "Belgium",
         "30",
         "0",
         "30",
         "1.0",
         "0.0",
         "1.0",
         "30",
         "0"
        ],
        [
         "Bulgaria",
         "26",
         "1",
         "27",
         "0.9629629629629629",
         "0.037037037037037035",
         "0.9259259259259258",
         "26",
         "1"
        ],
        [
         "Canada",
         "176",
         "13",
         "189",
         "0.9312169312169312",
         "0.06878306878306878",
         "0.8624338624338623",
         "176",
         "13"
        ],
        [
         "Croatia",
         "16",
         "0",
         "16",
         "1.0",
         "0.0",
         "1.0",
         "16",
         "0"
        ]
       ],
       "shape": {
        "columns": 8,
        "rows": 5
       }
      },
      "text/html": [
       "<div>\n",
       "<style scoped>\n",
       "    .dataframe tbody tr th:only-of-type {\n",
       "        vertical-align: middle;\n",
       "    }\n",
       "\n",
       "    .dataframe tbody tr th {\n",
       "        vertical-align: top;\n",
       "    }\n",
       "\n",
       "    .dataframe thead th {\n",
       "        text-align: right;\n",
       "    }\n",
       "</style>\n",
       "<table border=\"1\" class=\"dataframe\">\n",
       "  <thead>\n",
       "    <tr style=\"text-align: right;\">\n",
       "      <th>Google Domain Type</th>\n",
       "      <th>Google.com Jobs</th>\n",
       "      <th>Local Domain Jobs</th>\n",
       "      <th>Total Jobs</th>\n",
       "      <th>Google.com Share</th>\n",
       "      <th>Local Domain Share</th>\n",
       "      <th>Google vs Local Diff</th>\n",
       "      <th>Unique Google.com Jobs</th>\n",
       "      <th>Unique Local Domain Jobs</th>\n",
       "    </tr>\n",
       "    <tr>\n",
       "      <th>Location</th>\n",
       "      <th></th>\n",
       "      <th></th>\n",
       "      <th></th>\n",
       "      <th></th>\n",
       "      <th></th>\n",
       "      <th></th>\n",
       "      <th></th>\n",
       "      <th></th>\n",
       "    </tr>\n",
       "  </thead>\n",
       "  <tbody>\n",
       "    <tr>\n",
       "      <th>Austria</th>\n",
       "      <td>63</td>\n",
       "      <td>0</td>\n",
       "      <td>63</td>\n",
       "      <td>1.000000</td>\n",
       "      <td>0.000000</td>\n",
       "      <td>1.000000</td>\n",
       "      <td>63</td>\n",
       "      <td>0</td>\n",
       "    </tr>\n",
       "    <tr>\n",
       "      <th>Belgium</th>\n",
       "      <td>30</td>\n",
       "      <td>0</td>\n",
       "      <td>30</td>\n",
       "      <td>1.000000</td>\n",
       "      <td>0.000000</td>\n",
       "      <td>1.000000</td>\n",
       "      <td>30</td>\n",
       "      <td>0</td>\n",
       "    </tr>\n",
       "    <tr>\n",
       "      <th>Bulgaria</th>\n",
       "      <td>26</td>\n",
       "      <td>1</td>\n",
       "      <td>27</td>\n",
       "      <td>0.962963</td>\n",
       "      <td>0.037037</td>\n",
       "      <td>0.925926</td>\n",
       "      <td>26</td>\n",
       "      <td>1</td>\n",
       "    </tr>\n",
       "    <tr>\n",
       "      <th>Canada</th>\n",
       "      <td>176</td>\n",
       "      <td>13</td>\n",
       "      <td>189</td>\n",
       "      <td>0.931217</td>\n",
       "      <td>0.068783</td>\n",
       "      <td>0.862434</td>\n",
       "      <td>176</td>\n",
       "      <td>13</td>\n",
       "    </tr>\n",
       "    <tr>\n",
       "      <th>Croatia</th>\n",
       "      <td>16</td>\n",
       "      <td>0</td>\n",
       "      <td>16</td>\n",
       "      <td>1.000000</td>\n",
       "      <td>0.000000</td>\n",
       "      <td>1.000000</td>\n",
       "      <td>16</td>\n",
       "      <td>0</td>\n",
       "    </tr>\n",
       "  </tbody>\n",
       "</table>\n",
       "</div>"
      ],
      "text/plain": [
       "Google Domain Type  Google.com Jobs  Local Domain Jobs  Total Jobs  \\\n",
       "Location                                                             \n",
       "Austria                          63                  0          63   \n",
       "Belgium                          30                  0          30   \n",
       "Bulgaria                         26                  1          27   \n",
       "Canada                          176                 13         189   \n",
       "Croatia                          16                  0          16   \n",
       "\n",
       "Google Domain Type  Google.com Share  Local Domain Share  \\\n",
       "Location                                                   \n",
       "Austria                     1.000000            0.000000   \n",
       "Belgium                     1.000000            0.000000   \n",
       "Bulgaria                    0.962963            0.037037   \n",
       "Canada                      0.931217            0.068783   \n",
       "Croatia                     1.000000            0.000000   \n",
       "\n",
       "Google Domain Type  Google vs Local Diff  Unique Google.com Jobs  \\\n",
       "Location                                                           \n",
       "Austria                         1.000000                      63   \n",
       "Belgium                         1.000000                      30   \n",
       "Bulgaria                        0.925926                      26   \n",
       "Canada                          0.862434                     176   \n",
       "Croatia                         1.000000                      16   \n",
       "\n",
       "Google Domain Type  Unique Local Domain Jobs  \n",
       "Location                                      \n",
       "Austria                                    0  \n",
       "Belgium                                    0  \n",
       "Bulgaria                                   1  \n",
       "Canada                                    13  \n",
       "Croatia                                    0  "
      ]
     },
     "execution_count": 3,
     "metadata": {},
     "output_type": "execute_result"
    }
   ],
   "source": [
    "def analyze_domain_effectiveness(df):\n",
    "    \"\"\"Analyzes the effectiveness of google.com vs. local domains for each country.\"\"\"\n",
    "    domain_counts = df.groupby([\"Location\", \"Google Domain Type\"]).size().unstack(fill_value=0)\n",
    "    \n",
    "    # Rename columns\n",
    "    domain_counts = domain_counts.rename(columns={\"default\": \"Google.com Jobs\", \"local\": \"Local Domain Jobs\"})\n",
    "    \n",
    "    # Add metrics\n",
    "    domain_counts[\"Total Jobs\"] = domain_counts.sum(axis=1)\n",
    "    domain_counts[\"Google.com Share\"] = domain_counts[\"Google.com Jobs\"] / domain_counts[\"Total Jobs\"]\n",
    "    domain_counts[\"Local Domain Share\"] = domain_counts[\"Local Domain Jobs\"] / domain_counts[\"Total Jobs\"]\n",
    "    domain_counts[\"Google vs Local Diff\"] = domain_counts[\"Google.com Share\"] - domain_counts[\"Local Domain Share\"]\n",
    "    \n",
    "    # Count unique job postings for each domain\n",
    "    unique_jobs = df.groupby(\"Job ID\")[\"Google Domain Type\"].nunique().reset_index()\n",
    "    unique_jobs = unique_jobs[unique_jobs[\"Google Domain Type\"] == 1]\n",
    "    unique_counts = df[df[\"Job ID\"].isin(unique_jobs[\"Job ID\"])].groupby([\"Location\", \"Google Domain Type\"]).size().unstack(fill_value=0)\n",
    "    unique_counts = unique_counts.rename(columns={\"default\": \"Unique Google.com Jobs\", \"local\": \"Unique Local Domain Jobs\"})\n",
    "    \n",
    "    # Merge with the main table\n",
    "    domain_counts = domain_counts.join(unique_counts, how=\"left\").fillna(0)\n",
    "    \n",
    "    print(\"Domain effectiveness analysis:\")\n",
    "    print(domain_counts.sort_values(by=\"Google.com Share\", ascending=False).head(10))\n",
    "    \n",
    "    return domain_counts\n",
    "\n",
    "domain_table = analyze_domain_effectiveness(df)\n",
    "domain_table.head()\n"
   ]
  }
 ],
 "metadata": {
  "kernelspec": {
   "display_name": "base",
   "language": "python",
   "name": "python3"
  },
  "language_info": {
   "codemirror_mode": {
    "name": "ipython",
    "version": 3
   },
   "file_extension": ".py",
   "mimetype": "text/x-python",
   "name": "python",
   "nbconvert_exporter": "python",
   "pygments_lexer": "ipython3",
   "version": "3.12.4"
  }
 },
 "nbformat": 4,
 "nbformat_minor": 5
}
