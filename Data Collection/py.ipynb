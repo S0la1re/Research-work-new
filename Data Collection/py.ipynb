{
 "cells": [
  {
   "cell_type": "markdown",
   "metadata": {},
   "source": [
    "## First Round Сountry Сheck"
   ]
  },
  {
   "cell_type": "markdown",
   "metadata": {},
   "source": [
    "[] - iOS, [] - Android\n",
    "-----------------------\n",
    "- [-],[-] Austria\n",
    "- [-],[-] Belgium\n",
    "- [-],[+] Croatia\n",
    "- [+],[-] Czechia (Czech Republic)\n",
    "- [+],[+] Denmark\n",
    "- [+],[+] Estonia\n",
    "- [+],[-] Finland\n",
    "- [-],[-] France\n",
    "- [-],[-] Germany\n",
    "- [-],[+] Greece\n",
    "- [+],[-] Hungary\n",
    "- [-],[-] Italy\n",
    "- [+],[-] Latvia\n",
    "- [-],[+] Lithuania\n",
    "- [-],[-] Luxembourg\n",
    "- [+],[-] Malta\n",
    "- [+],[+] Netherlands\n",
    "- [-],[+] Poland\n",
    "- [+],[-] Portugal\n",
    "- [-],[-] Slovakia\n",
    "- [+],[+] Slovenia\n",
    "- [-],[+] Spain\n",
    "- [-],[-] Sweden\n",
    "- [-],[+] Bulgaria (from March 2024)\n",
    "- [+],[-] Romania (from March 2024)\n",
    "\n",
    "Non-EU Member States:\n",
    "---\n",
    "- [-],[-] Iceland\n",
    "- [+],[-] Liechtenstein\n",
    "- [-],[-] Norway\n",
    "- [-],[+] Switzerland\n",
    "\n",
    "Outside Schengen but with special status:\n",
    "---\n",
    "- [+],[+] Ireland \n",
    "- [+],[+] United Kingdom\n",
    "- [-],[-] Cyprus \n",
    "\n",
    "\n",
    "North American countries:\n",
    "- [+],[+] Canada\n",
    "- [+],[+] United States\n",
    "- [-],[+] Mexico"
   ]
  },
  {
   "cell_type": "code",
   "execution_count": 18,
   "metadata": {},
   "outputs": [],
   "source": [
    "from serpapi import GoogleSearch\n",
    "from dotenv import load_dotenv\n",
    "import json\n",
    "import os\n",
    "\n",
    "load_dotenv()\n",
    "api_key = os.getenv(\"API_KEY\")"
   ]
  },
  {
   "cell_type": "code",
   "execution_count": 90,
   "metadata": {},
   "outputs": [],
   "source": [
    "search = GoogleSearch({\n",
    "    \"engine\": \"google_jobs\",\n",
    "    \"q\": \"Android developer\", \n",
    "    \"location\": \"Mexico\",\n",
    "    \"api_key\": api_key\n",
    "  })\n",
    "result = search.get_dict()\n",
    "\n",
    "file_path = r\"Test\\Mexico1.json\"  \n",
    "\n",
    "# Saving JSON to a file\n",
    "with open(file_path, \"w\", encoding=\"utf-8\") as file:\n",
    "    json.dump(result, file, ensure_ascii=False, indent=4)"
   ]
  },
  {
   "cell_type": "markdown",
   "metadata": {},
   "source": [
    "Version 1:\n",
    "search = GoogleSearch({\n",
    "    \"engine\": \"google_jobs\",\n",
    "    \"q\": \"Job title\", \n",
    "    \"location\": \"Country\",\n",
    "    \"api_key\": api_key\n",
    "  })"
   ]
  },
  {
   "cell_type": "code",
   "execution_count": 91,
   "metadata": {},
   "outputs": [
    {
     "name": "stdout",
     "output_type": "stream",
     "text": [
      "Файлы успешно перемещены по папкам!\n"
     ]
    }
   ],
   "source": [
    "import shutil\n",
    "\n",
    "# Путь к папке \"Data Collection/google_domain_dot_com\"\n",
    "base_dir = os.path.join(os.getcwd(), \"google_domain_dot_com\")\n",
    "android_dir = os.path.join(base_dir, \"Android\")\n",
    "ios_dir = os.path.join(base_dir, \"iOS\")\n",
    "\n",
    "# Убедимся, что папки Android и iOS существуют\n",
    "os.makedirs(android_dir, exist_ok=True)\n",
    "os.makedirs(ios_dir, exist_ok=True)\n",
    "\n",
    "# Перебираем файлы в папке google_domain_dot_com\n",
    "for file_name in os.listdir(base_dir):\n",
    "    # Полный путь к файлу\n",
    "    file_path = os.path.join(base_dir, file_name)\n",
    "\n",
    "    # Проверяем, является ли это файлом (а не папкой)\n",
    "    if os.path.isfile(file_path):\n",
    "        # Если файл соответствует шаблону для iOS\n",
    "        if file_name.endswith(\".json\") and not file_name[:-5].endswith(\"1\"):\n",
    "            shutil.move(file_path, os.path.join(ios_dir, file_name))\n",
    "        # Если файл соответствует шаблону для Android\n",
    "        elif file_name.endswith(\".json\") and file_name[:-5].endswith(\"1\"):\n",
    "            shutil.move(file_path, os.path.join(android_dir, file_name))\n",
    "\n",
    "print(\"Файлы успешно перемещены по папкам!\")\n"
   ]
  }
 ],
 "metadata": {
  "kernelspec": {
   "display_name": "base",
   "language": "python",
   "name": "python3"
  },
  "language_info": {
   "codemirror_mode": {
    "name": "ipython",
    "version": 3
   },
   "file_extension": ".py",
   "mimetype": "text/x-python",
   "name": "python",
   "nbconvert_exporter": "python",
   "pygments_lexer": "ipython3",
   "version": "3.12.4"
  }
 },
 "nbformat": 4,
 "nbformat_minor": 2
}
