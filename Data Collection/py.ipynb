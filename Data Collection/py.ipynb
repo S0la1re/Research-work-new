{
 "cells": [
  {
   "cell_type": "markdown",
   "metadata": {},
   "source": [
    "## First Round Сountry Сheck"
   ]
  },
  {
   "cell_type": "markdown",
   "metadata": {},
   "source": [
    "used \"google_domain\": \"google.com\"\n",
    "\n",
    "[] - iOS, [] - Android\n",
    "-----------------------\n",
    "- [-],[-] Austria\n",
    "- [-],[-] Belgium\n",
    "- [-],[+] Croatia\n",
    "- [+],[-] Czechia (Czech Republic)\n",
    "- [+],[+] Denmark\n",
    "- [+],[+] Estonia\n",
    "- [+],[-] Finland\n",
    "- [-],[-] France\n",
    "- [-],[-] Germany\n",
    "- [-],[+] Greece\n",
    "- [+],[-] Hungary\n",
    "- [-],[-] Italy\n",
    "- [+],[-] Latvia\n",
    "- [-],[+] Lithuania\n",
    "- [-],[-] Luxembourg\n",
    "- [+],[-] Malta\n",
    "- [+],[+] Netherlands\n",
    "- [-],[+] Poland\n",
    "- [+],[-] Portugal\n",
    "- [-],[-] Slovakia\n",
    "- [+],[+] Slovenia\n",
    "- [-],[+] Spain\n",
    "- [-],[-] Sweden\n",
    "- [-],[+] Bulgaria (from March 2024)\n",
    "- [+],[-] Romania (from March 2024)\n",
    "\n",
    "Non-EU Member States:\n",
    "---\n",
    "- [-],[-] Iceland\n",
    "- [+],[-] Liechtenstein\n",
    "- [-],[-] Norway\n",
    "- [-],[+] Switzerland\n",
    "\n",
    "Outside Schengen but with special status:\n",
    "---\n",
    "- [+],[+] Ireland \n",
    "- [+],[+] United Kingdom\n",
    "- [-],[-] Cyprus \n",
    "\n",
    "North American countries:\n",
    "---\n",
    "- [+],[+] Canada\n",
    "- [+],[+] United States\n",
    "- [-],[+] Mexico"
   ]
  },
  {
   "cell_type": "code",
   "execution_count": 6,
   "metadata": {},
   "outputs": [],
   "source": [
    "from serpapi import GoogleSearch\n",
    "from dotenv import load_dotenv\n",
    "import pandas as pd\n",
    "import time\n",
    "import json\n",
    "import os\n",
    "\n",
    "load_dotenv()\n",
    "api_key = os.getenv(\"API_KEY\")"
   ]
  },
  {
   "cell_type": "code",
   "execution_count": 7,
   "metadata": {},
   "outputs": [
    {
     "data": {
      "text/html": [
       "<div>\n",
       "<style scoped>\n",
       "    .dataframe tbody tr th:only-of-type {\n",
       "        vertical-align: middle;\n",
       "    }\n",
       "\n",
       "    .dataframe tbody tr th {\n",
       "        vertical-align: top;\n",
       "    }\n",
       "\n",
       "    .dataframe thead th {\n",
       "        text-align: right;\n",
       "    }\n",
       "</style>\n",
       "<table border=\"1\" class=\"dataframe\">\n",
       "  <thead>\n",
       "    <tr style=\"text-align: right;\">\n",
       "      <th></th>\n",
       "      <th>location</th>\n",
       "      <th>google_domain</th>\n",
       "      <th>gl(not needed)</th>\n",
       "      <th>Region</th>\n",
       "      <th>EU member</th>\n",
       "      <th>Schengen Agreement</th>\n",
       "    </tr>\n",
       "  </thead>\n",
       "  <tbody>\n",
       "    <tr>\n",
       "      <th>0</th>\n",
       "      <td>Austria</td>\n",
       "      <td>google.at</td>\n",
       "      <td>at</td>\n",
       "      <td>Europe</td>\n",
       "      <td>True</td>\n",
       "      <td>True</td>\n",
       "    </tr>\n",
       "    <tr>\n",
       "      <th>1</th>\n",
       "      <td>Belgium</td>\n",
       "      <td>google.be</td>\n",
       "      <td>be</td>\n",
       "      <td>Europe</td>\n",
       "      <td>True</td>\n",
       "      <td>True</td>\n",
       "    </tr>\n",
       "    <tr>\n",
       "      <th>2</th>\n",
       "      <td>Bulgaria</td>\n",
       "      <td>google.bg</td>\n",
       "      <td>bg</td>\n",
       "      <td>Europe</td>\n",
       "      <td>True</td>\n",
       "      <td>True</td>\n",
       "    </tr>\n",
       "    <tr>\n",
       "      <th>3</th>\n",
       "      <td>Canada</td>\n",
       "      <td>google.ca</td>\n",
       "      <td>ca</td>\n",
       "      <td>Northern America</td>\n",
       "      <td>False</td>\n",
       "      <td>False</td>\n",
       "    </tr>\n",
       "    <tr>\n",
       "      <th>4</th>\n",
       "      <td>Croatia</td>\n",
       "      <td>google.hr</td>\n",
       "      <td>hr</td>\n",
       "      <td>Europe</td>\n",
       "      <td>True</td>\n",
       "      <td>True</td>\n",
       "    </tr>\n",
       "  </tbody>\n",
       "</table>\n",
       "</div>"
      ],
      "text/plain": [
       "   location google_domain gl(not needed)            Region  EU member  \\\n",
       "0   Austria     google.at             at            Europe       True   \n",
       "1   Belgium     google.be             be            Europe       True   \n",
       "2  Bulgaria     google.bg             bg            Europe       True   \n",
       "3    Canada     google.ca             ca  Northern America      False   \n",
       "4   Croatia     google.hr             hr            Europe       True   \n",
       "\n",
       "   Schengen Agreement  \n",
       "0                True  \n",
       "1                True  \n",
       "2                True  \n",
       "3               False  \n",
       "4                True  "
      ]
     },
     "execution_count": 7,
     "metadata": {},
     "output_type": "execute_result"
    }
   ],
   "source": [
    "path = 'location_domain_table.csv'\n",
    "df = pd.read_csv(path)\n",
    "df.head()"
   ]
  },
  {
   "cell_type": "code",
   "execution_count": 90,
   "metadata": {},
   "outputs": [],
   "source": [
    "search = GoogleSearch({\n",
    "    \"engine\": \"google_jobs\",\n",
    "    \"q\": \"Android developer\", \n",
    "    \"location\": \"Mexico\",\n",
    "    \"api_key\": api_key\n",
    "  })\n",
    "result = search.get_dict()\n",
    "\n",
    "file_path = r\"Test\\Mexico1.json\"  \n",
    "\n",
    "# Saving JSON to a file\n",
    "with open(file_path, \"w\", encoding=\"utf-8\") as file:\n",
    "    json.dump(result, file, ensure_ascii=False, indent=4)"
   ]
  },
  {
   "cell_type": "markdown",
   "metadata": {},
   "source": [
    "Version 1:\n",
    "search = GoogleSearch({\n",
    "    \"engine\": \"google_jobs\",\n",
    "    \"q\": \"Job title\", \n",
    "    \"location\": \"Country\",\n",
    "    \"api_key\": api_key\n",
    "  })"
   ]
  },
  {
   "cell_type": "markdown",
   "metadata": {},
   "source": [
    "## New version"
   ]
  },
  {
   "cell_type": "code",
   "execution_count": null,
   "metadata": {},
   "outputs": [],
   "source": []
  },
  {
   "cell_type": "markdown",
   "metadata": {},
   "source": [
    "## Move files to their folders"
   ]
  },
  {
   "cell_type": "code",
   "execution_count": 91,
   "metadata": {},
   "outputs": [
    {
     "name": "stdout",
     "output_type": "stream",
     "text": [
      "Файлы успешно перемещены по папкам!\n"
     ]
    }
   ],
   "source": [
    "import shutil\n",
    "\n",
    "# Путь к папке \"Data Collection/google_domain_dot_com\"\n",
    "base_dir = os.path.join(os.getcwd(), \"google_domain_dot_com\")\n",
    "android_dir = os.path.join(base_dir, \"Android\")\n",
    "ios_dir = os.path.join(base_dir, \"iOS\")\n",
    "\n",
    "# Убедимся, что папки Android и iOS существуют\n",
    "os.makedirs(android_dir, exist_ok=True)\n",
    "os.makedirs(ios_dir, exist_ok=True)\n",
    "\n",
    "# Перебираем файлы в папке google_domain_dot_com\n",
    "for file_name in os.listdir(base_dir):\n",
    "    # Полный путь к файлу\n",
    "    file_path = os.path.join(base_dir, file_name)\n",
    "\n",
    "    # Проверяем, является ли это файлом (а не папкой)\n",
    "    if os.path.isfile(file_path):\n",
    "        # Если файл соответствует шаблону для iOS\n",
    "        if file_name.endswith(\".json\") and not file_name[:-5].endswith(\"1\"):\n",
    "            shutil.move(file_path, os.path.join(ios_dir, file_name))\n",
    "        # Если файл соответствует шаблону для Android\n",
    "        elif file_name.endswith(\".json\") and file_name[:-5].endswith(\"1\"):\n",
    "            shutil.move(file_path, os.path.join(android_dir, file_name))\n",
    "\n",
    "print(\"Файлы успешно перемещены по папкам!\")\n"
   ]
  },
  {
   "cell_type": "markdown",
   "metadata": {},
   "source": [
    "## Make markdown file with the results"
   ]
  },
  {
   "cell_type": "code",
   "execution_count": 92,
   "metadata": {},
   "outputs": [
    {
     "name": "stdout",
     "output_type": "stream",
     "text": [
      "Markdown файл создан: google_domain_dot_com\\results.md\n"
     ]
    }
   ],
   "source": [
    "import os\n",
    "import json\n",
    "\n",
    "# Путь к основной папке\n",
    "base_path = \"google_domain_dot_com\"\n",
    "android_path = os.path.join(base_path, \"Android\")\n",
    "ios_path = os.path.join(base_path, \"iOS\")\n",
    "markdown_path = os.path.join(base_path, \"results.md\")\n",
    "\n",
    "# Проверка файла на \"удачный\" или \"пустой\"\n",
    "def is_valid_file(file_path):\n",
    "    try:\n",
    "        with open(file_path, \"r\", encoding=\"utf-8\") as file:\n",
    "            data = json.load(file)\n",
    "            if data.get(\"search_information\", {}).get(\"jobs_results_state\") == \"Fully empty\" and \\\n",
    "               data.get(\"error\") == \"Google hasn't returned any results for this query.\":\n",
    "                return False\n",
    "            return True\n",
    "    except Exception as e:\n",
    "        print(f\"Ошибка при обработке {file_path}: {e}\")\n",
    "        return False\n",
    "\n",
    "# Сканирование папок и сбор данных\n",
    "results = {}\n",
    "\n",
    "for folder, platform in [(ios_path, \"iOS\"), (android_path, \"Android\")]:\n",
    "    for file_name in os.listdir(folder):\n",
    "        if file_name.endswith(\".json\"):\n",
    "            file_path = os.path.join(folder, file_name)\n",
    "            country = file_name.replace(\".json\", \"\").replace(\"1\", \"\").strip()\n",
    "            is_android = \"1\" in file_name\n",
    "            platform_key = \"Android\" if is_android else \"iOS\"\n",
    "            is_valid = is_valid_file(file_path)\n",
    "            \n",
    "            if country not in results:\n",
    "                results[country] = {\"iOS\": \"-\", \"Android\": \"-\"}\n",
    "            \n",
    "            results[country][platform_key] = \"+\" if is_valid else \"-\"\n",
    "\n",
    "# Создание Markdown-файла\n",
    "with open(markdown_path, \"w\", encoding=\"utf-8\") as md_file:\n",
    "    md_file.write(\"[] - iOS, [] - Android\\n\")\n",
    "    md_file.write(\"-----------------------\\n\")\n",
    "    for country, platforms in sorted(results.items()):\n",
    "        ios_status = platforms[\"iOS\"]\n",
    "        android_status = platforms[\"Android\"]\n",
    "        md_file.write(f\"- [{ios_status}],[{android_status}] {country}\\n\")\n",
    "\n",
    "print(f\"Markdown файл создан: {markdown_path}\")\n"
   ]
  }
 ],
 "metadata": {
  "kernelspec": {
   "display_name": "base",
   "language": "python",
   "name": "python3"
  },
  "language_info": {
   "codemirror_mode": {
    "name": "ipython",
    "version": 3
   },
   "file_extension": ".py",
   "mimetype": "text/x-python",
   "name": "python",
   "nbconvert_exporter": "python",
   "pygments_lexer": "ipython3",
   "version": "3.12.4"
  }
 },
 "nbformat": 4,
 "nbformat_minor": 2
}
