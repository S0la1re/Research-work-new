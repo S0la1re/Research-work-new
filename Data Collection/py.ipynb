{
 "cells": [
  {
   "cell_type": "markdown",
   "metadata": {},
   "source": [
    "## Сountry Сheck"
   ]
  },
  {
   "cell_type": "markdown",
   "metadata": {},
   "source": [
    "[] - iOS, [] - Android\n",
    "-----------------------------\n",
    "- [-] Austria\n",
    "- [ ] Belgium\n",
    "- [ ] Croatia\n",
    "- [ ] Czech Republic\n",
    "- [ ] Denmark\n",
    "- [x],[x] Estonia\n",
    "- [ ] Finland\n",
    "- [ ] France\n",
    "- [ ] Germany\n",
    "- [ ] Greece"
   ]
  },
  {
   "cell_type": "code",
   "execution_count": 18,
   "metadata": {},
   "outputs": [],
   "source": [
    "from serpapi import GoogleSearch\n",
    "from dotenv import load_dotenv\n",
    "import json\n",
    "import os\n",
    "\n",
    "load_dotenv()\n",
    "api_key = os.getenv(\"API_KEY\")"
   ]
  },
  {
   "cell_type": "code",
   "execution_count": null,
   "metadata": {},
   "outputs": [],
   "source": [
    "search = GoogleSearch({\n",
    "    \"engine\": \"google_jobs\",\n",
    "    \"q\": \"Android developer\", \n",
    "    \"location\": \"Estonia\",\n",
    "    \"api_key\": api_key\n",
    "  })\n",
    "result = search.get_dict()"
   ]
  },
  {
   "cell_type": "code",
   "execution_count": 16,
   "metadata": {},
   "outputs": [],
   "source": [
    "# Укажите путь к файлу, куда вы хотите сохранить JSON\n",
    "file_path = r\"Test\\Belgium.json\"  # Например: \"data/output.json\"\n",
    "\n",
    "# Сохранение JSON в файл\n",
    "with open(file_path, \"w\", encoding=\"utf-8\") as file:\n",
    "    json.dump(result, file, ensure_ascii=False, indent=4)\n",
    "\n",
    "\n"
   ]
  }
 ],
 "metadata": {
  "kernelspec": {
   "display_name": "base",
   "language": "python",
   "name": "python3"
  },
  "language_info": {
   "codemirror_mode": {
    "name": "ipython",
    "version": 3
   },
   "file_extension": ".py",
   "mimetype": "text/x-python",
   "name": "python",
   "nbconvert_exporter": "python",
   "pygments_lexer": "ipython3",
   "version": "3.12.4"
  }
 },
 "nbformat": 4,
 "nbformat_minor": 2
}
